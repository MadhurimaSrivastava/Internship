{
 "cells": [
  {
   "cell_type": "markdown",
   "id": "56f7d79a",
   "metadata": {},
   "source": [
    "# Q-11. Write a python program to find the factorial of a number."
   ]
  },
  {
   "cell_type": "code",
   "execution_count": 2,
   "id": "ab4ca1dc",
   "metadata": {},
   "outputs": [
    {
     "name": "stdout",
     "output_type": "stream",
     "text": [
      "Enter a number: 10\n",
      "Factorial of the given number is: 3628800\n"
     ]
    }
   ],
   "source": [
    "#Answer# Method1\n",
    "\n",
    "n = int(input (\"Enter a number: \"))\n",
    "x = 1\n",
    "if n >= 1:\n",
    "    for i in range (1, n+1):\n",
    "        x = x*i\n",
    "print(\"Factorial of the given number is:\", x)"
   ]
  },
  {
   "cell_type": "code",
   "execution_count": 4,
   "id": "f71b55c4",
   "metadata": {},
   "outputs": [
    {
     "name": "stdout",
     "output_type": "stream",
     "text": [
      "The factorial of 10 is 3628800\n"
     ]
    }
   ],
   "source": [
    "#Answer# Method2\n",
    "\n",
    "def factorial(y):\n",
    "    if y == 1:\n",
    "        return 1\n",
    "    else:\n",
    "        return (y * factorial(y-1))\n",
    "num = 10\n",
    "result = factorial(num)\n",
    "print(\"The factorial of\", num, \"is\", result)"
   ]
  },
  {
   "cell_type": "markdown",
   "id": "904ff179",
   "metadata": {},
   "source": [
    "# Q12. Write a python program to find whether a number is prime or composite."
   ]
  },
  {
   "cell_type": "code",
   "execution_count": 7,
   "id": "6ced9a1e",
   "metadata": {},
   "outputs": [
    {
     "name": "stdout",
     "output_type": "stream",
     "text": [
      "Enter any number:8\n",
      "8 is a composite number\n"
     ]
    }
   ],
   "source": [
    "# Answer\n",
    "\n",
    "n= int(input(\"Enter any number:\"))\n",
    "if n>1 :\n",
    "    for i in range(2,n):\n",
    "        if(n%i == 0):\n",
    "            print(n,\"is a composite number\")\n",
    "            break\n",
    "    else:\n",
    "        print(n,\"is a prime number\")"
   ]
  },
  {
   "cell_type": "markdown",
   "id": "9721bc50",
   "metadata": {},
   "source": [
    "# Q13. Write a python program to check whether a given string is palindrome or not."
   ]
  },
  {
   "cell_type": "code",
   "execution_count": 14,
   "id": "2214bcf3",
   "metadata": {},
   "outputs": [
    {
     "name": "stdout",
     "output_type": "stream",
     "text": [
      "Enter string: radar\n",
      "radar is palindrome\n"
     ]
    }
   ],
   "source": [
    "# Answer\n",
    "\n",
    "n= str(input(\"Enter string: \"))\n",
    "\n",
    "a=n[-1::-1]\n",
    "if n==a:\n",
    "    print(n,\"is palindrome\")\n",
    "\n",
    "else:\n",
    "    print(n,'is not palindrome')"
   ]
  },
  {
   "cell_type": "markdown",
   "id": "cb3286a5",
   "metadata": {},
   "source": [
    "# Q14. Write a Python program to get the third side of right-angled triangle from two given sides."
   ]
  },
  {
   "cell_type": "code",
   "execution_count": 15,
   "id": "14062a45",
   "metadata": {},
   "outputs": [
    {
     "name": "stdout",
     "output_type": "stream",
     "text": [
      "Enter side1: 3\n",
      "Enter side2: 5\n",
      "side3 = 5.830951894845301\n"
     ]
    }
   ],
   "source": [
    "import math\n",
    "\n",
    "a = float(input(\"Enter side1: \"))\n",
    "b = float(input(\"Enter side2: \"))\n",
    "\n",
    "c = math.sqrt(a ** 2 + b ** 2)\n",
    "\n",
    "print(\"side3 =\", c)"
   ]
  },
  {
   "cell_type": "markdown",
   "id": "e5af6cb9",
   "metadata": {},
   "source": [
    "# Q15. Write a python program to print the frequency of each of the characters present in a given string."
   ]
  },
  {
   "cell_type": "code",
   "execution_count": 5,
   "id": "d963c01b",
   "metadata": {},
   "outputs": [
    {
     "name": "stdout",
     "output_type": "stream",
     "text": [
      "Enter string = madhurima\n",
      "Count of all characters :\n",
      " {'m': 2, 'a': 2, 'd': 1, 'h': 1, 'u': 1, 'r': 1, 'i': 1}\n"
     ]
    }
   ],
   "source": [
    "a = str(input(\"Enter string = \"))\n",
    "string = {}\n",
    "  \n",
    "for i in a:\n",
    "    if i in string:\n",
    "        string[i] += 1\n",
    "    else:\n",
    "        string[i] = 1\n",
    "print (\"Count of all characters :\\n \" +  str(string))"
   ]
  },
  {
   "cell_type": "code",
   "execution_count": null,
   "id": "6ff731d8",
   "metadata": {},
   "outputs": [],
   "source": []
  }
 ],
 "metadata": {
  "kernelspec": {
   "display_name": "Python 3 (ipykernel)",
   "language": "python",
   "name": "python3"
  },
  "language_info": {
   "codemirror_mode": {
    "name": "ipython",
    "version": 3
   },
   "file_extension": ".py",
   "mimetype": "text/x-python",
   "name": "python",
   "nbconvert_exporter": "python",
   "pygments_lexer": "ipython3",
   "version": "3.9.7"
  }
 },
 "nbformat": 4,
 "nbformat_minor": 5
}
