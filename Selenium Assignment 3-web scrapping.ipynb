{
 "cells": [
  {
   "cell_type": "markdown",
   "id": "a2cc5fa3",
   "metadata": {},
   "source": [
    "1-Write a python program which searches all the product under a particular product from www.amazon.in. The product to be searched will be taken as input from user. For e.g. If user input is ‘guitar’. Then search for guitars"
   ]
  },
  {
   "cell_type": "code",
   "execution_count": 2,
   "id": "91783aa3",
   "metadata": {},
   "outputs": [],
   "source": [
    "import selenium\n",
    "import pandas as pd\n",
    "from selenium import webdriver\n",
    "from selenium.common.exceptions import NoSuchElementException\n",
    "import time\n",
    "from selenium.webdriver.common.by import By\n",
    "import warnings\n",
    "warnings.filterwarnings('ignore')\n",
    "import requests"
   ]
  },
  {
   "cell_type": "code",
   "execution_count": 3,
   "id": "092154a1",
   "metadata": {},
   "outputs": [
    {
     "name": "stderr",
     "output_type": "stream",
     "text": [
      "C:\\Users\\Lenovo\\AppData\\Local\\Temp/ipykernel_4124/3599263720.py:2: DeprecationWarning: executable_path has been deprecated, please pass in a Service object\n",
      "  driver=webdriver.Chrome(r\"C:\\Users\\Lenovo\\Downloads\\chromedriver_win32\\chromedriver.exe\")\n"
     ]
    },
    {
     "name": "stdout",
     "output_type": "stream",
     "text": [
      "Enter the title of Product you are interest in search :guitar\n"
     ]
    }
   ],
   "source": [
    "#connecting to the webdriver\n",
    "driver=webdriver.Chrome(r\"C:\\Users\\Lenovo\\Downloads\\chromedriver_win32\\chromedriver.exe\")\n",
    "time.sleep(2)\n",
    "\n",
    "# Opening Amazon.in in chrome browser\n",
    "url='http://www.amazon.in/'\n",
    "driver.get(url)\n",
    "time.sleep(2)\n",
    "\n",
    "# Taking input from user about product search\n",
    "User_input=input('Enter the title of Product you are interest in search :')"
   ]
  },
  {
   "cell_type": "code",
   "execution_count": 7,
   "id": "4fa6278c",
   "metadata": {},
   "outputs": [],
   "source": [
    "# Finding search menu by xpath\n",
    "Search=driver.find_element(By.XPATH,'//input[@id=\"twotabsearchtextbox\"]')\n",
    "# clearing any previous input in search bar\n",
    "Search.clear()\n",
    "# Feeding input specified by user to search menu through send keys\n",
    "Search.send_keys(User_input)\n",
    "# Finding Search button for clicking through xpath\n",
    "Search_button=driver.find_element(By.XPATH,'//input[@id=\"nav-search-submit-button\"]')\n",
    "# Clicking search button\n",
    "Search_button.click()"
   ]
  },
  {
   "cell_type": "code",
   "execution_count": 10,
   "id": "9af8bdef",
   "metadata": {},
   "outputs": [],
   "source": [
    "URL= []\n",
    "# range(0,3) used to scrape three pages on website\n",
    "for page in range(0,3):\n",
    "    url=driver.find_elements(By.XPATH,'//a[@class=\"a-link-normal s-underline-text s-underline-link-text s-link-style a-text-normal\"]')\n",
    "    for i in url:\n",
    "        URL.append(i.get_attribute('href'))\n",
    "    time.sleep(2)\n",
    "    # locating next page button and clicking\n",
    "    Nxt_page=driver.find_element(By.XPATH,'//a[@class=\"s-pagination-item s-pagination-next s-pagination-button s-pagination-separator\"]')\n",
    "    Nxt_page.click()\n",
    "    time.sleep(3)"
   ]
  },
  {
   "cell_type": "code",
   "execution_count": 11,
   "id": "83bc8035",
   "metadata": {},
   "outputs": [
    {
     "data": {
      "text/plain": [
       "170"
      ]
     },
     "execution_count": 11,
     "metadata": {},
     "output_type": "execute_result"
    }
   ],
   "source": [
    "len(URL)"
   ]
  },
  {
   "cell_type": "code",
   "execution_count": 13,
   "id": "41308c13",
   "metadata": {},
   "outputs": [
    {
     "name": "stderr",
     "output_type": "stream",
     "text": [
      "100%|████████████████████████████████████████████████████████████████████████████████| 170/170 [59:42<00:00, 21.07s/it]\n"
     ]
    }
   ],
   "source": [
    "Brand=[]\n",
    "Product=[]\n",
    "Price=[]\n",
    "Return=[]\n",
    "Expected_delivery=[]\n",
    "Availability=[]\n",
    "\n",
    "from tqdm import tqdm\n",
    "for i in tqdm(URL):\n",
    "    driver.get(i)\n",
    "    time.sleep(2)\n",
    "    \n",
    "    # Extracting Brand Name via Xpath\n",
    "    try:\n",
    "        brand=driver.find_element(By.XPATH,'//a[@id=\"bylineInfo\"]')\n",
    "        Brand.append(brand.text) \n",
    "    except NoSuchElementException:\n",
    "        Brand.append('-')\n",
    "        \n",
    "    time.sleep(1)\n",
    "    \n",
    "    # Extracting product name via Xpath\n",
    "    try:\n",
    "        product =driver.find_element(By.XPATH,'//span[@id=\"productTitle\"]')\n",
    "        Product.append(product.text)\n",
    "    except NoSuchElementException:\n",
    "        Product.append('-')\n",
    "    time.sleep(1)\n",
    "    \n",
    "    \n",
    "    # Extracting Price via Xpath\n",
    "    try:\n",
    "        price=driver.find_element(By.XPATH,'//span[@id=\"priceblock_dealprice\"]')\n",
    "        Price.append(price.text)\n",
    "    except NoSuchElementException:\n",
    "        Price.append('-')\n",
    "    time.sleep(1)\n",
    "    \n",
    "    # Extracting Return or exchange detail via Xpath\n",
    "    try:\n",
    "        replacement=driver.find_element(By.XPATH,'//*[@id=\"RETURNS_POLICY\"]/span/div[2]/a')\n",
    "        Return.append(replacement.text)\n",
    "    except NoSuchElementException:\n",
    "        Return.append('-')\n",
    "    time.sleep(1)\n",
    "    \n",
    "    # Extracting Expected Delivery via Xpath\n",
    "    try:\n",
    "        delivery=driver.find_element(By.XPATH,'//div[@id=\"ddmDeliveryMessage\"]/b')\n",
    "        Expected_delivery.append(delivery.text)\n",
    "    except NoSuchElementException:\n",
    "        Expected_delivery.append('-')\n",
    "    time.sleep(1)\n",
    "    \n",
    "    # Extracting Availability via Xath\n",
    "    try:\n",
    "        availability=driver.find_element(By.XPATH,'//span[@class=\"a-size-medium a-color-success\"]')\n",
    "        Availability.append(availability.text)\n",
    "    except NoSuchElementException:\n",
    "        Availability.append('-')\n",
    "    time.sleep(1)\n",
    "    "
   ]
  },
  {
   "cell_type": "code",
   "execution_count": 14,
   "id": "9a894870",
   "metadata": {},
   "outputs": [
    {
     "data": {
      "text/html": [
       "<div>\n",
       "<style scoped>\n",
       "    .dataframe tbody tr th:only-of-type {\n",
       "        vertical-align: middle;\n",
       "    }\n",
       "\n",
       "    .dataframe tbody tr th {\n",
       "        vertical-align: top;\n",
       "    }\n",
       "\n",
       "    .dataframe thead th {\n",
       "        text-align: right;\n",
       "    }\n",
       "</style>\n",
       "<table border=\"1\" class=\"dataframe\">\n",
       "  <thead>\n",
       "    <tr style=\"text-align: right;\">\n",
       "      <th></th>\n",
       "      <th>Brand</th>\n",
       "      <th>Product</th>\n",
       "      <th>Price</th>\n",
       "      <th>Return/Exchange</th>\n",
       "      <th>Expected Delivery</th>\n",
       "      <th>Availability</th>\n",
       "      <th>URL</th>\n",
       "    </tr>\n",
       "  </thead>\n",
       "  <tbody>\n",
       "    <tr>\n",
       "      <th>0</th>\n",
       "      <td>Visit the Kadence Store</td>\n",
       "      <td>Kadence Frontier Series, Acoustic Guitar With/...</td>\n",
       "      <td>-</td>\n",
       "      <td>7 Days Replacement</td>\n",
       "      <td>-</td>\n",
       "      <td>In stock.</td>\n",
       "      <td>https://www.amazon.in/sspa/click?ie=UTF8&amp;spc=M...</td>\n",
       "    </tr>\n",
       "    <tr>\n",
       "      <th>1</th>\n",
       "      <td>Brand: FESTRA</td>\n",
       "      <td>Festra 38C, 38 Inch Acoustic Guitar Kit with B...</td>\n",
       "      <td>-</td>\n",
       "      <td>7 Days Replacement</td>\n",
       "      <td>-</td>\n",
       "      <td>In stock.</td>\n",
       "      <td>https://www.amazon.in/sspa/click?ie=UTF8&amp;spc=M...</td>\n",
       "    </tr>\n",
       "    <tr>\n",
       "      <th>2</th>\n",
       "      <td>Visit the Gum-Tea Store</td>\n",
       "      <td>Acoustic Guitar, 39 Inch Cutaway, 039C with Ba...</td>\n",
       "      <td>-</td>\n",
       "      <td>Non-Returnable</td>\n",
       "      <td>-</td>\n",
       "      <td>Only 2 left in stock.</td>\n",
       "      <td>https://www.amazon.in/sspa/click?ie=UTF8&amp;spc=M...</td>\n",
       "    </tr>\n",
       "    <tr>\n",
       "      <th>3</th>\n",
       "      <td>Visit the VAULT Store</td>\n",
       "      <td>Vault EA40 41 inch Premium Solid Spruce-Top Cu...</td>\n",
       "      <td>-</td>\n",
       "      <td>7 Days Replacement</td>\n",
       "      <td>-</td>\n",
       "      <td>In stock.</td>\n",
       "      <td>https://www.amazon.in/sspa/click?ie=UTF8&amp;spc=M...</td>\n",
       "    </tr>\n",
       "    <tr>\n",
       "      <th>4</th>\n",
       "      <td>Visit the JUAREZ Store</td>\n",
       "      <td>Juârez Acoustic Guitar, 38 Inch Cutaway, 038C ...</td>\n",
       "      <td>-</td>\n",
       "      <td>7 Days Replacement</td>\n",
       "      <td>-</td>\n",
       "      <td>In stock.</td>\n",
       "      <td>https://www.amazon.in/Juarez-Acoustic-Cutaway-...</td>\n",
       "    </tr>\n",
       "    <tr>\n",
       "      <th>...</th>\n",
       "      <td>...</td>\n",
       "      <td>...</td>\n",
       "      <td>...</td>\n",
       "      <td>...</td>\n",
       "      <td>...</td>\n",
       "      <td>...</td>\n",
       "      <td>...</td>\n",
       "    </tr>\n",
       "    <tr>\n",
       "      <th>165</th>\n",
       "      <td>Brand: KETOSTICS</td>\n",
       "      <td>Ketostics Givson Venus Special Guitar Combo Ac...</td>\n",
       "      <td>-</td>\n",
       "      <td>7 Days Replacement</td>\n",
       "      <td>-</td>\n",
       "      <td>In stock.</td>\n",
       "      <td>https://www.amazon.in/Ketostics-Special-Acoust...</td>\n",
       "    </tr>\n",
       "    <tr>\n",
       "      <th>166</th>\n",
       "      <td>Visit the JUAREZ Store</td>\n",
       "      <td>JUAREZ Arpeggio Guitar JRA41SP-RD-K, red</td>\n",
       "      <td>-</td>\n",
       "      <td>7 Days Replacement</td>\n",
       "      <td>-</td>\n",
       "      <td>In stock.</td>\n",
       "      <td>https://www.amazon.in/JUAREZ-Arpeggio-Guitar-J...</td>\n",
       "    </tr>\n",
       "    <tr>\n",
       "      <th>167</th>\n",
       "      <td>Brand: Fender</td>\n",
       "      <td>FENDER CD60SCE-BLK Dreadnought Solid Spruce To...</td>\n",
       "      <td>-</td>\n",
       "      <td>7 Days Replacement</td>\n",
       "      <td>-</td>\n",
       "      <td>In stock.</td>\n",
       "      <td>https://www.amazon.in/FENDER-CD60SCE-BLK-Dread...</td>\n",
       "    </tr>\n",
       "    <tr>\n",
       "      <th>168</th>\n",
       "      <td>Brand: Fender</td>\n",
       "      <td>Fender 0930307021 SA-105CE Dreadnought Cutaway...</td>\n",
       "      <td>-</td>\n",
       "      <td>7 Days Replacement</td>\n",
       "      <td>-</td>\n",
       "      <td>In stock.</td>\n",
       "      <td>https://www.amazon.in/Fender-0930307021-SA-105...</td>\n",
       "    </tr>\n",
       "    <tr>\n",
       "      <th>169</th>\n",
       "      <td>Visit the Intern Store</td>\n",
       "      <td>INTERN 41 inches Cutaway Shape Acoustic Guitar...</td>\n",
       "      <td>-</td>\n",
       "      <td>7 Days Replacement</td>\n",
       "      <td>-</td>\n",
       "      <td></td>\n",
       "      <td>https://www.amazon.in/Acoustic-plectrums-stabi...</td>\n",
       "    </tr>\n",
       "  </tbody>\n",
       "</table>\n",
       "<p>170 rows × 7 columns</p>\n",
       "</div>"
      ],
      "text/plain": [
       "                       Brand  \\\n",
       "0    Visit the Kadence Store   \n",
       "1              Brand: FESTRA   \n",
       "2    Visit the Gum-Tea Store   \n",
       "3      Visit the VAULT Store   \n",
       "4     Visit the JUAREZ Store   \n",
       "..                       ...   \n",
       "165         Brand: KETOSTICS   \n",
       "166   Visit the JUAREZ Store   \n",
       "167            Brand: Fender   \n",
       "168            Brand: Fender   \n",
       "169   Visit the Intern Store   \n",
       "\n",
       "                                               Product Price  \\\n",
       "0    Kadence Frontier Series, Acoustic Guitar With/...     -   \n",
       "1    Festra 38C, 38 Inch Acoustic Guitar Kit with B...     -   \n",
       "2    Acoustic Guitar, 39 Inch Cutaway, 039C with Ba...     -   \n",
       "3    Vault EA40 41 inch Premium Solid Spruce-Top Cu...     -   \n",
       "4    Juârez Acoustic Guitar, 38 Inch Cutaway, 038C ...     -   \n",
       "..                                                 ...   ...   \n",
       "165  Ketostics Givson Venus Special Guitar Combo Ac...     -   \n",
       "166           JUAREZ Arpeggio Guitar JRA41SP-RD-K, red     -   \n",
       "167  FENDER CD60SCE-BLK Dreadnought Solid Spruce To...     -   \n",
       "168  Fender 0930307021 SA-105CE Dreadnought Cutaway...     -   \n",
       "169  INTERN 41 inches Cutaway Shape Acoustic Guitar...     -   \n",
       "\n",
       "        Return/Exchange Expected Delivery           Availability  \\\n",
       "0    7 Days Replacement                 -              In stock.   \n",
       "1    7 Days Replacement                 -              In stock.   \n",
       "2        Non-Returnable                 -  Only 2 left in stock.   \n",
       "3    7 Days Replacement                 -              In stock.   \n",
       "4    7 Days Replacement                 -              In stock.   \n",
       "..                  ...               ...                    ...   \n",
       "165  7 Days Replacement                 -              In stock.   \n",
       "166  7 Days Replacement                 -              In stock.   \n",
       "167  7 Days Replacement                 -              In stock.   \n",
       "168  7 Days Replacement                 -              In stock.   \n",
       "169  7 Days Replacement                 -                          \n",
       "\n",
       "                                                   URL  \n",
       "0    https://www.amazon.in/sspa/click?ie=UTF8&spc=M...  \n",
       "1    https://www.amazon.in/sspa/click?ie=UTF8&spc=M...  \n",
       "2    https://www.amazon.in/sspa/click?ie=UTF8&spc=M...  \n",
       "3    https://www.amazon.in/sspa/click?ie=UTF8&spc=M...  \n",
       "4    https://www.amazon.in/Juarez-Acoustic-Cutaway-...  \n",
       "..                                                 ...  \n",
       "165  https://www.amazon.in/Ketostics-Special-Acoust...  \n",
       "166  https://www.amazon.in/JUAREZ-Arpeggio-Guitar-J...  \n",
       "167  https://www.amazon.in/FENDER-CD60SCE-BLK-Dread...  \n",
       "168  https://www.amazon.in/Fender-0930307021-SA-105...  \n",
       "169  https://www.amazon.in/Acoustic-plectrums-stabi...  \n",
       "\n",
       "[170 rows x 7 columns]"
      ]
     },
     "execution_count": 14,
     "metadata": {},
     "output_type": "execute_result"
    }
   ],
   "source": [
    "Guitar=pd.DataFrame({'Brand':Brand,'Product':Product,'Price':Price,'Return/Exchange':Return,'Expected Delivery':Expected_delivery,'Availability':Availability,'URL':URL})\n",
    "Guitar"
   ]
  },
  {
   "cell_type": "markdown",
   "id": "c855d27d",
   "metadata": {},
   "source": [
    "3. Write a python program to access the search bar and search button on images.google.com and scrape 100 images each for keywords ‘fruits’, ‘cars’ and ‘Machine Learning’."
   ]
  },
  {
   "cell_type": "code",
   "execution_count": 18,
   "id": "93f5a702",
   "metadata": {},
   "outputs": [
    {
     "data": {
      "text/plain": [
       "<selenium.webdriver.chrome.webdriver.WebDriver (session=\"713bf80215af4d156fb153e2bc1417e4\")>"
      ]
     },
     "execution_count": 18,
     "metadata": {},
     "output_type": "execute_result"
    }
   ],
   "source": [
    "driver= webdriver.Chrome(r\"C:\\Users\\Lenovo\\Downloads\\chromedriver_win32\\chromedriver.exe\")\n",
    "driver"
   ]
  },
  {
   "cell_type": "code",
   "execution_count": 19,
   "id": "a5550ab4",
   "metadata": {},
   "outputs": [],
   "source": [
    "url=driver.get('https://images.google.com/')\n",
    "url"
   ]
  },
  {
   "cell_type": "code",
   "execution_count": 21,
   "id": "3f8f66f2",
   "metadata": {},
   "outputs": [],
   "source": [
    "Search=driver.find_element(By.XPATH,'//input[@class=\"gLFyf gsfi\"]')\n",
    "Search.clear()\n",
    "\n",
    "Search.send_keys('fruits')\n",
    "Search_button=driver.find_element(By.CLASS_NAME,'zgAlFc')\n",
    "Search_button.click()"
   ]
  },
  {
   "cell_type": "code",
   "execution_count": 29,
   "id": "82d5b38e",
   "metadata": {},
   "outputs": [],
   "source": [
    "driver.execute_script(\"window.scrollBy(0,75000)\",\"\")"
   ]
  },
  {
   "cell_type": "code",
   "execution_count": 30,
   "id": "7b1d9eb1",
   "metadata": {},
   "outputs": [],
   "source": [
    "URL=[]\n",
    "images= driver.find_elements(By.XPATH,'//img[@class=\"rg_i Q4LuWd\"]')\n",
    "for image in images:\n",
    "    source= image.get_attribute('src')\n",
    "    if source is not None:\n",
    "        if(source[0:4] == 'http'):\n",
    "            URL.append(source)"
   ]
  },
  {
   "cell_type": "code",
   "execution_count": 31,
   "id": "b0e6d35e",
   "metadata": {},
   "outputs": [
    {
     "data": {
      "text/plain": [
       "130"
      ]
     },
     "execution_count": 31,
     "metadata": {},
     "output_type": "execute_result"
    }
   ],
   "source": [
    "len(URL)"
   ]
  },
  {
   "cell_type": "code",
   "execution_count": 32,
   "id": "bb64135b",
   "metadata": {},
   "outputs": [
    {
     "name": "stdout",
     "output_type": "stream",
     "text": [
      "Downloading 0 of 100 images\n",
      "Downloading 1 of 100 images\n",
      "Downloading 2 of 100 images\n",
      "Downloading 3 of 100 images\n",
      "Downloading 4 of 100 images\n",
      "Downloading 5 of 100 images\n",
      "Downloading 6 of 100 images\n",
      "Downloading 7 of 100 images\n",
      "Downloading 8 of 100 images\n",
      "Downloading 9 of 100 images\n",
      "Downloading 10 of 100 images\n",
      "Downloading 11 of 100 images\n",
      "Downloading 12 of 100 images\n",
      "Downloading 13 of 100 images\n",
      "Downloading 14 of 100 images\n",
      "Downloading 15 of 100 images\n",
      "Downloading 16 of 100 images\n",
      "Downloading 17 of 100 images\n",
      "Downloading 18 of 100 images\n",
      "Downloading 19 of 100 images\n",
      "Downloading 20 of 100 images\n",
      "Downloading 21 of 100 images\n",
      "Downloading 22 of 100 images\n",
      "Downloading 23 of 100 images\n",
      "Downloading 24 of 100 images\n",
      "Downloading 25 of 100 images\n",
      "Downloading 26 of 100 images\n",
      "Downloading 27 of 100 images\n",
      "Downloading 28 of 100 images\n",
      "Downloading 29 of 100 images\n",
      "Downloading 30 of 100 images\n",
      "Downloading 31 of 100 images\n",
      "Downloading 32 of 100 images\n",
      "Downloading 33 of 100 images\n",
      "Downloading 34 of 100 images\n",
      "Downloading 35 of 100 images\n",
      "Downloading 36 of 100 images\n",
      "Downloading 37 of 100 images\n",
      "Downloading 38 of 100 images\n",
      "Downloading 39 of 100 images\n",
      "Downloading 40 of 100 images\n",
      "Downloading 41 of 100 images\n",
      "Downloading 42 of 100 images\n",
      "Downloading 43 of 100 images\n",
      "Downloading 44 of 100 images\n",
      "Downloading 45 of 100 images\n",
      "Downloading 46 of 100 images\n",
      "Downloading 47 of 100 images\n",
      "Downloading 48 of 100 images\n",
      "Downloading 49 of 100 images\n",
      "Downloading 50 of 100 images\n",
      "Downloading 51 of 100 images\n",
      "Downloading 52 of 100 images\n",
      "Downloading 53 of 100 images\n",
      "Downloading 54 of 100 images\n",
      "Downloading 55 of 100 images\n",
      "Downloading 56 of 100 images\n",
      "Downloading 57 of 100 images\n",
      "Downloading 58 of 100 images\n",
      "Downloading 59 of 100 images\n",
      "Downloading 60 of 100 images\n",
      "Downloading 61 of 100 images\n",
      "Downloading 62 of 100 images\n",
      "Downloading 63 of 100 images\n",
      "Downloading 64 of 100 images\n",
      "Downloading 65 of 100 images\n",
      "Downloading 66 of 100 images\n",
      "Downloading 67 of 100 images\n",
      "Downloading 68 of 100 images\n",
      "Downloading 69 of 100 images\n",
      "Downloading 70 of 100 images\n",
      "Downloading 71 of 100 images\n",
      "Downloading 72 of 100 images\n",
      "Downloading 73 of 100 images\n",
      "Downloading 74 of 100 images\n",
      "Downloading 75 of 100 images\n",
      "Downloading 76 of 100 images\n",
      "Downloading 77 of 100 images\n",
      "Downloading 78 of 100 images\n",
      "Downloading 79 of 100 images\n",
      "Downloading 80 of 100 images\n",
      "Downloading 81 of 100 images\n",
      "Downloading 82 of 100 images\n",
      "Downloading 83 of 100 images\n",
      "Downloading 84 of 100 images\n",
      "Downloading 85 of 100 images\n",
      "Downloading 86 of 100 images\n",
      "Downloading 87 of 100 images\n",
      "Downloading 88 of 100 images\n",
      "Downloading 89 of 100 images\n",
      "Downloading 90 of 100 images\n",
      "Downloading 91 of 100 images\n",
      "Downloading 92 of 100 images\n",
      "Downloading 93 of 100 images\n",
      "Downloading 94 of 100 images\n",
      "Downloading 95 of 100 images\n",
      "Downloading 96 of 100 images\n",
      "Downloading 97 of 100 images\n",
      "Downloading 98 of 100 images\n",
      "Downloading 99 of 100 images\n"
     ]
    }
   ],
   "source": [
    "images = driver.find_elements(By.XPATH,'//img[@class=\"rg_i Q4LuWd\"]')\n",
    "\n",
    "img_urls = []\n",
    "img_data = []\n",
    "for image in images:\n",
    "    source= image.get_attribute('src')\n",
    "    if source is not None:\n",
    "        if(source[0:4] == 'http'):\n",
    "            img_urls.append(source)\n",
    "            \n",
    "for i in range(len(img_urls)):\n",
    "    if i >= 100:\n",
    "        break\n",
    "    print(\"Downloading {0} of {1} images\" .format(i, 100))"
   ]
  },
  {
   "cell_type": "code",
   "execution_count": 34,
   "id": "97e592d5",
   "metadata": {},
   "outputs": [
    {
     "data": {
      "text/plain": [
       "<selenium.webdriver.chrome.webdriver.WebDriver (session=\"81418fb670b5be879da4778ec4c6c3e4\")>"
      ]
     },
     "execution_count": 34,
     "metadata": {},
     "output_type": "execute_result"
    }
   ],
   "source": [
    "driver= webdriver.Chrome(r\"C:\\Users\\Lenovo\\Downloads\\chromedriver_win32\\chromedriver.exe\")\n",
    "driver"
   ]
  },
  {
   "cell_type": "code",
   "execution_count": 35,
   "id": "4ec74ecb",
   "metadata": {},
   "outputs": [],
   "source": [
    "url=driver.get('https://images.google.com/')\n",
    "url"
   ]
  },
  {
   "cell_type": "code",
   "execution_count": 37,
   "id": "ba059fd2",
   "metadata": {},
   "outputs": [],
   "source": [
    "Search=driver.find_element(By.XPATH,'//input[@class=\"gLFyf gsfi\"]')\n",
    "Search.clear()\n",
    "\n",
    "Search.send_keys('Cars')\n",
    "Search_button=driver.find_element(By.CLASS_NAME,'zgAlFc')\n",
    "Search_button.click()"
   ]
  },
  {
   "cell_type": "code",
   "execution_count": 44,
   "id": "d6759e64",
   "metadata": {},
   "outputs": [],
   "source": [
    "driver.execute_script(\"window.scrollBy(0,150000)\",\"\")"
   ]
  },
  {
   "cell_type": "code",
   "execution_count": 45,
   "id": "19747362",
   "metadata": {},
   "outputs": [],
   "source": [
    "URL=[]\n",
    "images= driver.find_elements(By.XPATH,'//img[@class=\"rg_i Q4LuWd\"]')\n",
    "for image in images:\n",
    "    source= image.get_attribute('src')\n",
    "    if source is not None:\n",
    "        if(source[0:4] == 'http'):\n",
    "            URL.append(source)"
   ]
  },
  {
   "cell_type": "code",
   "execution_count": 46,
   "id": "cf2fdf44",
   "metadata": {},
   "outputs": [
    {
     "data": {
      "text/plain": [
       "119"
      ]
     },
     "execution_count": 46,
     "metadata": {},
     "output_type": "execute_result"
    }
   ],
   "source": [
    "len(URL)"
   ]
  },
  {
   "cell_type": "code",
   "execution_count": 47,
   "id": "513fdd12",
   "metadata": {},
   "outputs": [
    {
     "name": "stdout",
     "output_type": "stream",
     "text": [
      "Downloading 0 of 100 images\n",
      "Downloading 1 of 100 images\n",
      "Downloading 2 of 100 images\n",
      "Downloading 3 of 100 images\n",
      "Downloading 4 of 100 images\n",
      "Downloading 5 of 100 images\n",
      "Downloading 6 of 100 images\n",
      "Downloading 7 of 100 images\n",
      "Downloading 8 of 100 images\n",
      "Downloading 9 of 100 images\n",
      "Downloading 10 of 100 images\n",
      "Downloading 11 of 100 images\n",
      "Downloading 12 of 100 images\n",
      "Downloading 13 of 100 images\n",
      "Downloading 14 of 100 images\n",
      "Downloading 15 of 100 images\n",
      "Downloading 16 of 100 images\n",
      "Downloading 17 of 100 images\n",
      "Downloading 18 of 100 images\n",
      "Downloading 19 of 100 images\n",
      "Downloading 20 of 100 images\n",
      "Downloading 21 of 100 images\n",
      "Downloading 22 of 100 images\n",
      "Downloading 23 of 100 images\n",
      "Downloading 24 of 100 images\n",
      "Downloading 25 of 100 images\n",
      "Downloading 26 of 100 images\n",
      "Downloading 27 of 100 images\n",
      "Downloading 28 of 100 images\n",
      "Downloading 29 of 100 images\n",
      "Downloading 30 of 100 images\n",
      "Downloading 31 of 100 images\n",
      "Downloading 32 of 100 images\n",
      "Downloading 33 of 100 images\n",
      "Downloading 34 of 100 images\n",
      "Downloading 35 of 100 images\n",
      "Downloading 36 of 100 images\n",
      "Downloading 37 of 100 images\n",
      "Downloading 38 of 100 images\n",
      "Downloading 39 of 100 images\n",
      "Downloading 40 of 100 images\n",
      "Downloading 41 of 100 images\n",
      "Downloading 42 of 100 images\n",
      "Downloading 43 of 100 images\n",
      "Downloading 44 of 100 images\n",
      "Downloading 45 of 100 images\n",
      "Downloading 46 of 100 images\n",
      "Downloading 47 of 100 images\n",
      "Downloading 48 of 100 images\n",
      "Downloading 49 of 100 images\n",
      "Downloading 50 of 100 images\n",
      "Downloading 51 of 100 images\n",
      "Downloading 52 of 100 images\n",
      "Downloading 53 of 100 images\n",
      "Downloading 54 of 100 images\n",
      "Downloading 55 of 100 images\n",
      "Downloading 56 of 100 images\n",
      "Downloading 57 of 100 images\n",
      "Downloading 58 of 100 images\n",
      "Downloading 59 of 100 images\n",
      "Downloading 60 of 100 images\n",
      "Downloading 61 of 100 images\n",
      "Downloading 62 of 100 images\n",
      "Downloading 63 of 100 images\n",
      "Downloading 64 of 100 images\n",
      "Downloading 65 of 100 images\n",
      "Downloading 66 of 100 images\n",
      "Downloading 67 of 100 images\n",
      "Downloading 68 of 100 images\n",
      "Downloading 69 of 100 images\n",
      "Downloading 70 of 100 images\n",
      "Downloading 71 of 100 images\n",
      "Downloading 72 of 100 images\n",
      "Downloading 73 of 100 images\n",
      "Downloading 74 of 100 images\n",
      "Downloading 75 of 100 images\n",
      "Downloading 76 of 100 images\n",
      "Downloading 77 of 100 images\n",
      "Downloading 78 of 100 images\n",
      "Downloading 79 of 100 images\n",
      "Downloading 80 of 100 images\n",
      "Downloading 81 of 100 images\n",
      "Downloading 82 of 100 images\n",
      "Downloading 83 of 100 images\n",
      "Downloading 84 of 100 images\n",
      "Downloading 85 of 100 images\n",
      "Downloading 86 of 100 images\n",
      "Downloading 87 of 100 images\n",
      "Downloading 88 of 100 images\n",
      "Downloading 89 of 100 images\n",
      "Downloading 90 of 100 images\n",
      "Downloading 91 of 100 images\n",
      "Downloading 92 of 100 images\n",
      "Downloading 93 of 100 images\n",
      "Downloading 94 of 100 images\n",
      "Downloading 95 of 100 images\n",
      "Downloading 96 of 100 images\n",
      "Downloading 97 of 100 images\n",
      "Downloading 98 of 100 images\n",
      "Downloading 99 of 100 images\n"
     ]
    }
   ],
   "source": [
    "images = driver.find_elements(By.XPATH,'//img[@class=\"rg_i Q4LuWd\"]')\n",
    "\n",
    "img_urls = []\n",
    "img_data = []\n",
    "for image in images:\n",
    "    source= image.get_attribute('src')\n",
    "    if source is not None:\n",
    "        if(source[0:4] == 'http'):\n",
    "            img_urls.append(source)\n",
    "            \n",
    "for i in range(len(img_urls)):\n",
    "    if i >= 100:\n",
    "        break\n",
    "    print(\"Downloading {0} of {1} images\" .format(i, 100))"
   ]
  },
  {
   "cell_type": "code",
   "execution_count": 48,
   "id": "31d7e43d",
   "metadata": {},
   "outputs": [
    {
     "data": {
      "text/plain": [
       "<selenium.webdriver.chrome.webdriver.WebDriver (session=\"acadb1feced094985e835c2facabb772\")>"
      ]
     },
     "execution_count": 48,
     "metadata": {},
     "output_type": "execute_result"
    }
   ],
   "source": [
    "driver= webdriver.Chrome(r\"C:\\Users\\Lenovo\\Downloads\\chromedriver_win32\\chromedriver.exe\")\n",
    "driver"
   ]
  },
  {
   "cell_type": "code",
   "execution_count": 49,
   "id": "7f9e4caf",
   "metadata": {},
   "outputs": [],
   "source": [
    "url=('https://images.google.com/')\n",
    "driver.get(url)"
   ]
  },
  {
   "cell_type": "code",
   "execution_count": 50,
   "id": "c50914f0",
   "metadata": {},
   "outputs": [],
   "source": [
    "Search=driver.find_element(By.XPATH,'//input[@class=\"gLFyf gsfi\"]')\n",
    "Search.clear()\n",
    "\n",
    "Search.send_keys('Machine learning')\n",
    "Search_button=driver.find_element(By.CLASS_NAME,'zgAlFc')\n",
    "Search_button.click()"
   ]
  },
  {
   "cell_type": "code",
   "execution_count": 51,
   "id": "636ef302",
   "metadata": {},
   "outputs": [],
   "source": [
    "driver.execute_script(\"window.scrollBy(0,150000)\",\"\")"
   ]
  },
  {
   "cell_type": "code",
   "execution_count": 52,
   "id": "aab23a70",
   "metadata": {},
   "outputs": [
    {
     "data": {
      "text/plain": [
       "119"
      ]
     },
     "execution_count": 52,
     "metadata": {},
     "output_type": "execute_result"
    }
   ],
   "source": [
    "len(URL)"
   ]
  },
  {
   "cell_type": "code",
   "execution_count": 53,
   "id": "b120071e",
   "metadata": {},
   "outputs": [
    {
     "name": "stdout",
     "output_type": "stream",
     "text": [
      "Downloading 0 of 100 images\n",
      "Downloading 1 of 100 images\n",
      "Downloading 2 of 100 images\n",
      "Downloading 3 of 100 images\n",
      "Downloading 4 of 100 images\n",
      "Downloading 5 of 100 images\n",
      "Downloading 6 of 100 images\n",
      "Downloading 7 of 100 images\n",
      "Downloading 8 of 100 images\n",
      "Downloading 9 of 100 images\n",
      "Downloading 10 of 100 images\n",
      "Downloading 11 of 100 images\n",
      "Downloading 12 of 100 images\n",
      "Downloading 13 of 100 images\n",
      "Downloading 14 of 100 images\n",
      "Downloading 15 of 100 images\n",
      "Downloading 16 of 100 images\n",
      "Downloading 17 of 100 images\n",
      "Downloading 18 of 100 images\n",
      "Downloading 19 of 100 images\n",
      "Downloading 20 of 100 images\n",
      "Downloading 21 of 100 images\n",
      "Downloading 22 of 100 images\n",
      "Downloading 23 of 100 images\n",
      "Downloading 24 of 100 images\n",
      "Downloading 25 of 100 images\n",
      "Downloading 26 of 100 images\n",
      "Downloading 27 of 100 images\n",
      "Downloading 28 of 100 images\n",
      "Downloading 29 of 100 images\n",
      "Downloading 30 of 100 images\n",
      "Downloading 31 of 100 images\n",
      "Downloading 32 of 100 images\n",
      "Downloading 33 of 100 images\n"
     ]
    }
   ],
   "source": [
    "images = driver.find_elements(By.XPATH,'//img[@class=\"rg_i Q4LuWd\"]')\n",
    "\n",
    "img_urls = []\n",
    "img_data = []\n",
    "for image in images:\n",
    "    source= image.get_attribute('src')\n",
    "    if source is not None:\n",
    "        if(source[0:4] == 'http'):\n",
    "            img_urls.append(source)\n",
    "            \n",
    "for i in range(len(img_urls)):\n",
    "    if i >= 100:\n",
    "        break\n",
    "    print(\"Downloading {0} of {1} images\" .format(i, 100))"
   ]
  },
  {
   "cell_type": "markdown",
   "id": "f51e1be0",
   "metadata": {},
   "source": [
    "4-Write a python program to search for a smartphone(e.g.: Oneplus Nord, pixel 4A, etc.) on www.flipkart.com and scrape following details for all the search results displayed on 1st page. Details to be scraped: “Brand Name”, “Smartphone name”, “Colour”, “RAM”, “Storage(ROM)”, “Primary Camera”, “Secondary Camera”, “Display Size”, “Display Resolution”, “Processor”, “Processor Cores”, “Battery Capacity”, “Price”, “Product URL”. Incase if any"
   ]
  },
  {
   "cell_type": "code",
   "execution_count": 160,
   "id": "a8d429a3",
   "metadata": {},
   "outputs": [
    {
     "data": {
      "text/plain": [
       "<selenium.webdriver.chrome.webdriver.WebDriver (session=\"180afe5866bd6f71628eca0f9f17efaa\")>"
      ]
     },
     "execution_count": 160,
     "metadata": {},
     "output_type": "execute_result"
    }
   ],
   "source": [
    "driver= webdriver.Chrome(r\"C:\\Users\\Lenovo\\Downloads\\chromedriver_win32\\chromedriver.exe\")\n",
    "driver"
   ]
  },
  {
   "cell_type": "code",
   "execution_count": 161,
   "id": "5d10213a",
   "metadata": {},
   "outputs": [],
   "source": [
    "url=driver.get(\"http://www.flipkart.com/\")\n",
    "url"
   ]
  },
  {
   "cell_type": "code",
   "execution_count": 162,
   "id": "a571bd5d",
   "metadata": {},
   "outputs": [],
   "source": [
    "Product_name= driver.find_element(By.CLASS_NAME,\"_3704LK\")\n",
    "Product_name.send_keys('smart phones')"
   ]
  },
  {
   "cell_type": "code",
   "execution_count": 164,
   "id": "94117070",
   "metadata": {},
   "outputs": [],
   "source": [
    "Search=driver.find_element(By.CLASS_NAME,\"L0Z3Pu\")\n",
    "Search.click()"
   ]
  },
  {
   "cell_type": "code",
   "execution_count": 165,
   "id": "c3ec0884",
   "metadata": {},
   "outputs": [],
   "source": [
    "Brand =[]\n",
    "Smartphone =[]\n",
    "Colour =[]\n",
    "Storage_Rom =[]\n",
    "Primary_camera=[]\n",
    "Secondary_camera=[]\n",
    "Display_size=[]\n",
    "Display_resolution=[]\n",
    "Processor =[]\n",
    "Processor_cores=[]\n",
    "Battery_capacity=[]\n",
    "Price =[]"
   ]
  },
  {
   "cell_type": "code",
   "execution_count": 166,
   "id": "1ecbdf87",
   "metadata": {},
   "outputs": [],
   "source": [
    "URL=[]\n",
    "url=driver.find_elements(By.XPATH,'//a[@class=\"_1fQZEK\"]')\n",
    "for i in url:\n",
    "    Href=i.get_attribute('href')\n",
    "    URL.append(Href)"
   ]
  },
  {
   "cell_type": "code",
   "execution_count": 167,
   "id": "4b07d22b",
   "metadata": {},
   "outputs": [
    {
     "data": {
      "text/plain": [
       "24"
      ]
     },
     "execution_count": 167,
     "metadata": {},
     "output_type": "execute_result"
    }
   ],
   "source": [
    "len(URL)"
   ]
  },
  {
   "cell_type": "code",
   "execution_count": 168,
   "id": "c9ab0f6c",
   "metadata": {
    "scrolled": true
   },
   "outputs": [
    {
     "name": "stderr",
     "output_type": "stream",
     "text": [
      "100%|██████████████████████████████████████████████████████████████████████████████████| 24/24 [05:45<00:00, 14.39s/it]\n"
     ]
    }
   ],
   "source": [
    "from tqdm import tqdm\n",
    "for i in tqdm(URL):\n",
    "    driver.get(i)\n",
    "    time.sleep(3)\n",
    "    \n",
    "    # Expanding specification table by clicking on read more button\n",
    "    try:\n",
    "        Read_more=driver.find_element(By.XPATH,'//button[@class=\"_2KpZ6l _1FH0tX\"]')\n",
    "        Read_more.click()\n",
    "        \n",
    "    except NoSuchElementException:\n",
    "        print('NoSuchElementException Occur')\n",
    "        pass\n",
    "    \n",
    "    # Extracting Brand Name via Xpath\n",
    "    try:\n",
    "        brand=driver.find_element(By.XPATH,'//span[@class=\"B_NuCI\"]')\n",
    "        Brand.append(brand.text.split()[0])\n",
    "    \n",
    "    except NoSuchElementException:\n",
    "        Brand.append('-')\n",
    "        \n",
    "    # Extracting Smartphone Model via Xpath\n",
    "    try:\n",
    "        smartphone=driver.find_element(By.XPATH,'//div[@class=\"_3k-BhJ\"][1]/table/tbody/tr[3]/td[2]/ul/li')\n",
    "        Smartphone.append(smartphone.text)\n",
    "    \n",
    "    except NoSuchElementException:\n",
    "        Smartphone.append('-')\n",
    "        \n",
    "    # Extracting Colour via Xpath\n",
    "    try:\n",
    "        colour=driver.find_element(By.XPATH,'//div[@class=\"_3k-BhJ\"][1]/table/tbody/tr[4]/td[2]/ul/li')\n",
    "        Colour.append(colour.text)\n",
    "    \n",
    "    except NoSuchElementException:\n",
    "        Colour.append('-')\n",
    "    \n",
    "    # Extracting Storage Rom via Xpath\n",
    "    try:\n",
    "        Rom=driver.find_element(By.XPATH,'//div[@class=\"_3k-BhJ\"][4]/table/tbody/tr[1]/td[2]/ul/li')\n",
    "        Storage_Rom.append(Rom.text)\n",
    "        \n",
    "    except NoSuchElementException:\n",
    "        Storage_Rom.append('Not Mention')\n",
    "        \n",
    "    # Extracting primary camera detail via Xpath\n",
    "    try:\n",
    "        primary_camera=driver.find_element(By.XPATH,'//div[@class=\"_3k-BhJ\"][5]/table/tbody/tr[2]/td[2]/ul/li')\n",
    "        Primary_camera.append(primary_camera.text)\n",
    "    \n",
    "    except NoSuchElementException:\n",
    "        Primary_camera.append('Not Mention')\n",
    "        \n",
    "    # Extracting Secondary Camera detail via Xpath\n",
    "    try:\n",
    "        secondary_cam=driver.find_element(By.XPATH,'//div[@class=\"_3k-BhJ\"][5]/table/tbody/tr[5]/td[2]/ul/li')\n",
    "        Secondary_camera.append(secondary_cam.text)\n",
    "    \n",
    "    except NoSuchElementException:\n",
    "        Secondary_camera.append('Not Mention')\n",
    "    \n",
    "    # Extracting Display size via Xpath\n",
    "    try:\n",
    "        display=driver.find_element(By.XPATH,'//div[@class=\"_3k-BhJ\"][2]/table/tbody/tr[1]/td[2]/ul/li')\n",
    "        Display_size.append(display.text)\n",
    "    except NoSuchElementException:\n",
    "        Display_size.append('-')\n",
    "    \n",
    "    # Extracting Display Resolution via Xpath\n",
    "    try:\n",
    "        resolution=driver.find_element(By.XPATH,'//div[@class=\"_3k-BhJ\"][2]/table/tbody/tr[2]/td[2]/ul/li')\n",
    "        Display_resolution.append(resolution.text)\n",
    "    except NoSuchElementException:\n",
    "        Display_resolution.append('-')\n",
    "    \n",
    "    # Extracting processor detail via xpath\n",
    "    try:\n",
    "        processor=driver.find_element(By.XPATH,'//div[@class=\"_3k-BhJ\"][3]/table/tbody/tr[2]/td[2]/ul/li')\n",
    "        Processor.append(processor.text)\n",
    "    \n",
    "    except NoSuchElementException:\n",
    "        Processor.append('-')\n",
    "        \n",
    "    # Extracting Processor core via xpath\n",
    "    try:\n",
    "        core=driver.find_element(By.XPATH,'//div[@class=\"_3k-BhJ\"][3]/table/tbody/tr[3]/td[2]/ul/li')\n",
    "        Processor_cores.append(core.text)\n",
    "    except NoSuchElementException:\n",
    "        Processor_cores.append('Not Mention')\n",
    "    \n",
    "   "
   ]
  },
  {
   "cell_type": "code",
   "execution_count": 174,
   "id": "ef4c186b",
   "metadata": {},
   "outputs": [
    {
     "data": {
      "text/plain": [
       "(24, 24, 24, 24, 24, 24, 24, 24, 24)"
      ]
     },
     "execution_count": 174,
     "metadata": {},
     "output_type": "execute_result"
    }
   ],
   "source": [
    "len(Brand),len(Smartphone),len(Colour),len(Storage_Rom),len(Primary_camera),len(Display_size),len(Display_resolution),len(Processor),len(Processor_cores)"
   ]
  },
  {
   "cell_type": "code",
   "execution_count": 175,
   "id": "86d7bc8c",
   "metadata": {},
   "outputs": [
    {
     "data": {
      "text/html": [
       "<div>\n",
       "<style scoped>\n",
       "    .dataframe tbody tr th:only-of-type {\n",
       "        vertical-align: middle;\n",
       "    }\n",
       "\n",
       "    .dataframe tbody tr th {\n",
       "        vertical-align: top;\n",
       "    }\n",
       "\n",
       "    .dataframe thead th {\n",
       "        text-align: right;\n",
       "    }\n",
       "</style>\n",
       "<table border=\"1\" class=\"dataframe\">\n",
       "  <thead>\n",
       "    <tr style=\"text-align: right;\">\n",
       "      <th></th>\n",
       "      <th>Brand</th>\n",
       "      <th>Smartphone</th>\n",
       "      <th>Colour</th>\n",
       "      <th>Storage Rom</th>\n",
       "      <th>Primary Camera</th>\n",
       "      <th>Display Size</th>\n",
       "      <th>Display Resolution</th>\n",
       "      <th>Processor</th>\n",
       "      <th>Processor Cores</th>\n",
       "    </tr>\n",
       "  </thead>\n",
       "  <tbody>\n",
       "    <tr>\n",
       "      <th>0</th>\n",
       "      <td>SAMSUNG</td>\n",
       "      <td>Galaxy F22</td>\n",
       "      <td>Denim Black</td>\n",
       "      <td>64 GB</td>\n",
       "      <td>48MP + 8MP + 2MP + 2MP</td>\n",
       "      <td>16.26 cm (6.4 inch)</td>\n",
       "      <td>1600 x 720 Pixels</td>\n",
       "      <td>MediaTek Helio G80</td>\n",
       "      <td>Octa Core</td>\n",
       "    </tr>\n",
       "    <tr>\n",
       "      <th>1</th>\n",
       "      <td>SAMSUNG</td>\n",
       "      <td>Galaxy F22</td>\n",
       "      <td>Denim Blue</td>\n",
       "      <td>64 GB</td>\n",
       "      <td>48MP + 8MP + 2MP + 2MP</td>\n",
       "      <td>16.26 cm (6.4 inch)</td>\n",
       "      <td>1600 x 720 Pixels</td>\n",
       "      <td>MediaTek Helio G80</td>\n",
       "      <td>Octa Core</td>\n",
       "    </tr>\n",
       "    <tr>\n",
       "      <th>2</th>\n",
       "      <td>SAMSUNG</td>\n",
       "      <td>Galaxy F22</td>\n",
       "      <td>Denim Blue</td>\n",
       "      <td>128 GB</td>\n",
       "      <td>48MP + 8MP + 2MP + 2MP</td>\n",
       "      <td>16.26 cm (6.4 inch)</td>\n",
       "      <td>1600 x 720 Pixels</td>\n",
       "      <td>MediaTek Helio G80</td>\n",
       "      <td>Octa Core</td>\n",
       "    </tr>\n",
       "    <tr>\n",
       "      <th>3</th>\n",
       "      <td>APPLE</td>\n",
       "      <td>-</td>\n",
       "      <td>-</td>\n",
       "      <td>iOS 14.2</td>\n",
       "      <td>Not Mention</td>\n",
       "      <td>iPhone, USB-C to Lightning Cable, Documentation</td>\n",
       "      <td>MHDJ3HN/A</td>\n",
       "      <td>1792 x 828 Pixels</td>\n",
       "      <td>Liquid Retina HD Display</td>\n",
       "    </tr>\n",
       "    <tr>\n",
       "      <th>4</th>\n",
       "      <td>realme</td>\n",
       "      <td>C21Y</td>\n",
       "      <td>Cross Black</td>\n",
       "      <td>64 GB</td>\n",
       "      <td>13MP + 2MP + 2MP</td>\n",
       "      <td>16.51 cm (6.5 inch)</td>\n",
       "      <td>1600 x 720 Pixels</td>\n",
       "      <td>Unisoc T610</td>\n",
       "      <td>Octa Core</td>\n",
       "    </tr>\n",
       "  </tbody>\n",
       "</table>\n",
       "</div>"
      ],
      "text/plain": [
       "     Brand  Smartphone       Colour Storage Rom          Primary Camera  \\\n",
       "0  SAMSUNG  Galaxy F22  Denim Black       64 GB  48MP + 8MP + 2MP + 2MP   \n",
       "1  SAMSUNG  Galaxy F22   Denim Blue       64 GB  48MP + 8MP + 2MP + 2MP   \n",
       "2  SAMSUNG  Galaxy F22   Denim Blue      128 GB  48MP + 8MP + 2MP + 2MP   \n",
       "3    APPLE           -            -    iOS 14.2             Not Mention   \n",
       "4   realme        C21Y  Cross Black       64 GB        13MP + 2MP + 2MP   \n",
       "\n",
       "                                      Display Size Display Resolution  \\\n",
       "0                              16.26 cm (6.4 inch)  1600 x 720 Pixels   \n",
       "1                              16.26 cm (6.4 inch)  1600 x 720 Pixels   \n",
       "2                              16.26 cm (6.4 inch)  1600 x 720 Pixels   \n",
       "3  iPhone, USB-C to Lightning Cable, Documentation          MHDJ3HN/A   \n",
       "4                              16.51 cm (6.5 inch)  1600 x 720 Pixels   \n",
       "\n",
       "            Processor           Processor Cores  \n",
       "0  MediaTek Helio G80                 Octa Core  \n",
       "1  MediaTek Helio G80                 Octa Core  \n",
       "2  MediaTek Helio G80                 Octa Core  \n",
       "3   1792 x 828 Pixels  Liquid Retina HD Display  \n",
       "4         Unisoc T610                 Octa Core  "
      ]
     },
     "execution_count": 175,
     "metadata": {},
     "output_type": "execute_result"
    }
   ],
   "source": [
    "smart_phones=pd.DataFrame({'Brand':Brand,'Smartphone':Smartphone,'Colour':Colour,\n",
    "                        'Storage Rom':Storage_Rom,'Primary Camera':Primary_camera,'Display Size':Display_size,\n",
    "                        'Display Resolution':Display_resolution,'Processor':Processor,'Processor Cores':Processor_cores})\n",
    "smart_phones.head()"
   ]
  },
  {
   "cell_type": "markdown",
   "id": "6ce488aa",
   "metadata": {},
   "source": [
    "5. Write a program to scrap geospatial coordinates (latitude, longitude) of a city searched on google maps."
   ]
  },
  {
   "cell_type": "code",
   "execution_count": 79,
   "id": "45161544",
   "metadata": {},
   "outputs": [
    {
     "data": {
      "text/plain": [
       "<selenium.webdriver.chrome.webdriver.WebDriver (session=\"05199b5cb4988a4c658b402f8666af11\")>"
      ]
     },
     "execution_count": 79,
     "metadata": {},
     "output_type": "execute_result"
    }
   ],
   "source": [
    "driver= webdriver.Chrome(r\"C:\\Users\\Lenovo\\Downloads\\chromedriver_win32\\chromedriver.exe\")\n",
    "driver"
   ]
  },
  {
   "cell_type": "code",
   "execution_count": 80,
   "id": "91c16cdb",
   "metadata": {},
   "outputs": [],
   "source": [
    "url=driver.get('https://www.google.co.in/maps')\n",
    "url"
   ]
  },
  {
   "cell_type": "code",
   "execution_count": 81,
   "id": "7974e0ab",
   "metadata": {},
   "outputs": [],
   "source": [
    "Search=driver.find_element(By.ID,\"searchboxinput\") \n",
    "Search.clear()\n",
    "\n",
    "\n",
    "Search.send_keys('Mumbai')\n",
    "Search_button=driver.find_element(By.ID,\"searchbox-searchbutton\")  \n",
    "Search_button.click()"
   ]
  },
  {
   "cell_type": "code",
   "execution_count": 82,
   "id": "df6c2db2",
   "metadata": {},
   "outputs": [
    {
     "name": "stdout",
     "output_type": "stream",
     "text": [
      "Current url : https://www.google.co.in/maps/place/Mumbai,+Maharashtra/@19.082039,72.6009713,10z/data=!3m1!4b1!4m5!3m4!1s0x3be7c6306644edc1:0x5da4ed8f8d648c69!8m2!3d19.0759837!4d72.8776559\n"
     ]
    }
   ],
   "source": [
    "current_url=driver.current_url\n",
    "print('Current url :',current_url)"
   ]
  },
  {
   "cell_type": "code",
   "execution_count": 83,
   "id": "50dfe43b",
   "metadata": {},
   "outputs": [
    {
     "name": "stdout",
     "output_type": "stream",
     "text": [
      "Latitude of given Location: 19.082039\n",
      "Longitude of given Location: 72.6009713\n"
     ]
    }
   ],
   "source": [
    "try:\n",
    "    if \"@\" in current_url:\n",
    "        location=current_url.split('@')[1].split(',*/data')[0].split(',')\n",
    "        location\n",
    "        print('Latitude of given Location:',location[0])\n",
    "        print('Longitude of given Location:',location[1])\n",
    "except:\n",
    "    print('Location detail not found in url')"
   ]
  },
  {
   "cell_type": "markdown",
   "id": "325e9f53",
   "metadata": {},
   "source": [
    "6. Write a program to scrap details of all the funding deals for second quarter (i.e. July 20 –September 20) from trak.in."
   ]
  },
  {
   "cell_type": "code",
   "execution_count": 84,
   "id": "d8d2f050",
   "metadata": {},
   "outputs": [
    {
     "data": {
      "text/plain": [
       "<selenium.webdriver.chrome.webdriver.WebDriver (session=\"3e708674c2c9da72a151fcc9745a33e2\")>"
      ]
     },
     "execution_count": 84,
     "metadata": {},
     "output_type": "execute_result"
    }
   ],
   "source": [
    "driver= webdriver.Chrome(r\"C:\\Users\\Lenovo\\Downloads\\chromedriver_win32\\chromedriver.exe\")\n",
    "driver"
   ]
  },
  {
   "cell_type": "code",
   "execution_count": 85,
   "id": "4e90935b",
   "metadata": {},
   "outputs": [],
   "source": [
    "url=driver.get('https://www.trak.in')\n",
    "url"
   ]
  },
  {
   "cell_type": "code",
   "execution_count": 86,
   "id": "8aba878c",
   "metadata": {},
   "outputs": [],
   "source": [
    "# Clicking funding deals button\n",
    "Funding_deals=driver.find_element(By.XPATH,'//li[@id=\"menu-item-51510\"]/a').get_attribute('href')\n",
    "driver.get(Funding_deals)"
   ]
  },
  {
   "cell_type": "code",
   "execution_count": 87,
   "id": "d4845a71",
   "metadata": {},
   "outputs": [],
   "source": [
    "# Making Empty list to scrap data\n",
    "Date=[]\n",
    "Startup=[]\n",
    "Industry=[]\n",
    "Sub_vertical=[]\n",
    "City=[]\n",
    "Investor=[]\n",
    "Investment_type=[]\n",
    "Amount=[]"
   ]
  },
  {
   "cell_type": "code",
   "execution_count": 88,
   "id": "3a6fa59a",
   "metadata": {},
   "outputs": [
    {
     "name": "stderr",
     "output_type": "stream",
     "text": [
      "100%|████████████████████████████████████████████████████████████████████████████████████| 3/3 [00:13<00:00,  4.40s/it]\n"
     ]
    }
   ],
   "source": [
    "from tqdm import tqdm\n",
    "for i in tqdm(range(48,51)):\n",
    "    # Extracting Date from table\n",
    "    try:\n",
    "        date=driver.find_elements(By.XPATH,'//table[@id=\"tablepress-{}\"]/tbody/tr/td[2]'.format(i))\n",
    "        for j in date:\n",
    "            Date.append(j.text)\n",
    "    except:\n",
    "        Date.append('NA')\n",
    "        \n",
    "    # Extracting startup name via xpath\n",
    "    try:\n",
    "        startup=driver.find_elements(By.XPATH,'//table[@id=\"tablepress-{}\"]/tbody/tr/td[3]'.format(i))\n",
    "        for j in startup:\n",
    "            Startup.append(j.text)\n",
    "    except:\n",
    "        Startup.append('NA')\n",
    "    \n",
    "    # Extracting Industry vertical via Xpath\n",
    "    try:\n",
    "        industry=driver.find_elements(By.XPATH,'//table[@id=\"tablepress-{}\"]/tbody/tr/td[4]'.format(i))\n",
    "        for j in industry:\n",
    "            Industry.append(j.text)\n",
    "    except:\n",
    "        Industry.append('NA')\n",
    "    \n",
    "    # Extracting subvertical via xpath\n",
    "    try:\n",
    "        subvertical=driver.find_elements(By.XPATH,'//table[@id=\"tablepress-{}\"]/tbody/tr/td[5]'.format(i))\n",
    "        for j in subvertical:\n",
    "            Sub_vertical.append(j.text)\n",
    "    except:\n",
    "        Sub_vertical.append('NA')\n",
    "    \n",
    "    # Extracting city/location via xpath\n",
    "    try:\n",
    "        city=driver.find_elements(By.XPATH,'//table[@id=\"tablepress-{}\"]/tbody/tr/td[6]'.format(i))\n",
    "        for j in city:\n",
    "            City.append(j.text)\n",
    "    except:\n",
    "        City.append('NA')\n",
    "        \n",
    "    # Extracting Investor via xpath\n",
    "    try:\n",
    "        investor=driver.find_elements(By.XPATH,'//table[@id=\"tablepress-{}\"]/tbody/tr/td[7]'.format(i))\n",
    "        for j in investor:\n",
    "            Investor.append(j.text)\n",
    "    except:\n",
    "        Investor.append('NA')\n",
    "        \n",
    "    # Extracting Investment type via xpath\n",
    "    try:\n",
    "        investment_type=driver.find_elements(By.XPATH,'//table[@id=\"tablepress-{}\"]/tbody/tr/td[8]'.format(i))\n",
    "        for j in investment_type:\n",
    "            Investment_type.append(j.text)\n",
    "    except:\n",
    "        Investment_type.append('NA')\n",
    "        \n",
    "    # Extracting Amount type via xpath\n",
    "    try:\n",
    "        amount=driver.find_elements(By.XPATH,'//table[@id=\"tablepress-{}\"]/tbody/tr/td[9]'.format(i))\n",
    "        for j in amount:\n",
    "            Amount.append(j.text)\n",
    "    except:\n",
    "        Amount.append('NA')"
   ]
  },
  {
   "cell_type": "code",
   "execution_count": 89,
   "id": "827c7157",
   "metadata": {},
   "outputs": [
    {
     "name": "stdout",
     "output_type": "stream",
     "text": [
      "\u001b[1mFunding deals in second quarter (i.e. July 20 –September 20) :\u001b[0m\n"
     ]
    },
    {
     "data": {
      "text/html": [
       "<div>\n",
       "<style scoped>\n",
       "    .dataframe tbody tr th:only-of-type {\n",
       "        vertical-align: middle;\n",
       "    }\n",
       "\n",
       "    .dataframe tbody tr th {\n",
       "        vertical-align: top;\n",
       "    }\n",
       "\n",
       "    .dataframe thead th {\n",
       "        text-align: right;\n",
       "    }\n",
       "</style>\n",
       "<table border=\"1\" class=\"dataframe\">\n",
       "  <thead>\n",
       "    <tr style=\"text-align: right;\">\n",
       "      <th></th>\n",
       "      <th>Date</th>\n",
       "      <th>Startup Company</th>\n",
       "      <th>Industry/Vertical</th>\n",
       "      <th>Sub-Vertical</th>\n",
       "      <th>City</th>\n",
       "      <th>Investor</th>\n",
       "      <th>Investment Type</th>\n",
       "      <th>Amount</th>\n",
       "    </tr>\n",
       "  </thead>\n",
       "  <tbody>\n",
       "    <tr>\n",
       "      <th>0</th>\n",
       "      <td>15/07/2020</td>\n",
       "      <td>Flipkart</td>\n",
       "      <td>E-commerce</td>\n",
       "      <td>E-commerce</td>\n",
       "      <td>Bangalore</td>\n",
       "      <td>Walmart Inc</td>\n",
       "      <td>M&amp;A</td>\n",
       "      <td>1,200,000,000</td>\n",
       "    </tr>\n",
       "    <tr>\n",
       "      <th>1</th>\n",
       "      <td>16/07/2020</td>\n",
       "      <td>Vedantu</td>\n",
       "      <td>EduTech</td>\n",
       "      <td>Online Tutoring</td>\n",
       "      <td>Bangalore</td>\n",
       "      <td>Coatue Management</td>\n",
       "      <td>Series D</td>\n",
       "      <td>100,000,000</td>\n",
       "    </tr>\n",
       "    <tr>\n",
       "      <th>2</th>\n",
       "      <td>16/07/2020</td>\n",
       "      <td>Crio</td>\n",
       "      <td>EduTech</td>\n",
       "      <td>Learning Platform for Developers</td>\n",
       "      <td>Bangalore</td>\n",
       "      <td>021 Capital</td>\n",
       "      <td>pre-Series A</td>\n",
       "      <td>934,160</td>\n",
       "    </tr>\n",
       "    <tr>\n",
       "      <th>3</th>\n",
       "      <td>14/07/2020</td>\n",
       "      <td>goDutch</td>\n",
       "      <td>FinTech</td>\n",
       "      <td>Group Payments</td>\n",
       "      <td>Mumbai</td>\n",
       "      <td>Matrix India,Y Combinator, Global Founders Cap...</td>\n",
       "      <td>Seed</td>\n",
       "      <td>1,700,000</td>\n",
       "    </tr>\n",
       "    <tr>\n",
       "      <th>4</th>\n",
       "      <td>13/07/2020</td>\n",
       "      <td>Mystifly</td>\n",
       "      <td>Airfare Marketplace</td>\n",
       "      <td>Ticketing, Airline Retailing, and Post-Ticketi...</td>\n",
       "      <td>Singapore and Bangalore</td>\n",
       "      <td>Recruit Co. Ltd.</td>\n",
       "      <td>pre-Series B</td>\n",
       "      <td>3,300,000</td>\n",
       "    </tr>\n",
       "    <tr>\n",
       "      <th>5</th>\n",
       "      <td>09/07/2020</td>\n",
       "      <td>JetSynthesys</td>\n",
       "      <td>Gaming and Entertainment</td>\n",
       "      <td>Gaming and Entertainment</td>\n",
       "      <td>Pune</td>\n",
       "      <td>Adar Poonawalla and Kris Gopalakrishnan.</td>\n",
       "      <td>Venture-Series Unknown</td>\n",
       "      <td>400,000</td>\n",
       "    </tr>\n",
       "    <tr>\n",
       "      <th>6</th>\n",
       "      <td>10/07/2020</td>\n",
       "      <td>gigIndia</td>\n",
       "      <td>Marketplace</td>\n",
       "      <td>Crowd Sourcing, Freelance</td>\n",
       "      <td>Pune</td>\n",
       "      <td>Incubate Fund India and Beyond Next Ventures</td>\n",
       "      <td>pre-Series A</td>\n",
       "      <td>974,200</td>\n",
       "    </tr>\n",
       "    <tr>\n",
       "      <th>7</th>\n",
       "      <td>15/07/2020</td>\n",
       "      <td>PumPumPum</td>\n",
       "      <td>Automotive Rental</td>\n",
       "      <td>Used Car-leasing platform</td>\n",
       "      <td>Gurgaon</td>\n",
       "      <td>Early Adapters Syndicate</td>\n",
       "      <td>Seed</td>\n",
       "      <td>292,800</td>\n",
       "    </tr>\n",
       "    <tr>\n",
       "      <th>8</th>\n",
       "      <td>14/07/2020</td>\n",
       "      <td>FLYX</td>\n",
       "      <td>OTT Player</td>\n",
       "      <td>Streaming Social Network</td>\n",
       "      <td>New York and Delhi</td>\n",
       "      <td>Raj Mishra, founder of AIT Global Inc</td>\n",
       "      <td>pre-Seed</td>\n",
       "      <td>200,000</td>\n",
       "    </tr>\n",
       "    <tr>\n",
       "      <th>9</th>\n",
       "      <td>13/07/2020</td>\n",
       "      <td>Open Appliances Pvt. Ltd.</td>\n",
       "      <td>Information Technology</td>\n",
       "      <td>Internet-of-Things Security Solutions</td>\n",
       "      <td>Bangalore</td>\n",
       "      <td>Unicorn India Ventures</td>\n",
       "      <td>Venture-Series Unknown</td>\n",
       "      <td>500,000</td>\n",
       "    </tr>\n",
       "    <tr>\n",
       "      <th>10</th>\n",
       "      <td>15/08/2020</td>\n",
       "      <td>Practo</td>\n",
       "      <td>HealthTech</td>\n",
       "      <td>Health care and Wellness</td>\n",
       "      <td>Bangalore</td>\n",
       "      <td>A1A Company</td>\n",
       "      <td>Series F</td>\n",
       "      <td>32,000,000</td>\n",
       "    </tr>\n",
       "    <tr>\n",
       "      <th>11</th>\n",
       "      <td>13/08/2020</td>\n",
       "      <td>Medlife</td>\n",
       "      <td>E-commerce</td>\n",
       "      <td>Online Pharmacy</td>\n",
       "      <td>Bangalore</td>\n",
       "      <td>Prasid Uno Family Trust and SC Credit Fund</td>\n",
       "      <td></td>\n",
       "      <td>23,000,000</td>\n",
       "    </tr>\n",
       "    <tr>\n",
       "      <th>12</th>\n",
       "      <td>13/08/2020</td>\n",
       "      <td>HungerBox</td>\n",
       "      <td>FoodTech</td>\n",
       "      <td>Online Food Delivery Service</td>\n",
       "      <td>Bangalore</td>\n",
       "      <td>One97, Sabre Partners Trust, Pratithi Investme...</td>\n",
       "      <td>Series D1</td>\n",
       "      <td>1,560,000</td>\n",
       "    </tr>\n",
       "    <tr>\n",
       "      <th>13</th>\n",
       "      <td>04/08/2020</td>\n",
       "      <td>Dunzo</td>\n",
       "      <td>Hyper-local Logistics</td>\n",
       "      <td>Online Delivery Services</td>\n",
       "      <td>Bangalore</td>\n",
       "      <td>Existing Backers</td>\n",
       "      <td>In Progress</td>\n",
       "      <td>30,000,000</td>\n",
       "    </tr>\n",
       "    <tr>\n",
       "      <th>14</th>\n",
       "      <td>11/08/2020</td>\n",
       "      <td>Terra.do</td>\n",
       "      <td>EduTech</td>\n",
       "      <td>Online Climate School, E-learning</td>\n",
       "      <td>Stanford, California,</td>\n",
       "      <td>Stanford Angels and Entrepreneurs (India), BEE...</td>\n",
       "      <td>Seed</td>\n",
       "      <td>1,400,000</td>\n",
       "    </tr>\n",
       "    <tr>\n",
       "      <th>15</th>\n",
       "      <td>12/08/2020</td>\n",
       "      <td>Classplus</td>\n",
       "      <td>EduTech</td>\n",
       "      <td>E-learning, Online Tutoring</td>\n",
       "      <td>Noida</td>\n",
       "      <td>Falcon Edge</td>\n",
       "      <td>In Progress</td>\n",
       "      <td>upto 15,000,000</td>\n",
       "    </tr>\n",
       "    <tr>\n",
       "      <th>16</th>\n",
       "      <td>14/08/2020</td>\n",
       "      <td>Niyo</td>\n",
       "      <td>FinTech</td>\n",
       "      <td>Financial Services</td>\n",
       "      <td>Bangalore</td>\n",
       "      <td>Niyo Solutions Inc.</td>\n",
       "      <td></td>\n",
       "      <td>6,000,000</td>\n",
       "    </tr>\n",
       "    <tr>\n",
       "      <th>17</th>\n",
       "      <td>10/08/2020</td>\n",
       "      <td>ZestMoney</td>\n",
       "      <td>FinTech</td>\n",
       "      <td>Financial Services</td>\n",
       "      <td>Bangalore</td>\n",
       "      <td>Primrose Hills Ventures</td>\n",
       "      <td></td>\n",
       "      <td>10,670,000</td>\n",
       "    </tr>\n",
       "    <tr>\n",
       "      <th>18</th>\n",
       "      <td>07/08/2020</td>\n",
       "      <td>FreshToHome</td>\n",
       "      <td>E-commerce</td>\n",
       "      <td>Food Delivery</td>\n",
       "      <td>Bangalore</td>\n",
       "      <td>Ascent Capital</td>\n",
       "      <td>Venture</td>\n",
       "      <td>16,200,000</td>\n",
       "    </tr>\n",
       "    <tr>\n",
       "      <th>19</th>\n",
       "      <td>13/08/2020</td>\n",
       "      <td>Eduvanz</td>\n",
       "      <td>FinTech</td>\n",
       "      <td>Financial Services</td>\n",
       "      <td>Mumbai</td>\n",
       "      <td>Sequoia India, Unitus</td>\n",
       "      <td>Series A</td>\n",
       "      <td>5,000,000</td>\n",
       "    </tr>\n",
       "    <tr>\n",
       "      <th>20</th>\n",
       "      <td>08/09/2020</td>\n",
       "      <td>Byju’s</td>\n",
       "      <td>EduTech</td>\n",
       "      <td>Online Tutoring</td>\n",
       "      <td>Bangalore</td>\n",
       "      <td>Silver Lake, Tiger Global, General Atlantic an...</td>\n",
       "      <td>Private Equity</td>\n",
       "      <td>500,000,000</td>\n",
       "    </tr>\n",
       "    <tr>\n",
       "      <th>21</th>\n",
       "      <td>12/09/2020</td>\n",
       "      <td>mCaffeine</td>\n",
       "      <td>Personal Care</td>\n",
       "      <td>Skincare &amp; Haircare</td>\n",
       "      <td>Mumbai</td>\n",
       "      <td>Amicus Capital Private Equity I LLP, Amicus Ca...</td>\n",
       "      <td>Series B</td>\n",
       "      <td>3,000,000</td>\n",
       "    </tr>\n",
       "    <tr>\n",
       "      <th>22</th>\n",
       "      <td>09/09/2020</td>\n",
       "      <td>Qshala</td>\n",
       "      <td>EduTech</td>\n",
       "      <td>Online Curiosity Platform for Kids</td>\n",
       "      <td>Bangalore</td>\n",
       "      <td>Rainmatter Capital</td>\n",
       "      <td>Angel</td>\n",
       "      <td>370,000</td>\n",
       "    </tr>\n",
       "    <tr>\n",
       "      <th>23</th>\n",
       "      <td>02/09/2020</td>\n",
       "      <td>Winzo</td>\n",
       "      <td>Online Gaming</td>\n",
       "      <td>Online Gaming</td>\n",
       "      <td>New Delhi</td>\n",
       "      <td>Kalaari Capital Partners, IndigoEdge Managemen...</td>\n",
       "      <td>Series B</td>\n",
       "      <td>15,500,000</td>\n",
       "    </tr>\n",
       "    <tr>\n",
       "      <th>24</th>\n",
       "      <td>09/09/2020</td>\n",
       "      <td>Hippo Video</td>\n",
       "      <td>Video Customer Experience(CX) Platform</td>\n",
       "      <td>Video Customer Experience(CX) Platform</td>\n",
       "      <td>Newark, Delaware, United States of Amercia</td>\n",
       "      <td>Alpha Wave Incubation, Exfinity Venture Partne...</td>\n",
       "      <td>Series A</td>\n",
       "      <td>4,500,000</td>\n",
       "    </tr>\n",
       "    <tr>\n",
       "      <th>25</th>\n",
       "      <td>07/09/2020</td>\n",
       "      <td>Melorra</td>\n",
       "      <td>E-commerce</td>\n",
       "      <td>Online Jewelry Store</td>\n",
       "      <td>Bangalore</td>\n",
       "      <td>Shadow Holdings, Lightbox.</td>\n",
       "      <td>Debt Financing</td>\n",
       "      <td>upto 8,900,000</td>\n",
       "    </tr>\n",
       "    <tr>\n",
       "      <th>26</th>\n",
       "      <td>07/09/2020</td>\n",
       "      <td>1mg</td>\n",
       "      <td>E-commerce</td>\n",
       "      <td>Online Pharmacy</td>\n",
       "      <td>Gurgaon</td>\n",
       "      <td>Gaja Capital, Tata Capital, Partners Group</td>\n",
       "      <td>In Progress</td>\n",
       "      <td>100,000,000</td>\n",
       "    </tr>\n",
       "    <tr>\n",
       "      <th>27</th>\n",
       "      <td>31/08/2020</td>\n",
       "      <td>mfine</td>\n",
       "      <td>HealthTech</td>\n",
       "      <td>On-Demand Healthcare Services</td>\n",
       "      <td>Bangalore</td>\n",
       "      <td>Caretech Pte Inc</td>\n",
       "      <td>Series B</td>\n",
       "      <td>5,400,000</td>\n",
       "    </tr>\n",
       "    <tr>\n",
       "      <th>28</th>\n",
       "      <td>31/08/2020</td>\n",
       "      <td>Apna</td>\n",
       "      <td>Human Resources</td>\n",
       "      <td>Recruitment Platform</td>\n",
       "      <td>Bangalore</td>\n",
       "      <td>Lightspeed India and Sequoia Capital India</td>\n",
       "      <td>Series A</td>\n",
       "      <td>8,000,000</td>\n",
       "    </tr>\n",
       "    <tr>\n",
       "      <th>29</th>\n",
       "      <td>03/09/2020</td>\n",
       "      <td>Railofy</td>\n",
       "      <td>Transportation</td>\n",
       "      <td>WL &amp; RAC protection platform</td>\n",
       "      <td>Mumbai</td>\n",
       "      <td>Chiratae Ventures</td>\n",
       "      <td>Seed</td>\n",
       "      <td>950,000</td>\n",
       "    </tr>\n",
       "  </tbody>\n",
       "</table>\n",
       "</div>"
      ],
      "text/plain": [
       "          Date            Startup Company  \\\n",
       "0   15/07/2020                   Flipkart   \n",
       "1   16/07/2020                    Vedantu   \n",
       "2   16/07/2020                       Crio   \n",
       "3   14/07/2020                    goDutch   \n",
       "4   13/07/2020                   Mystifly   \n",
       "5   09/07/2020               JetSynthesys   \n",
       "6   10/07/2020                   gigIndia   \n",
       "7   15/07/2020                  PumPumPum   \n",
       "8   14/07/2020                       FLYX   \n",
       "9   13/07/2020  Open Appliances Pvt. Ltd.   \n",
       "10  15/08/2020                     Practo   \n",
       "11  13/08/2020                    Medlife   \n",
       "12  13/08/2020                  HungerBox   \n",
       "13  04/08/2020                      Dunzo   \n",
       "14  11/08/2020                   Terra.do   \n",
       "15  12/08/2020                  Classplus   \n",
       "16  14/08/2020                       Niyo   \n",
       "17  10/08/2020                  ZestMoney   \n",
       "18  07/08/2020                FreshToHome   \n",
       "19  13/08/2020                    Eduvanz   \n",
       "20  08/09/2020                     Byju’s   \n",
       "21  12/09/2020                  mCaffeine   \n",
       "22  09/09/2020                     Qshala   \n",
       "23  02/09/2020                      Winzo   \n",
       "24  09/09/2020                Hippo Video   \n",
       "25  07/09/2020                    Melorra   \n",
       "26  07/09/2020                        1mg   \n",
       "27  31/08/2020                      mfine   \n",
       "28  31/08/2020                       Apna   \n",
       "29  03/09/2020                    Railofy   \n",
       "\n",
       "                         Industry/Vertical  \\\n",
       "0                               E-commerce   \n",
       "1                                  EduTech   \n",
       "2                                  EduTech   \n",
       "3                                  FinTech   \n",
       "4                      Airfare Marketplace   \n",
       "5                 Gaming and Entertainment   \n",
       "6                              Marketplace   \n",
       "7                        Automotive Rental   \n",
       "8                               OTT Player   \n",
       "9                   Information Technology   \n",
       "10                              HealthTech   \n",
       "11                              E-commerce   \n",
       "12                                FoodTech   \n",
       "13                   Hyper-local Logistics   \n",
       "14                                 EduTech   \n",
       "15                                 EduTech   \n",
       "16                                 FinTech   \n",
       "17                                 FinTech   \n",
       "18                              E-commerce   \n",
       "19                                 FinTech   \n",
       "20                                 EduTech   \n",
       "21                           Personal Care   \n",
       "22                                 EduTech   \n",
       "23                           Online Gaming   \n",
       "24  Video Customer Experience(CX) Platform   \n",
       "25                              E-commerce   \n",
       "26                              E-commerce   \n",
       "27                              HealthTech   \n",
       "28                         Human Resources   \n",
       "29                          Transportation   \n",
       "\n",
       "                                         Sub-Vertical  \\\n",
       "0                                          E-commerce   \n",
       "1                                     Online Tutoring   \n",
       "2                    Learning Platform for Developers   \n",
       "3                                      Group Payments   \n",
       "4   Ticketing, Airline Retailing, and Post-Ticketi...   \n",
       "5                            Gaming and Entertainment   \n",
       "6                           Crowd Sourcing, Freelance   \n",
       "7                           Used Car-leasing platform   \n",
       "8                            Streaming Social Network   \n",
       "9               Internet-of-Things Security Solutions   \n",
       "10                           Health care and Wellness   \n",
       "11                                    Online Pharmacy   \n",
       "12                       Online Food Delivery Service   \n",
       "13                           Online Delivery Services   \n",
       "14                  Online Climate School, E-learning   \n",
       "15                        E-learning, Online Tutoring   \n",
       "16                                 Financial Services   \n",
       "17                                 Financial Services   \n",
       "18                                      Food Delivery   \n",
       "19                                 Financial Services   \n",
       "20                                    Online Tutoring   \n",
       "21                                Skincare & Haircare   \n",
       "22                 Online Curiosity Platform for Kids   \n",
       "23                                      Online Gaming   \n",
       "24             Video Customer Experience(CX) Platform   \n",
       "25                               Online Jewelry Store   \n",
       "26                                    Online Pharmacy   \n",
       "27                      On-Demand Healthcare Services   \n",
       "28                               Recruitment Platform   \n",
       "29                       WL & RAC protection platform   \n",
       "\n",
       "                                          City  \\\n",
       "0                                    Bangalore   \n",
       "1                                    Bangalore   \n",
       "2                                    Bangalore   \n",
       "3                                       Mumbai   \n",
       "4                      Singapore and Bangalore   \n",
       "5                                         Pune   \n",
       "6                                         Pune   \n",
       "7                                      Gurgaon   \n",
       "8                           New York and Delhi   \n",
       "9                                    Bangalore   \n",
       "10                                   Bangalore   \n",
       "11                                   Bangalore   \n",
       "12                                   Bangalore   \n",
       "13                                   Bangalore   \n",
       "14                       Stanford, California,   \n",
       "15                                       Noida   \n",
       "16                                   Bangalore   \n",
       "17                                   Bangalore   \n",
       "18                                   Bangalore   \n",
       "19                                      Mumbai   \n",
       "20                                   Bangalore   \n",
       "21                                      Mumbai   \n",
       "22                                   Bangalore   \n",
       "23                                   New Delhi   \n",
       "24  Newark, Delaware, United States of Amercia   \n",
       "25                                   Bangalore   \n",
       "26                                     Gurgaon   \n",
       "27                                   Bangalore   \n",
       "28                                   Bangalore   \n",
       "29                                      Mumbai   \n",
       "\n",
       "                                             Investor         Investment Type  \\\n",
       "0                                         Walmart Inc                     M&A   \n",
       "1                                   Coatue Management                Series D   \n",
       "2                                         021 Capital            pre-Series A   \n",
       "3   Matrix India,Y Combinator, Global Founders Cap...                    Seed   \n",
       "4                                    Recruit Co. Ltd.            pre-Series B   \n",
       "5            Adar Poonawalla and Kris Gopalakrishnan.  Venture-Series Unknown   \n",
       "6        Incubate Fund India and Beyond Next Ventures            pre-Series A   \n",
       "7                            Early Adapters Syndicate                    Seed   \n",
       "8               Raj Mishra, founder of AIT Global Inc                pre-Seed   \n",
       "9                              Unicorn India Ventures  Venture-Series Unknown   \n",
       "10                                        A1A Company                Series F   \n",
       "11         Prasid Uno Family Trust and SC Credit Fund                           \n",
       "12  One97, Sabre Partners Trust, Pratithi Investme...               Series D1   \n",
       "13                                   Existing Backers             In Progress   \n",
       "14  Stanford Angels and Entrepreneurs (India), BEE...                    Seed   \n",
       "15                                        Falcon Edge             In Progress   \n",
       "16                                Niyo Solutions Inc.                           \n",
       "17                            Primrose Hills Ventures                           \n",
       "18                                     Ascent Capital                 Venture   \n",
       "19                              Sequoia India, Unitus                Series A   \n",
       "20  Silver Lake, Tiger Global, General Atlantic an...          Private Equity   \n",
       "21  Amicus Capital Private Equity I LLP, Amicus Ca...                Series B   \n",
       "22                                 Rainmatter Capital                   Angel   \n",
       "23  Kalaari Capital Partners, IndigoEdge Managemen...                Series B   \n",
       "24  Alpha Wave Incubation, Exfinity Venture Partne...                Series A   \n",
       "25                         Shadow Holdings, Lightbox.          Debt Financing   \n",
       "26         Gaja Capital, Tata Capital, Partners Group             In Progress   \n",
       "27                                   Caretech Pte Inc                Series B   \n",
       "28         Lightspeed India and Sequoia Capital India                Series A   \n",
       "29                                  Chiratae Ventures                    Seed   \n",
       "\n",
       "             Amount  \n",
       "0     1,200,000,000  \n",
       "1       100,000,000  \n",
       "2           934,160  \n",
       "3         1,700,000  \n",
       "4         3,300,000  \n",
       "5           400,000  \n",
       "6           974,200  \n",
       "7           292,800  \n",
       "8           200,000  \n",
       "9           500,000  \n",
       "10       32,000,000  \n",
       "11       23,000,000  \n",
       "12        1,560,000  \n",
       "13       30,000,000  \n",
       "14        1,400,000  \n",
       "15  upto 15,000,000  \n",
       "16        6,000,000  \n",
       "17       10,670,000  \n",
       "18       16,200,000  \n",
       "19        5,000,000  \n",
       "20      500,000,000  \n",
       "21        3,000,000  \n",
       "22          370,000  \n",
       "23       15,500,000  \n",
       "24        4,500,000  \n",
       "25   upto 8,900,000  \n",
       "26      100,000,000  \n",
       "27        5,400,000  \n",
       "28        8,000,000  \n",
       "29          950,000  "
      ]
     },
     "execution_count": 89,
     "metadata": {},
     "output_type": "execute_result"
    }
   ],
   "source": [
    "Funding=pd.DataFrame({'Date':Date,'Startup Company':Startup,'Industry/Vertical':Industry,'Sub-Vertical':Sub_vertical,'City':City,\n",
    "                        'Investor':Investor,'Investment Type':Investment_type,'Amount':Amount})\n",
    "print('\\033[1m'+'Funding deals in second quarter (i.e. July 20 –September 20) :'+'\\033[0m')\n",
    "Funding"
   ]
  },
  {
   "cell_type": "markdown",
   "id": "b1c82ef4",
   "metadata": {},
   "source": [
    "7. Write a program to scrap all the available details of best gaming laptops from digit.in."
   ]
  },
  {
   "cell_type": "code",
   "execution_count": 90,
   "id": "ed82a6f7",
   "metadata": {},
   "outputs": [
    {
     "data": {
      "text/plain": [
       "<selenium.webdriver.chrome.webdriver.WebDriver (session=\"db5efc37a5d521689e99db5a05a957fa\")>"
      ]
     },
     "execution_count": 90,
     "metadata": {},
     "output_type": "execute_result"
    }
   ],
   "source": [
    "driver= webdriver.Chrome(r\"C:\\Users\\Lenovo\\Downloads\\chromedriver_win32\\chromedriver.exe\")\n",
    "driver"
   ]
  },
  {
   "cell_type": "code",
   "execution_count": 107,
   "id": "387fb7b3",
   "metadata": {},
   "outputs": [],
   "source": [
    "url='https://www.digit.in'\n",
    "driver.get(url)\n",
    "time.sleep(3)"
   ]
  },
  {
   "cell_type": "code",
   "execution_count": 108,
   "id": "42d4cc60",
   "metadata": {},
   "outputs": [],
   "source": [
    "# Clicking on top 10 option button in menu bar\n",
    "driver.find_element(By.XPATH,'//div[@class=\"menu\"]/ul/li[4]/a').click()\n",
    "time.sleep(3)\n",
    "\n",
    "# Clicking on Laptop under table\n",
    "driver.find_element(By.XPATH,'//div[@class=\"categoty_list\"]/button[2]').click()\n",
    "\n",
    "# Opening Best gaming laptops link\n",
    "Gaming_lappy=driver.find_element(By.XPATH,'//div[@id=\"laptops\"]/div[3]/a').get_attribute('href')\n",
    "driver.get(Gaming_lappy)\n",
    "time.sleep(3)"
   ]
  },
  {
   "cell_type": "code",
   "execution_count": 109,
   "id": "91f41386",
   "metadata": {},
   "outputs": [],
   "source": [
    "# Making Empty list for scraping data\n",
    "Laptop_model =[]\n",
    "OS =[]\n",
    "Display = []\n",
    "Processor =[]\n",
    "Memory =[]\n",
    "Weight =[]\n",
    "Dimension =[]\n",
    "Graphics_processor =[]\n",
    "Price =[]"
   ]
  },
  {
   "cell_type": "code",
   "execution_count": 110,
   "id": "2403853b",
   "metadata": {},
   "outputs": [],
   "source": [
    "# Extracting Laptop model via Xpath\n",
    "for i in range(0,11):\n",
    "    laptop_model=driver.find_elements(By.XPATH,'//*[@id=\"toptenIdevent{}\"]/a/h3'.format(i))\n",
    "    for j in laptop_model:\n",
    "       Laptop_model.append(j.text)"
   ]
  },
  {
   "cell_type": "code",
   "execution_count": 112,
   "id": "8bd51800",
   "metadata": {},
   "outputs": [],
   "source": [
    "# Extracting OS on Laptop model via Xpath\n",
    "os_tags=driver.find_elements(By.XPATH,'//div[@class=\"Spcs-details\"]/table/tbody/tr[3]/td[3]')\n",
    "for j in os_tags[0:10]:\n",
    "    OS.append(j.text) \n",
    "    \n",
    "# Extracting Display vertical via Xpath\n",
    "display_tags=driver.find_elements(By.XPATH,'//div[@class=\"Spcs-details\"]/table/tbody/tr[4]/td[3]')\n",
    "for j in display_tags[0:10]:\n",
    "    Display.append(j.text)\n",
    "    \n",
    "# Extracting Processor via xpath\n",
    "processor_tags=driver.find_elements(By.XPATH,'//div[@class=\"Spcs-details\"]/table/tbody/tr[5]/td[3]')\n",
    "for j in processor_tags[0:10]:\n",
    "    Processor.append(j.text)\n",
    "    \n"
   ]
  },
  {
   "cell_type": "code",
   "execution_count": 113,
   "id": "4674470e",
   "metadata": {},
   "outputs": [],
   "source": [
    "# Extracting Laptop Weight via xpath\n",
    "weight_tags=driver.find_elements(By.XPATH,'//div[@class=\"Spcs-details\"]/table/tbody/tr[7]/td[3]')\n",
    "for j in weight_tags[0:10]:\n",
    "    Weight.append(j.text)"
   ]
  },
  {
   "cell_type": "code",
   "execution_count": 114,
   "id": "6dcccf6f",
   "metadata": {},
   "outputs": [],
   "source": [
    "# Extracting Dimension via xpath\n",
    "dimension_tags=driver.find_elements(By.XPATH,'//div[@class=\"Spcs-details\"]/table/tbody/tr[8]/td[3]')\n",
    "for j in dimension_tags[0:10]:\n",
    "    Dimension.append(j.text)"
   ]
  },
  {
   "cell_type": "code",
   "execution_count": 115,
   "id": "d29a8467",
   "metadata": {},
   "outputs": [],
   "source": [
    "# Extracting Graphics Processor type via xpath\n",
    "graphics_processor_tags=driver.find_elements(By.XPATH,'//div[@class=\"Spcs-details\"]/table/tbody/tr[9]/td[3]')\n",
    "for j in graphics_processor_tags[0:10]:\n",
    "    Graphics_processor.append(j.text)"
   ]
  },
  {
   "cell_type": "code",
   "execution_count": 116,
   "id": "26737393",
   "metadata": {},
   "outputs": [],
   "source": [
    "# Extracting Laptop Price type via xpath\n",
    "price_tags=driver.find_elements(By.XPATH,'//table[@id=\"summtable\"]//tr//td[3]')\n",
    "for j in price_tags[0:10]:\n",
    "    Price.append(j.text)"
   ]
  },
  {
   "cell_type": "code",
   "execution_count": 120,
   "id": "fd1cc960",
   "metadata": {},
   "outputs": [
    {
     "data": {
      "text/plain": [
       "(10, 10, 10, 10, 10, 10, 10)"
      ]
     },
     "execution_count": 120,
     "metadata": {},
     "output_type": "execute_result"
    }
   ],
   "source": [
    "len(Laptop_model),len(Price),len(OS),len(Display),len(Processor),len(Weight),len(Dimension)"
   ]
  },
  {
   "cell_type": "code",
   "execution_count": 122,
   "id": "f7014367",
   "metadata": {},
   "outputs": [
    {
     "data": {
      "text/html": [
       "<div>\n",
       "<style scoped>\n",
       "    .dataframe tbody tr th:only-of-type {\n",
       "        vertical-align: middle;\n",
       "    }\n",
       "\n",
       "    .dataframe tbody tr th {\n",
       "        vertical-align: top;\n",
       "    }\n",
       "\n",
       "    .dataframe thead th {\n",
       "        text-align: right;\n",
       "    }\n",
       "</style>\n",
       "<table border=\"1\" class=\"dataframe\">\n",
       "  <thead>\n",
       "    <tr style=\"text-align: right;\">\n",
       "      <th></th>\n",
       "      <th>Laptop Model</th>\n",
       "      <th>Price</th>\n",
       "      <th>OS</th>\n",
       "      <th>Display</th>\n",
       "      <th>Processor</th>\n",
       "      <th>Weight</th>\n",
       "      <th>Dimension</th>\n",
       "    </tr>\n",
       "  </thead>\n",
       "  <tbody>\n",
       "    <tr>\n",
       "      <th>0</th>\n",
       "      <td>MSI TITAN GT77-12UHS</td>\n",
       "      <td>N/A</td>\n",
       "      <td>12th Gen Intel Core i9-12900HX 16 core processor</td>\n",
       "      <td>17.3″ (3840 x 2160) screen, 120 Hz refresh rate</td>\n",
       "      <td>Windows 11 Home</td>\n",
       "      <td>16 GB DDR6 NVIDIA GeForce RTX 3080 Ti Graphics...</td>\n",
       "      <td>397 x 330 x 23 mm dimension &amp; 3.3 kg weight</td>\n",
       "    </tr>\n",
       "    <tr>\n",
       "      <th>1</th>\n",
       "      <td>ALIENWARE X17 R2</td>\n",
       "      <td>₹ 389,990</td>\n",
       "      <td>12th Gen Intel Core i9-12900HK 14 core process...</td>\n",
       "      <td>17.3″ (1920x1080) screen, 360 Hz refresh rate</td>\n",
       "      <td>Windows 11 Home</td>\n",
       "      <td>16 GB DDR6 NVIDIA GeForce RTX 3080 Ti, Graphic...</td>\n",
       "      <td>399.23 x 299.57 x 14.75 mm dimension &amp; 3.02 kg...</td>\n",
       "    </tr>\n",
       "    <tr>\n",
       "      <th>2</th>\n",
       "      <td>ACER PREDATOR TRITON 500 SE PT516-52S</td>\n",
       "      <td>₹ 300,000</td>\n",
       "      <td>12th Gen Intel Core i7-12700H 14 core processo...</td>\n",
       "      <td>16″ (2560 x 1600) screen, 240 Hz refresh rate</td>\n",
       "      <td>Windows 11 Home</td>\n",
       "      <td>8 GB DDR6 NVIDIA GeForce RTXTM 3070 Ti Graphic...</td>\n",
       "      <td>358 x 262 x 19.9 mm dimension &amp; 2.4 kg weight</td>\n",
       "    </tr>\n",
       "    <tr>\n",
       "      <th>3</th>\n",
       "      <td>OMEN BY HP (16-B1371TX)</td>\n",
       "      <td>₹ 194,000</td>\n",
       "      <td>12th Gen Intel Core i7-12700H 14 core processo...</td>\n",
       "      <td>16.1″ (2560 x 1440) screen</td>\n",
       "      <td>Windows 11 Home</td>\n",
       "      <td>8 GB GDDR6 NVIDIA GeForce RTX 3070 Graphics card</td>\n",
       "      <td>369 x 248 x 23 mm dimension &amp; 2.32 kg weight</td>\n",
       "    </tr>\n",
       "    <tr>\n",
       "      <th>4</th>\n",
       "      <td>ACER PREDATOR HELIOS 300 AN515-45 (NH.QBRSI.0</td>\n",
       "      <td>₹ 172,999</td>\n",
       "      <td>AMD Ryzen 9-5900HX 8 core processor</td>\n",
       "      <td>15.6″ (2560 x 1440) screen, 165 Hz refresh rate</td>\n",
       "      <td>Windows 11 Home</td>\n",
       "      <td>8 GB DDR6 NVIDIA GeForce RTX 3070 Graphics card</td>\n",
       "      <td>363 x 255 x 23.9 mm dimension &amp; 2.4 kg weight</td>\n",
       "    </tr>\n",
       "    <tr>\n",
       "      <th>5</th>\n",
       "      <td>MSI DELTA 15 (A5EFK-083IN)</td>\n",
       "      <td>₹ 188,990</td>\n",
       "      <td>AMD 5th Gen Ryzen 9-5900HX 8 core processor wi...</td>\n",
       "      <td>15.6″ (1920 x 1080) screen, 240Hz refresh rate</td>\n",
       "      <td>Windows 11 Home</td>\n",
       "      <td>10 GB DDR6 AMD Radeon RX 6700M Graphics card</td>\n",
       "      <td>357 x 247 x 19 mm dimension &amp; 1.9 kg weight</td>\n",
       "    </tr>\n",
       "    <tr>\n",
       "      <th>6</th>\n",
       "      <td>OMEN BY HP (16-C0141AX)</td>\n",
       "      <td>₹ 129,899</td>\n",
       "      <td>AMD Ryzen™ 9 5900HX 8 core processor with 3.3 ...</td>\n",
       "      <td>16.1″ (2560 x 1440) screen</td>\n",
       "      <td>Windows 11 Home</td>\n",
       "      <td>8 GB GDDR6 AMD Radeon™ RX 6600M Graphics card</td>\n",
       "      <td>36.92 x 24.8 x 2.3 mm dimension &amp; 2.3 kg weight</td>\n",
       "    </tr>\n",
       "    <tr>\n",
       "      <th>7</th>\n",
       "      <td>LENOVO LEGION 5I PRO (82RF00MGIN)</td>\n",
       "      <td>₹ 230,890</td>\n",
       "      <td>12th Gen Intel Core i7-12700H 14 core processo...</td>\n",
       "      <td>16″ (2560 x 1600) screen, 165 Hz refresh rate</td>\n",
       "      <td>Windows 11 Home</td>\n",
       "      <td>6 GB DDR6 NVIDIA GeForce RTX 3060 Graphics card</td>\n",
       "      <td>359.9 x 264.4 x 19.9 mm dimension &amp; 2.5 kg weight</td>\n",
       "    </tr>\n",
       "    <tr>\n",
       "      <th>8</th>\n",
       "      <td>ALIENWARE M15 R5 RYZEN EDITION ICC-C780001WIN</td>\n",
       "      <td>₹ 144,990</td>\n",
       "      <td>AMD Ryzen R7-5800H 8 core processor with 4.40 ...</td>\n",
       "      <td>15.6″ (1920 x 1080) screen, 165Hz refresh rate</td>\n",
       "      <td>Windows 11 Home</td>\n",
       "      <td>6 GB DDR6 NVIDIA GeForce RTX 3060 Graphics card</td>\n",
       "      <td>356.2 x 272.5 x 22.85 mm dimension &amp; 2.69 kg w...</td>\n",
       "    </tr>\n",
       "    <tr>\n",
       "      <th>9</th>\n",
       "      <td>LENOVO SLIM 7 GEN 6 (82K8002JIN)</td>\n",
       "      <td>₹ 131,990</td>\n",
       "      <td>Lenovo Ryzen 7-5800H processor with 3.2 GHz cl...</td>\n",
       "      <td>15.6″ screen, 165 Hz refresh rate</td>\n",
       "      <td>Windows 11 Home</td>\n",
       "      <td>6 GB DDR6 NVIDIA GeForce 3060 Max-Q Graphics card</td>\n",
       "      <td>356 x 252 x 16 mm dimension &amp; 1.9 kg weight</td>\n",
       "    </tr>\n",
       "  </tbody>\n",
       "</table>\n",
       "</div>"
      ],
      "text/plain": [
       "                                    Laptop Model      Price  \\\n",
       "0                           MSI TITAN GT77-12UHS        N/A   \n",
       "1                               ALIENWARE X17 R2  ₹ 389,990   \n",
       "2          ACER PREDATOR TRITON 500 SE PT516-52S  ₹ 300,000   \n",
       "3                        OMEN BY HP (16-B1371TX)  ₹ 194,000   \n",
       "4  ACER PREDATOR HELIOS 300 AN515-45 (NH.QBRSI.0  ₹ 172,999   \n",
       "5                     MSI DELTA 15 (A5EFK-083IN)  ₹ 188,990   \n",
       "6                        OMEN BY HP (16-C0141AX)  ₹ 129,899   \n",
       "7              LENOVO LEGION 5I PRO (82RF00MGIN)  ₹ 230,890   \n",
       "8  ALIENWARE M15 R5 RYZEN EDITION ICC-C780001WIN  ₹ 144,990   \n",
       "9               LENOVO SLIM 7 GEN 6 (82K8002JIN)  ₹ 131,990   \n",
       "\n",
       "                                                  OS  \\\n",
       "0   12th Gen Intel Core i9-12900HX 16 core processor   \n",
       "1  12th Gen Intel Core i9-12900HK 14 core process...   \n",
       "2  12th Gen Intel Core i7-12700H 14 core processo...   \n",
       "3  12th Gen Intel Core i7-12700H 14 core processo...   \n",
       "4                AMD Ryzen 9-5900HX 8 core processor   \n",
       "5  AMD 5th Gen Ryzen 9-5900HX 8 core processor wi...   \n",
       "6  AMD Ryzen™ 9 5900HX 8 core processor with 3.3 ...   \n",
       "7  12th Gen Intel Core i7-12700H 14 core processo...   \n",
       "8  AMD Ryzen R7-5800H 8 core processor with 4.40 ...   \n",
       "9  Lenovo Ryzen 7-5800H processor with 3.2 GHz cl...   \n",
       "\n",
       "                                           Display        Processor  \\\n",
       "0  17.3″ (3840 x 2160) screen, 120 Hz refresh rate  Windows 11 Home   \n",
       "1    17.3″ (1920x1080) screen, 360 Hz refresh rate  Windows 11 Home   \n",
       "2    16″ (2560 x 1600) screen, 240 Hz refresh rate  Windows 11 Home   \n",
       "3                       16.1″ (2560 x 1440) screen  Windows 11 Home   \n",
       "4  15.6″ (2560 x 1440) screen, 165 Hz refresh rate  Windows 11 Home   \n",
       "5   15.6″ (1920 x 1080) screen, 240Hz refresh rate  Windows 11 Home   \n",
       "6                       16.1″ (2560 x 1440) screen  Windows 11 Home   \n",
       "7    16″ (2560 x 1600) screen, 165 Hz refresh rate  Windows 11 Home   \n",
       "8   15.6″ (1920 x 1080) screen, 165Hz refresh rate  Windows 11 Home   \n",
       "9                15.6″ screen, 165 Hz refresh rate  Windows 11 Home   \n",
       "\n",
       "                                              Weight  \\\n",
       "0  16 GB DDR6 NVIDIA GeForce RTX 3080 Ti Graphics...   \n",
       "1  16 GB DDR6 NVIDIA GeForce RTX 3080 Ti, Graphic...   \n",
       "2  8 GB DDR6 NVIDIA GeForce RTXTM 3070 Ti Graphic...   \n",
       "3   8 GB GDDR6 NVIDIA GeForce RTX 3070 Graphics card   \n",
       "4    8 GB DDR6 NVIDIA GeForce RTX 3070 Graphics card   \n",
       "5       10 GB DDR6 AMD Radeon RX 6700M Graphics card   \n",
       "6      8 GB GDDR6 AMD Radeon™ RX 6600M Graphics card   \n",
       "7    6 GB DDR6 NVIDIA GeForce RTX 3060 Graphics card   \n",
       "8    6 GB DDR6 NVIDIA GeForce RTX 3060 Graphics card   \n",
       "9  6 GB DDR6 NVIDIA GeForce 3060 Max-Q Graphics card   \n",
       "\n",
       "                                           Dimension  \n",
       "0        397 x 330 x 23 mm dimension & 3.3 kg weight  \n",
       "1  399.23 x 299.57 x 14.75 mm dimension & 3.02 kg...  \n",
       "2      358 x 262 x 19.9 mm dimension & 2.4 kg weight  \n",
       "3       369 x 248 x 23 mm dimension & 2.32 kg weight  \n",
       "4      363 x 255 x 23.9 mm dimension & 2.4 kg weight  \n",
       "5        357 x 247 x 19 mm dimension & 1.9 kg weight  \n",
       "6    36.92 x 24.8 x 2.3 mm dimension & 2.3 kg weight  \n",
       "7  359.9 x 264.4 x 19.9 mm dimension & 2.5 kg weight  \n",
       "8  356.2 x 272.5 x 22.85 mm dimension & 2.69 kg w...  \n",
       "9        356 x 252 x 16 mm dimension & 1.9 kg weight  "
      ]
     },
     "execution_count": 122,
     "metadata": {},
     "output_type": "execute_result"
    }
   ],
   "source": [
    "#Make data frame\n",
    "Gaming_Laptops=pd.DataFrame({\"Laptop Model\":Laptop_model,\"Price\":Price, \"OS\":OS,\"Display\":Display,\"Processor\":Processor,\n",
    "                 \"Weight\":Weight,\"Dimension\":Dimension})\n",
    "\n",
    "Gaming_Laptops.head(10)"
   ]
  },
  {
   "cell_type": "markdown",
   "id": "990e6368",
   "metadata": {},
   "source": [
    "8. Write a python program to scrape the details for all billionaires from www.forbes.com. Details to be scrapped: “Rank”, “Name”, “Net worth”, “Age”, “Citizenship”, “Source”, “Industry”"
   ]
  },
  {
   "cell_type": "code",
   "execution_count": 55,
   "id": "2bac84c9",
   "metadata": {},
   "outputs": [
    {
     "data": {
      "text/plain": [
       "<selenium.webdriver.chrome.webdriver.WebDriver (session=\"5808312e144868fabcbe50743274f8c7\")>"
      ]
     },
     "execution_count": 55,
     "metadata": {},
     "output_type": "execute_result"
    }
   ],
   "source": [
    "driver= webdriver.Chrome(r\"C:\\Users\\Lenovo\\Downloads\\chromedriver_win32\\chromedriver.exe\")\n",
    "driver"
   ]
  },
  {
   "cell_type": "code",
   "execution_count": 69,
   "id": "32c7f80e",
   "metadata": {},
   "outputs": [],
   "source": [
    "url=driver.get('https://www.forbes.com')\n",
    "url\n",
    "time.sleep(1)"
   ]
  },
  {
   "cell_type": "code",
   "execution_count": 72,
   "id": "f11a8dff",
   "metadata": {},
   "outputs": [],
   "source": [
    "# Clicking on explore button to expand menu\n",
    "a=driver.find_element(By.XPATH,'//div[@class=\"_69hVhdY4\"]')\n",
    "a.click()\n",
    "\n"
   ]
  },
  {
   "cell_type": "code",
   "execution_count": 73,
   "id": "a6b4c764",
   "metadata": {},
   "outputs": [
    {
     "data": {
      "text/plain": [
       "<bound method WebElement.click of <selenium.webdriver.remote.webelement.WebElement (session=\"5808312e144868fabcbe50743274f8c7\", element=\"e0143c93-b29e-4401-b36f-7090d2bf25a7\")>>"
      ]
     },
     "execution_count": 73,
     "metadata": {},
     "output_type": "execute_result"
    }
   ],
   "source": [
    "b=driver.find_element(By.XPATH,'/html/body/div[1]/header/nav/div[1]/div/div/div[2]/ul/li[1]/div[1]/a')\n",
    "b.click"
   ]
  },
  {
   "cell_type": "code",
   "execution_count": 74,
   "id": "4ab826b5",
   "metadata": {},
   "outputs": [],
   "source": [
    "# Clicking on world billionaire tab\n",
    "c=driver.find_element(By.XPATH,'/html/body/div[1]/header/nav/div[1]/div/div/div[2]/ul/li[1]/div[2]/div[2]/ul/li[1]/a')\n",
    "c.click()"
   ]
  },
  {
   "cell_type": "code",
   "execution_count": 75,
   "id": "d2facbae",
   "metadata": {},
   "outputs": [],
   "source": [
    "# Empty list to scrap data\n",
    "Rank =[]\n",
    "Name=[]\n",
    "Net_worth=[]\n",
    "Age=[]\n",
    "Citizenship=[]\n",
    "Source=[]\n",
    "Industry=[]"
   ]
  },
  {
   "cell_type": "code",
   "execution_count": 76,
   "id": "45b368e0",
   "metadata": {},
   "outputs": [],
   "source": [
    "# Extracting Rank No\n",
    "rank_tags=driver.find_elements(By.XPATH,'//div[@class=\"rank\"]')\n",
    "for i in rank_tags[0:10]:\n",
    "    Rank.append(i.text)"
   ]
  },
  {
   "cell_type": "code",
   "execution_count": 77,
   "id": "9702e0ef",
   "metadata": {},
   "outputs": [],
   "source": [
    "# Extacting name\n",
    "name_tags=driver.find_elements(By.XPATH,'//div[@class=\"personName\"]')\n",
    "for i in name_tags[0:10]:\n",
    "    Name.append(i.text)"
   ]
  },
  {
   "cell_type": "code",
   "execution_count": 78,
   "id": "df069eed",
   "metadata": {},
   "outputs": [],
   "source": [
    "#Extracting Net worth\n",
    "net_tags=driver.find_elements(By.XPATH,'//div[@class=\"netWorth\"]')\n",
    "for i in net_tags[0:10]:\n",
    "    Net_worth.append(i.text)"
   ]
  },
  {
   "cell_type": "code",
   "execution_count": 79,
   "id": "0cda6067",
   "metadata": {},
   "outputs": [],
   "source": [
    "# Extracting Age\n",
    "age_tags=driver.find_elements(By.XPATH,'//div[@class=\"age\"]')\n",
    "for i in age_tags[0:10]:\n",
    "    Age.append(i.text)"
   ]
  },
  {
   "cell_type": "code",
   "execution_count": 80,
   "id": "fbd481ca",
   "metadata": {},
   "outputs": [],
   "source": [
    " # Extracting Citizenship\n",
    "citizen_tags=driver.find_elements(By.XPATH,'//div[@class=\"countryOfCitizenship\"]')\n",
    "for i in citizen_tags[0:10]:\n",
    "    Citizenship.append(i.text)"
   ]
  },
  {
   "cell_type": "code",
   "execution_count": 81,
   "id": "cd79efcd",
   "metadata": {},
   "outputs": [],
   "source": [
    "# Extracting Source\n",
    "try:\n",
    "    source=driver.find_elements(By.XPATH,'//div[@class=\"source-column\"]')\n",
    "    for i in source:\n",
    "        Source.append(i.text)\n",
    "except:\n",
    "    source=driver.find_elements(By.XPATH,'//*[@id=\"jeff-bezos\"]/div[6]/div/div[1]')\n",
    "    Source.append(i.text)"
   ]
  },
  {
   "cell_type": "code",
   "execution_count": 82,
   "id": "8a307cc9",
   "metadata": {},
   "outputs": [],
   "source": [
    "# Extracting Industry\n",
    "industry_tags=driver.find_elements(By.XPATH,\"//div[@class='category']//div\")\n",
    "for i in industry_tags[0:10]:\n",
    "    Industry.append(i.text)"
   ]
  },
  {
   "cell_type": "code",
   "execution_count": 84,
   "id": "aea20133",
   "metadata": {},
   "outputs": [
    {
     "data": {
      "text/plain": [
       "(10, 10, 10, 10, 10, 10)"
      ]
     },
     "execution_count": 84,
     "metadata": {},
     "output_type": "execute_result"
    }
   ],
   "source": [
    "len(Rank),len(Name),len(Net_worth),len(Age),len(Citizenship),len(Industry)"
   ]
  },
  {
   "cell_type": "code",
   "execution_count": 85,
   "id": "0c638175",
   "metadata": {},
   "outputs": [
    {
     "data": {
      "text/html": [
       "<div>\n",
       "<style scoped>\n",
       "    .dataframe tbody tr th:only-of-type {\n",
       "        vertical-align: middle;\n",
       "    }\n",
       "\n",
       "    .dataframe tbody tr th {\n",
       "        vertical-align: top;\n",
       "    }\n",
       "\n",
       "    .dataframe thead th {\n",
       "        text-align: right;\n",
       "    }\n",
       "</style>\n",
       "<table border=\"1\" class=\"dataframe\">\n",
       "  <thead>\n",
       "    <tr style=\"text-align: right;\">\n",
       "      <th></th>\n",
       "      <th>Rank</th>\n",
       "      <th>Name</th>\n",
       "      <th>Net Worth</th>\n",
       "      <th>Age</th>\n",
       "      <th>Citizenship</th>\n",
       "      <th>Industry</th>\n",
       "    </tr>\n",
       "  </thead>\n",
       "  <tbody>\n",
       "    <tr>\n",
       "      <th>0</th>\n",
       "      <td>1.</td>\n",
       "      <td>Elon Musk</td>\n",
       "      <td>$219 B</td>\n",
       "      <td></td>\n",
       "      <td>United States</td>\n",
       "      <td></td>\n",
       "    </tr>\n",
       "    <tr>\n",
       "      <th>1</th>\n",
       "      <td>2.</td>\n",
       "      <td>Jeff Bezos</td>\n",
       "      <td>$171 B</td>\n",
       "      <td></td>\n",
       "      <td>United States</td>\n",
       "      <td></td>\n",
       "    </tr>\n",
       "    <tr>\n",
       "      <th>2</th>\n",
       "      <td>3.</td>\n",
       "      <td>Bernard Arnault &amp; family</td>\n",
       "      <td>$158 B</td>\n",
       "      <td></td>\n",
       "      <td>France</td>\n",
       "      <td></td>\n",
       "    </tr>\n",
       "    <tr>\n",
       "      <th>3</th>\n",
       "      <td>4.</td>\n",
       "      <td>Bill Gates</td>\n",
       "      <td>$129 B</td>\n",
       "      <td></td>\n",
       "      <td>United States</td>\n",
       "      <td></td>\n",
       "    </tr>\n",
       "    <tr>\n",
       "      <th>4</th>\n",
       "      <td>5.</td>\n",
       "      <td>Warren Buffett</td>\n",
       "      <td>$118 B</td>\n",
       "      <td></td>\n",
       "      <td>United States</td>\n",
       "      <td></td>\n",
       "    </tr>\n",
       "    <tr>\n",
       "      <th>5</th>\n",
       "      <td>6.</td>\n",
       "      <td>Larry Page</td>\n",
       "      <td>$111 B</td>\n",
       "      <td></td>\n",
       "      <td>United States</td>\n",
       "      <td></td>\n",
       "    </tr>\n",
       "    <tr>\n",
       "      <th>6</th>\n",
       "      <td>7.</td>\n",
       "      <td>Sergey Brin</td>\n",
       "      <td>$107 B</td>\n",
       "      <td></td>\n",
       "      <td>United States</td>\n",
       "      <td></td>\n",
       "    </tr>\n",
       "    <tr>\n",
       "      <th>7</th>\n",
       "      <td>8.</td>\n",
       "      <td>Larry Ellison</td>\n",
       "      <td>$106 B</td>\n",
       "      <td></td>\n",
       "      <td>United States</td>\n",
       "      <td></td>\n",
       "    </tr>\n",
       "    <tr>\n",
       "      <th>8</th>\n",
       "      <td>9.</td>\n",
       "      <td>Steve Ballmer</td>\n",
       "      <td>$91.4 B</td>\n",
       "      <td></td>\n",
       "      <td>United States</td>\n",
       "      <td></td>\n",
       "    </tr>\n",
       "    <tr>\n",
       "      <th>9</th>\n",
       "      <td>10.</td>\n",
       "      <td>Mukesh Ambani</td>\n",
       "      <td>$90.7 B</td>\n",
       "      <td></td>\n",
       "      <td>India</td>\n",
       "      <td></td>\n",
       "    </tr>\n",
       "  </tbody>\n",
       "</table>\n",
       "</div>"
      ],
      "text/plain": [
       "  Rank                      Name Net Worth Age    Citizenship Industry\n",
       "0   1.                 Elon Musk    $219 B      United States         \n",
       "1   2.                Jeff Bezos    $171 B      United States         \n",
       "2   3.  Bernard Arnault & family    $158 B             France         \n",
       "3   4.                Bill Gates    $129 B      United States         \n",
       "4   5.            Warren Buffett    $118 B      United States         \n",
       "5   6.                Larry Page    $111 B      United States         \n",
       "6   7.               Sergey Brin    $107 B      United States         \n",
       "7   8.             Larry Ellison    $106 B      United States         \n",
       "8   9.             Steve Ballmer   $91.4 B      United States         \n",
       "9  10.             Mukesh Ambani   $90.7 B              India         "
      ]
     },
     "execution_count": 85,
     "metadata": {},
     "output_type": "execute_result"
    }
   ],
   "source": [
    "#creating dataframe\n",
    "Forbes_list=pd.DataFrame({'Rank':Rank,'Name':Name,'Net Worth':Net_worth,'Age':Age,'Citizenship':Citizenship,'Industry':Industry})\n",
    "Forbes_list"
   ]
  },
  {
   "cell_type": "markdown",
   "id": "cdd40b5d",
   "metadata": {},
   "source": [
    "9.Write a program to extract at least 500 Comments, Comment upvote and time when comment was posted from any YouTube Video."
   ]
  },
  {
   "cell_type": "code",
   "execution_count": 94,
   "id": "b8581839",
   "metadata": {},
   "outputs": [
    {
     "data": {
      "text/plain": [
       "<selenium.webdriver.chrome.webdriver.WebDriver (session=\"afb0b6a3f73095b13258644ea355aa3e\")>"
      ]
     },
     "execution_count": 94,
     "metadata": {},
     "output_type": "execute_result"
    }
   ],
   "source": [
    "driver= webdriver.Chrome(r\"C:\\Users\\Lenovo\\Downloads\\chromedriver_win32\\chromedriver.exe\")\n",
    "driver"
   ]
  },
  {
   "cell_type": "code",
   "execution_count": 95,
   "id": "a73f1928",
   "metadata": {},
   "outputs": [],
   "source": [
    "url=driver.get(\"https://www.youtube.com\")\n",
    "url\n",
    "time.sleep(3)"
   ]
  },
  {
   "cell_type": "code",
   "execution_count": 104,
   "id": "d1533da8",
   "metadata": {},
   "outputs": [
    {
     "data": {
      "text/plain": [
       "<selenium.webdriver.remote.webelement.WebElement (session=\"afb0b6a3f73095b13258644ea355aa3e\", element=\"53dd0583-7cbb-46f3-96fa-b29f14e16b16\")>"
      ]
     },
     "execution_count": 104,
     "metadata": {},
     "output_type": "execute_result"
    }
   ],
   "source": [
    "# Finding search menu by xpath\n",
    "Search=driver.find_element(By.XPATH,'/html/body/ytd-app/div[1]/div/ytd-masthead/div[3]/div[2]/ytd-searchbox/form/div[1]/div[1]/input') \n",
    "Search.send_keys('Teri Deewani by Kailash Kher live at Sony Project Resound Concert')\n",
    "Search"
   ]
  },
  {
   "cell_type": "code",
   "execution_count": 105,
   "id": "fba7d21b",
   "metadata": {},
   "outputs": [],
   "source": [
    "Search_button=driver.find_element(By.XPATH,'/html/body/ytd-app/div[1]/div/ytd-masthead/div[3]/div[2]/ytd-searchbox/button/yt-icon')  \n",
    "Search_button.click()\n",
    "time.sleep(2)"
   ]
  },
  {
   "cell_type": "code",
   "execution_count": 106,
   "id": "940289c1",
   "metadata": {},
   "outputs": [],
   "source": [
    "# Clicking on video\n",
    "link = driver.find_element(By.XPATH,'/html/body/ytd-app/div[1]/ytd-page-manager/ytd-search/div[1]/ytd-two-column-search-results-renderer/div/ytd-section-list-renderer/div[2]/ytd-item-section-renderer/div[3]/ytd-video-renderer[1]/div[1]/div/div[1]/div/h3/a/yt-formatted-string')\n",
    "link.click()\n",
    "time.sleep(3)"
   ]
  },
  {
   "cell_type": "code",
   "execution_count": 120,
   "id": "2e1b9573",
   "metadata": {},
   "outputs": [],
   "source": [
    "# Scrolling window using ScrollBy method from 0 pixel to 15000 pixel\n",
    "driver.execute_script(\"window.scrollBy(0,1000000)\",\"\")"
   ]
  },
  {
   "cell_type": "code",
   "execution_count": 121,
   "id": "7a364219",
   "metadata": {},
   "outputs": [],
   "source": [
    "# Empty lists to scrap data\n",
    "Comments = []\n",
    "Comment_posted_ago = []\n",
    "Timeline = []\n",
    "Likes = []\n",
    "No_of_Likes = []"
   ]
  },
  {
   "cell_type": "code",
   "execution_count": 122,
   "id": "bdbf4622",
   "metadata": {},
   "outputs": [
    {
     "name": "stderr",
     "output_type": "stream",
     "text": [
      "100%|████████████████████████████████████████████████████████████████████████████████| 514/514 [00:14<00:00, 34.81it/s]\n"
     ]
    }
   ],
   "source": [
    "#extracting comment on video\n",
    "comment = driver.find_elements(By.XPATH,'//span[@class=\"style-scope yt-formatted-string\"]')\n",
    "time.sleep(3)\n",
    "from tqdm import tqdm\n",
    "for i in tqdm(comment):\n",
    "    if i.text is None:\n",
    "        Comments.append(\"--\")\n",
    "    else:\n",
    "        Comments.append(i.text)\n",
    "time.sleep(2)"
   ]
  },
  {
   "cell_type": "code",
   "execution_count": 127,
   "id": "df1dab01",
   "metadata": {},
   "outputs": [
    {
     "name": "stderr",
     "output_type": "stream",
     "text": [
      "100%|████████████████████████████████████████████████████████████████████████████████| 560/560 [00:16<00:00, 34.21it/s]\n"
     ]
    }
   ],
   "source": [
    "# Extracting time of commenting\n",
    "timeline = driver.find_elements(By.XPATH,\"//a[contains(text(),'ago')]\")\n",
    "time.sleep(3)\n",
    "from tqdm import tqdm\n",
    "for i in tqdm(timeline):\n",
    "    if i.text is None:\n",
    "        Timeline.append(\"-\")\n",
    "    else:\n",
    "        Timeline.append(i.text)"
   ]
  },
  {
   "cell_type": "code",
   "execution_count": 128,
   "id": "2da81717",
   "metadata": {},
   "outputs": [],
   "source": [
    "# scrape the comment likes\n",
    "like = driver.find_elements(By.XPATH,\"//span[@class='style-scope ytd-comment-action-buttons-renderer']\")\n",
    "for i in like:\n",
    "    Likes.append(i.text)\n",
    "    \n",
    "for i in range(1,len(Likes),2):\n",
    "    No_of_Likes.append(Likes[i])\n",
    "time.sleep(3)"
   ]
  },
  {
   "cell_type": "code",
   "execution_count": 129,
   "id": "8b99a108",
   "metadata": {},
   "outputs": [
    {
     "data": {
      "text/plain": [
       "(514, 280, 1680)"
      ]
     },
     "execution_count": 129,
     "metadata": {},
     "output_type": "execute_result"
    }
   ],
   "source": [
    "len(Comments),len(Comment_posted_ago),len(No_of_Likes)"
   ]
  },
  {
   "cell_type": "code",
   "execution_count": 130,
   "id": "b6a5b408",
   "metadata": {},
   "outputs": [
    {
     "data": {
      "text/html": [
       "<div>\n",
       "<style scoped>\n",
       "    .dataframe tbody tr th:only-of-type {\n",
       "        vertical-align: middle;\n",
       "    }\n",
       "\n",
       "    .dataframe tbody tr th {\n",
       "        vertical-align: top;\n",
       "    }\n",
       "\n",
       "    .dataframe thead th {\n",
       "        text-align: right;\n",
       "    }\n",
       "</style>\n",
       "<table border=\"1\" class=\"dataframe\">\n",
       "  <thead>\n",
       "    <tr style=\"text-align: right;\">\n",
       "      <th></th>\n",
       "      <th>Comments</th>\n",
       "      <th>Comment Posted Ago</th>\n",
       "      <th>No. of Likes</th>\n",
       "    </tr>\n",
       "  </thead>\n",
       "  <tbody>\n",
       "    <tr>\n",
       "      <th>0</th>\n",
       "      <td></td>\n",
       "      <td>1 year ago</td>\n",
       "      <td>224</td>\n",
       "    </tr>\n",
       "    <tr>\n",
       "      <th>1</th>\n",
       "      <td>Kailash Kher performed one his most popular tr...</td>\n",
       "      <td>5 years ago</td>\n",
       "      <td>249</td>\n",
       "    </tr>\n",
       "    <tr>\n",
       "      <th>2</th>\n",
       "      <td></td>\n",
       "      <td>6 years ago</td>\n",
       "      <td>27</td>\n",
       "    </tr>\n",
       "    <tr>\n",
       "      <th>3</th>\n",
       "      <td>797</td>\n",
       "      <td>4 years ago</td>\n",
       "      <td>19</td>\n",
       "    </tr>\n",
       "    <tr>\n",
       "      <th>4</th>\n",
       "      <td>Comments</td>\n",
       "      <td>5 years ago</td>\n",
       "      <td>384</td>\n",
       "    </tr>\n",
       "    <tr>\n",
       "      <th>...</th>\n",
       "      <td>...</td>\n",
       "      <td>...</td>\n",
       "      <td>...</td>\n",
       "    </tr>\n",
       "    <tr>\n",
       "      <th>245</th>\n",
       "      <td>super song</td>\n",
       "      <td>5 years ago</td>\n",
       "      <td></td>\n",
       "    </tr>\n",
       "    <tr>\n",
       "      <th>246</th>\n",
       "      <td></td>\n",
       "      <td>4 years ago</td>\n",
       "      <td></td>\n",
       "    </tr>\n",
       "    <tr>\n",
       "      <th>247</th>\n",
       "      <td>Silence salute</td>\n",
       "      <td>2 years ago</td>\n",
       "      <td></td>\n",
       "    </tr>\n",
       "    <tr>\n",
       "      <th>248</th>\n",
       "      <td>Tere Nam se jiiilu..... Tere Nam se Marjaww .....</td>\n",
       "      <td>4 years ago</td>\n",
       "      <td></td>\n",
       "    </tr>\n",
       "    <tr>\n",
       "      <th>249</th>\n",
       "      <td>️</td>\n",
       "      <td>2 years ago</td>\n",
       "      <td></td>\n",
       "    </tr>\n",
       "  </tbody>\n",
       "</table>\n",
       "<p>250 rows × 3 columns</p>\n",
       "</div>"
      ],
      "text/plain": [
       "                                              Comments Comment Posted Ago  \\\n",
       "0                                                              1 year ago   \n",
       "1    Kailash Kher performed one his most popular tr...        5 years ago   \n",
       "2                                                             6 years ago   \n",
       "3                                                  797        4 years ago   \n",
       "4                                             Comments        5 years ago   \n",
       "..                                                 ...                ...   \n",
       "245                                         super song        5 years ago   \n",
       "246                                                           4 years ago   \n",
       "247                                     Silence salute        2 years ago   \n",
       "248  Tere Nam se jiiilu..... Tere Nam se Marjaww .....        4 years ago   \n",
       "249                                                  ️        2 years ago   \n",
       "\n",
       "    No. of Likes  \n",
       "0            224  \n",
       "1            249  \n",
       "2             27  \n",
       "3             19  \n",
       "4            384  \n",
       "..           ...  \n",
       "245               \n",
       "246               \n",
       "247               \n",
       "248               \n",
       "249               \n",
       "\n",
       "[250 rows x 3 columns]"
      ]
     },
     "execution_count": 130,
     "metadata": {},
     "output_type": "execute_result"
    }
   ],
   "source": [
    "YT=pd.DataFrame({})\n",
    "YT['Comments']=Comments[:250]\n",
    "YT['Comment Posted Ago']=Comment_posted_ago[:250]\n",
    "YT['No. of Likes']=No_of_Likes[:250]\n",
    "YT"
   ]
  },
  {
   "cell_type": "markdown",
   "id": "e6d2539d",
   "metadata": {},
   "source": [
    "10.Write a python program to scrape a data for all available Hostels from https://www.hostelworld.com/ in “London” location. You have to scrape hostel name, distance from city centre, ratings, total reviews, overall reviews, privates from price, dorms from price, facilities and property description"
   ]
  },
  {
   "cell_type": "code",
   "execution_count": 143,
   "id": "202ddb60",
   "metadata": {},
   "outputs": [
    {
     "data": {
      "text/plain": [
       "<selenium.webdriver.chrome.webdriver.WebDriver (session=\"964aad26b0941b4ff0651cfbda656648\")>"
      ]
     },
     "execution_count": 143,
     "metadata": {},
     "output_type": "execute_result"
    }
   ],
   "source": [
    "driver= webdriver.Chrome(r\"C:\\Users\\Lenovo\\Downloads\\chromedriver_win32\\chromedriver.exe\")\n",
    "driver"
   ]
  },
  {
   "cell_type": "code",
   "execution_count": 146,
   "id": "1bcec2fa",
   "metadata": {},
   "outputs": [],
   "source": [
    "url=\"https://www.hostelworld.com\"\n",
    "driver.get(url)\n",
    "time.sleep(2)"
   ]
  },
  {
   "cell_type": "code",
   "execution_count": 152,
   "id": "13a820ae",
   "metadata": {},
   "outputs": [
    {
     "data": {
      "text/plain": [
       "<selenium.webdriver.remote.webelement.WebElement (session=\"964aad26b0941b4ff0651cfbda656648\", element=\"59ebfc40-35c5-4fea-a883-4cd2cdfadde1\")>"
      ]
     },
     "execution_count": 152,
     "metadata": {},
     "output_type": "execute_result"
    }
   ],
   "source": [
    "search_bar=driver.find_element(By.XPATH,'//input[@class=\"location-text\"]')\n",
    "search_bar.send_keys('London')\n",
    "search_bar"
   ]
  },
  {
   "cell_type": "code",
   "execution_count": 154,
   "id": "b3166864",
   "metadata": {},
   "outputs": [],
   "source": [
    "# do click on search button\n",
    "Search_button = driver.find_element(By.XPATH,'//button[@class=\"button primary large\"]')\n",
    "Search_button.click()"
   ]
  },
  {
   "cell_type": "code",
   "execution_count": 155,
   "id": "4e100278",
   "metadata": {},
   "outputs": [],
   "source": [
    "#lets find required data\n",
    "hostel_name = []\n",
    "distance = []\n",
    "pvt_prices = []\n",
    "dorms_price = []\n",
    "rating = []\n",
    "reviews = []\n",
    "over_all = []\n",
    "facilities = []\n",
    "description =[]\n",
    "product_url = []"
   ]
  },
  {
   "cell_type": "code",
   "execution_count": 157,
   "id": "7994b110",
   "metadata": {},
   "outputs": [],
   "source": [
    "for i in driver.find_elements(By.XPATH,\"//div[@class = 'pagination-item pagination-current' or @class='pagination-item']\"):\n",
    "    i.click()\n",
    "    time.sleep(4)\n",
    "    \n",
    "    #fetching hostel name\n",
    "    try:\n",
    "        name_tags = driver.find_elements(By.XPATH,\"//h2[@class='title title-6']\")\n",
    "        for i in name_tags[0:10]:\n",
    "            hostel_name.append(i.text)\n",
    "    except NoSuchElementException:\n",
    "        hostel_name.append('-')\n",
    "        \n",
    "    #fetching distance from city centre\n",
    "    \n",
    "    try:\n",
    "        dist_tags = driver.find_elements(By.XPATH,\"//div[@class='subtitle body-3']//a//span[1]\")\n",
    "        for i in dist_tags[0:10]:\n",
    "            distance.append(i.text.replace('Hostel - ',''))\n",
    "    except NoSuchElementException:\n",
    "        distance.append('-')\n",
    "        \n",
    "    for i in driver.find_elements(By.XPATH,\"//div[@class='prices-col']\"):\n",
    "    #fetch privates from price\n",
    "        try:\n",
    "            pvt_price = driver.find_element(By.XPATH,\"//a[@class='prices']//div[1]//div\")\n",
    "            pvt_prices.append(pvt_price.text)\n",
    "        except NoSuchElementException:\n",
    "            pvt_prices.append('-')\n",
    "    #fetching dorms from price\n",
    "    for i in driver.find_elements(By.XPATH,\"//div[@class='prices-col']\"):\n",
    "        try:\n",
    "            dorms = driver.find_element(By.XPATH,\"//a[@class='prices']//div[2]//div\")\n",
    "            dorms_price.append(dorms.text)\n",
    "        except NoSuchElementException:\n",
    "            dorms_price.append('-')\n",
    "    #fetching facilities\n",
    "    try:\n",
    "        fac1 = driver.find_elements(By.XPATH,\"//div[@class='has-wifi']\")\n",
    "        fac2 = driver.find_elements(By.XPATH,\"//div[@class='has-sanitation']\")\n",
    "        for i in fac1:\n",
    "            for j in fac2:\n",
    "                facilities.append(i.text +', '+ j.text )\n",
    "    except NoSuchElementException:\n",
    "        facilities.append('-')\n",
    "    #lets fetch url of each hostel\n",
    "    p_url = driver.find_elements(By.XPATH,\"//div[@class='prices-col']//a[2]\")\n",
    "    for i in p_url:\n",
    "        product_url.append(i.get_attribute('href'))\n",
    "\n",
    "for i in product_url:\n",
    "    driver.get(i)\n",
    "    time.sleep(3)\n",
    "    #lets click on show more button for description\n",
    "    try:\n",
    "        driver.find_element(By.XPATH,\"//a[@class='toggle-content']\").click()\n",
    "        time.sleep(5)\n",
    "    except NoSuchElementException:\n",
    "        pass\n",
    "    #fetching ratings\n",
    "    try:\n",
    "        rat = driver.find_element(By.XPATH,\"//div[@class='score orange big' or @class='score gray big']\")\n",
    "        rating.append(rat.text)\n",
    "    except NoSuchElementException:\n",
    "        rating.append('-')\n",
    "    #fetching total reviews\n",
    "        \n",
    "    try:\n",
    "        rws = driver.find_element(By.XPATH,\"//div[@class='reviews']\")\n",
    "        reviews.append(rws.text.replace('Total Reviews',''))\n",
    "    except NoSuchElementException:\n",
    "        reviews.append('-')\n",
    "    #fetch overall review\n",
    "    try:\n",
    "        overall_rw = driver.find_element(By.XPATH,\"//div[@class='keyword']//span\")\n",
    "        over_all.append(overall_rw.text)\n",
    "    except NoSuchElementException:\n",
    "        over_all.append('-')\n",
    "    #fetch property description \n",
    "    try:\n",
    "        disc = driver.find_element(By.XPATH,\"//div[@class='content']\")\n",
    "        description.append(disc.text)\n",
    "    except NoSuchElementException:\n",
    "        over_all.append('-')"
   ]
  },
  {
   "cell_type": "code",
   "execution_count": 176,
   "id": "4f9b65a6",
   "metadata": {},
   "outputs": [
    {
     "data": {
      "text/plain": [
       "(0, 0, 0, 0, 0, 0, 0, 0, 0, 0)"
      ]
     },
     "execution_count": 176,
     "metadata": {},
     "output_type": "execute_result"
    }
   ],
   "source": [
    "len(hostel_name),len(distance),len(pvt_prices),len(dorms_price),len(rating),len(reviews),len(over_all),len(facilities),len(description),len(product_url)"
   ]
  },
  {
   "cell_type": "code",
   "execution_count": 159,
   "id": "720ee5cf",
   "metadata": {},
   "outputs": [
    {
     "data": {
      "text/html": [
       "<div>\n",
       "<style scoped>\n",
       "    .dataframe tbody tr th:only-of-type {\n",
       "        vertical-align: middle;\n",
       "    }\n",
       "\n",
       "    .dataframe tbody tr th {\n",
       "        vertical-align: top;\n",
       "    }\n",
       "\n",
       "    .dataframe thead th {\n",
       "        text-align: right;\n",
       "    }\n",
       "</style>\n",
       "<table border=\"1\" class=\"dataframe\">\n",
       "  <thead>\n",
       "    <tr style=\"text-align: right;\">\n",
       "      <th></th>\n",
       "      <th>Hostel name</th>\n",
       "      <th>Distance from city centre</th>\n",
       "      <th>ratings</th>\n",
       "      <th>Total reviews</th>\n",
       "      <th>Overall review</th>\n",
       "      <th>Privates from price</th>\n",
       "      <th>Dorms from price</th>\n",
       "      <th>Facilities</th>\n",
       "      <th>Property Description</th>\n",
       "    </tr>\n",
       "  </thead>\n",
       "  <tbody>\n",
       "  </tbody>\n",
       "</table>\n",
       "</div>"
      ],
      "text/plain": [
       "Empty DataFrame\n",
       "Columns: [Hostel name, Distance from city centre, ratings, Total reviews, Overall review, Privates from price, Dorms from price, Facilities, Property Description]\n",
       "Index: []"
      ]
     },
     "execution_count": 159,
     "metadata": {},
     "output_type": "execute_result"
    }
   ],
   "source": [
    "#creating dataframe\n",
    "data = list(zip(hostel_name,distance,rating,reviews,over_all,pvt_prices,dorms_price,facilities,description))       \n",
    "Hostel = pd.DataFrame(data, columns = [\"Hostel name\",\"Distance from city centre\",\"ratings\",\"Total reviews\",\"Overall review\",\"Privates from price\",\"Dorms from price\",\"Facilities\",\"Property Description\"])\n",
    "Hostel.head()"
   ]
  },
  {
   "cell_type": "code",
   "execution_count": null,
   "id": "1947a2d0",
   "metadata": {},
   "outputs": [],
   "source": []
  },
  {
   "cell_type": "code",
   "execution_count": null,
   "id": "9f40d492",
   "metadata": {},
   "outputs": [],
   "source": []
  }
 ],
 "metadata": {
  "kernelspec": {
   "display_name": "Python 3 (ipykernel)",
   "language": "python",
   "name": "python3"
  },
  "language_info": {
   "codemirror_mode": {
    "name": "ipython",
    "version": 3
   },
   "file_extension": ".py",
   "mimetype": "text/x-python",
   "name": "python",
   "nbconvert_exporter": "python",
   "pygments_lexer": "ipython3",
   "version": "3.9.7"
  }
 },
 "nbformat": 4,
 "nbformat_minor": 5
}
