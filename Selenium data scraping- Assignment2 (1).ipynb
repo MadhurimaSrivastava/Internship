{
 "cells": [
  {
   "cell_type": "markdown",
   "id": "5e62134f",
   "metadata": {},
   "source": [
    "# Selenium-Assignment2"
   ]
  },
  {
   "cell_type": "markdown",
   "id": "d3c933f6",
   "metadata": {},
   "source": [
    "#Question1- Q1:\n",
    "Write a python program to scrape data for “Data Analyst” Job position in “Bangalore” location. You \n",
    "have to scrape the job-title, job-location, company_name, experience_required. You have to scrape first 10 \n",
    "jobs data."
   ]
  },
  {
   "cell_type": "code",
   "execution_count": 129,
   "id": "33776391",
   "metadata": {},
   "outputs": [],
   "source": [
    "#Answer1)"
   ]
  },
  {
   "cell_type": "code",
   "execution_count": 1,
   "id": "0e083f77",
   "metadata": {},
   "outputs": [
    {
     "name": "stdout",
     "output_type": "stream",
     "text": [
      "Requirement already satisfied: selenium in c:\\users\\lenovo\\anaconda3\\lib\\site-packages (4.4.0)\n",
      "Requirement already satisfied: urllib3[secure,socks]~=1.26 in c:\\users\\lenovo\\anaconda3\\lib\\site-packages (from selenium) (1.26.7)\n",
      "Requirement already satisfied: trio-websocket~=0.9 in c:\\users\\lenovo\\anaconda3\\lib\\site-packages (from selenium) (0.9.2)\n",
      "Requirement already satisfied: trio~=0.17 in c:\\users\\lenovo\\anaconda3\\lib\\site-packages (from selenium) (0.21.0)\n",
      "Requirement already satisfied: async-generator>=1.9 in c:\\users\\lenovo\\anaconda3\\lib\\site-packages (from trio~=0.17->selenium) (1.10)\n",
      "Requirement already satisfied: sniffio in c:\\users\\lenovo\\anaconda3\\lib\\site-packages (from trio~=0.17->selenium) (1.2.0)\n",
      "Requirement already satisfied: cffi>=1.14 in c:\\users\\lenovo\\anaconda3\\lib\\site-packages (from trio~=0.17->selenium) (1.14.6)\n",
      "Requirement already satisfied: attrs>=19.2.0 in c:\\users\\lenovo\\anaconda3\\lib\\site-packages (from trio~=0.17->selenium) (21.2.0)\n",
      "Requirement already satisfied: sortedcontainers in c:\\users\\lenovo\\anaconda3\\lib\\site-packages (from trio~=0.17->selenium) (2.4.0)\n",
      "Requirement already satisfied: outcome in c:\\users\\lenovo\\anaconda3\\lib\\site-packages (from trio~=0.17->selenium) (1.2.0)\n",
      "Requirement already satisfied: idna in c:\\users\\lenovo\\anaconda3\\lib\\site-packages (from trio~=0.17->selenium) (3.2)\n",
      "Requirement already satisfied: pycparser in c:\\users\\lenovo\\anaconda3\\lib\\site-packages (from cffi>=1.14->trio~=0.17->selenium) (2.20)\n",
      "Requirement already satisfied: wsproto>=0.14 in c:\\users\\lenovo\\anaconda3\\lib\\site-packages (from trio-websocket~=0.9->selenium) (1.1.0)\n",
      "Requirement already satisfied: PySocks!=1.5.7,<2.0,>=1.5.6 in c:\\users\\lenovo\\anaconda3\\lib\\site-packages (from urllib3[secure,socks]~=1.26->selenium) (1.7.1)\n",
      "Requirement already satisfied: pyOpenSSL>=0.14 in c:\\users\\lenovo\\anaconda3\\lib\\site-packages (from urllib3[secure,socks]~=1.26->selenium) (21.0.0)\n",
      "Requirement already satisfied: cryptography>=1.3.4 in c:\\users\\lenovo\\anaconda3\\lib\\site-packages (from urllib3[secure,socks]~=1.26->selenium) (3.4.8)\n",
      "Requirement already satisfied: certifi in c:\\users\\lenovo\\anaconda3\\lib\\site-packages (from urllib3[secure,socks]~=1.26->selenium) (2021.10.8)\n",
      "Requirement already satisfied: six>=1.5.2 in c:\\users\\lenovo\\anaconda3\\lib\\site-packages (from pyOpenSSL>=0.14->urllib3[secure,socks]~=1.26->selenium) (1.16.0)\n",
      "Requirement already satisfied: h11<1,>=0.9.0 in c:\\users\\lenovo\\anaconda3\\lib\\site-packages (from wsproto>=0.14->trio-websocket~=0.9->selenium) (0.13.0)\n"
     ]
    }
   ],
   "source": [
    "!pip install selenium"
   ]
  },
  {
   "cell_type": "code",
   "execution_count": 2,
   "id": "0f2df00c",
   "metadata": {},
   "outputs": [],
   "source": [
    "import selenium\n",
    "import pandas as pd\n",
    "from selenium import webdriver\n",
    "import warnings\n",
    "warnings.filterwarnings('ignore')\n",
    "from selenium.common.exceptions import StaleElementReferenceException,NoSuchElementException\n",
    "from selenium.webdriver.common.by import By\n",
    "import time"
   ]
  },
  {
   "cell_type": "code",
   "execution_count": 3,
   "id": "eee6a02c",
   "metadata": {},
   "outputs": [
    {
     "data": {
      "text/plain": [
       "<selenium.webdriver.chrome.webdriver.WebDriver (session=\"1432faaa9e0b934bc82d0c0c6beec6b9\")>"
      ]
     },
     "execution_count": 3,
     "metadata": {},
     "output_type": "execute_result"
    }
   ],
   "source": [
    "driver= webdriver.Chrome(r\"C:\\Users\\Lenovo\\Downloads\\chromedriver_win32\\chromedriver.exe\")\n",
    "driver\n"
   ]
  },
  {
   "cell_type": "code",
   "execution_count": 133,
   "id": "1ab25748",
   "metadata": {},
   "outputs": [],
   "source": [
    "driver.get(\"https://www.naukri.com/\")"
   ]
  },
  {
   "cell_type": "code",
   "execution_count": 134,
   "id": "02b3dcec",
   "metadata": {},
   "outputs": [],
   "source": [
    "Designation= driver.find_element(By.CLASS_NAME,\"suggestor-input\")\n",
    "Designation.send_keys('Data Analyst')"
   ]
  },
  {
   "cell_type": "code",
   "execution_count": 135,
   "id": "be934387",
   "metadata": {},
   "outputs": [],
   "source": [
    "Location=driver.find_element(By.XPATH,\"/html/body/div[1]/div[2]/div[3]/div/div/div[5]/div/div/div/input\")\n",
    "Location.send_keys('Bangalore')"
   ]
  },
  {
   "cell_type": "code",
   "execution_count": 136,
   "id": "7e555073",
   "metadata": {},
   "outputs": [],
   "source": [
    "Search=driver.find_element(By.CLASS_NAME,\"qsbSubmit\")\n",
    "Search.click()"
   ]
  },
  {
   "cell_type": "code",
   "execution_count": 137,
   "id": "ce3e70d4",
   "metadata": {},
   "outputs": [],
   "source": [
    "job_title=[] \n",
    "job_location=[]\n",
    "company_name=[]\n",
    "experience_required=[]"
   ]
  },
  {
   "cell_type": "code",
   "execution_count": 138,
   "id": "5d7ed6b0",
   "metadata": {},
   "outputs": [],
   "source": [
    "title_tags=driver.find_elements(By.XPATH,'//a[@class=\"title fw500 ellipsis\"]')\n",
    "for i in title_tags[0:10]:\n",
    "    title=i.text\n",
    "    job_title.append(title)\n",
    "    \n",
    "location_tags=driver.find_elements(By.XPATH,'//li[@class=\"fleft grey-text br2 placeHolderLi location\"]')\n",
    "for i in location_tags[0:10]:\n",
    "    location=i.text\n",
    "    job_location.append(location)\n",
    "    \n",
    "    \n",
    "name_tags=driver.find_elements(By.XPATH,'//a[@class=\"subTitle ellipsis fleft\"]')\n",
    "for i in name_tags[0:10]:\n",
    "    name=i.text\n",
    "    company_name.append(name)\n",
    "    \n",
    "\n",
    "exp_tags=driver.find_elements(By.XPATH,'//li[@class=\"fleft grey-text br2 placeHolderLi experience\"]')\n",
    "for i in exp_tags[0:10]:\n",
    "    exp=i.text\n",
    "    experience_required.append(exp)"
   ]
  },
  {
   "cell_type": "code",
   "execution_count": 139,
   "id": "798ca117",
   "metadata": {},
   "outputs": [
    {
     "name": "stdout",
     "output_type": "stream",
     "text": [
      "10 10 10 10\n"
     ]
    }
   ],
   "source": [
    "print(len(job_title),len(job_location),len(company_name),len(experience_required))"
   ]
  },
  {
   "cell_type": "code",
   "execution_count": 140,
   "id": "fd17ddf3",
   "metadata": {},
   "outputs": [
    {
     "data": {
      "text/html": [
       "<div>\n",
       "<style scoped>\n",
       "    .dataframe tbody tr th:only-of-type {\n",
       "        vertical-align: middle;\n",
       "    }\n",
       "\n",
       "    .dataframe tbody tr th {\n",
       "        vertical-align: top;\n",
       "    }\n",
       "\n",
       "    .dataframe thead th {\n",
       "        text-align: right;\n",
       "    }\n",
       "</style>\n",
       "<table border=\"1\" class=\"dataframe\">\n",
       "  <thead>\n",
       "    <tr style=\"text-align: right;\">\n",
       "      <th></th>\n",
       "      <th>Job_title</th>\n",
       "      <th>location</th>\n",
       "      <th>Name</th>\n",
       "      <th>Experience</th>\n",
       "    </tr>\n",
       "  </thead>\n",
       "  <tbody>\n",
       "    <tr>\n",
       "      <th>0</th>\n",
       "      <td>Data Analyst - Python/Artificial Intelligence</td>\n",
       "      <td>Bangalore/Bengaluru, Mumbai, Hyderabad/Secunde...</td>\n",
       "      <td>iMindYourBusiness</td>\n",
       "      <td>0-2 Yrs</td>\n",
       "    </tr>\n",
       "    <tr>\n",
       "      <th>1</th>\n",
       "      <td>Senior Data Analyst</td>\n",
       "      <td>Bangalore/Bengaluru(Old Madras Road)</td>\n",
       "      <td>KrazyBee</td>\n",
       "      <td>3-6 Yrs</td>\n",
       "    </tr>\n",
       "    <tr>\n",
       "      <th>2</th>\n",
       "      <td>Senior Data Analyst</td>\n",
       "      <td>Bangalore/Bengaluru</td>\n",
       "      <td>Qualitest India Private Limited</td>\n",
       "      <td>5-8 Yrs</td>\n",
       "    </tr>\n",
       "    <tr>\n",
       "      <th>3</th>\n",
       "      <td>Sr. Data Analyst</td>\n",
       "      <td>Bangalore/Bengaluru, Pune</td>\n",
       "      <td>Global Indian School Education Services</td>\n",
       "      <td>6-11 Yrs</td>\n",
       "    </tr>\n",
       "    <tr>\n",
       "      <th>4</th>\n",
       "      <td>Master Data Management Business Analyst</td>\n",
       "      <td>Bangalore/Bengaluru</td>\n",
       "      <td>Accenture</td>\n",
       "      <td>6-8 Yrs</td>\n",
       "    </tr>\n",
       "    <tr>\n",
       "      <th>5</th>\n",
       "      <td>Data Analyst</td>\n",
       "      <td>Bangalore/Bengaluru, Ahmedabad</td>\n",
       "      <td>milestone internet marketing pvt ltd</td>\n",
       "      <td>2-7 Yrs</td>\n",
       "    </tr>\n",
       "    <tr>\n",
       "      <th>6</th>\n",
       "      <td>Forecasting Analyst/ Data Scientist (US Client)</td>\n",
       "      <td>Bangalore/Bengaluru, Gurgaon/Gurugram\\n(WFH du...</td>\n",
       "      <td>Concentrix</td>\n",
       "      <td>3-8 Yrs</td>\n",
       "    </tr>\n",
       "    <tr>\n",
       "      <th>7</th>\n",
       "      <td>Job opportunity Switzerland based MNC / JR. Da...</td>\n",
       "      <td>Bangalore/Bengaluru</td>\n",
       "      <td>Allegis Services India Pvt. Ltd.</td>\n",
       "      <td>0-2 Yrs</td>\n",
       "    </tr>\n",
       "    <tr>\n",
       "      <th>8</th>\n",
       "      <td>Job opportunity Switzerland based MNC / JR. Da...</td>\n",
       "      <td>Bangalore/Bengaluru</td>\n",
       "      <td>Allegis Services India Pvt. Ltd.</td>\n",
       "      <td>0-2 Yrs</td>\n",
       "    </tr>\n",
       "    <tr>\n",
       "      <th>9</th>\n",
       "      <td>Senior Analyst/Data Scientist</td>\n",
       "      <td>Bangalore/Bengaluru, Kolkata, Hyderabad/Secund...</td>\n",
       "      <td>JoulestoWatts</td>\n",
       "      <td>6-9 Yrs</td>\n",
       "    </tr>\n",
       "  </tbody>\n",
       "</table>\n",
       "</div>"
      ],
      "text/plain": [
       "                                           Job_title  \\\n",
       "0      Data Analyst - Python/Artificial Intelligence   \n",
       "1                                Senior Data Analyst   \n",
       "2                                Senior Data Analyst   \n",
       "3                                   Sr. Data Analyst   \n",
       "4            Master Data Management Business Analyst   \n",
       "5                                       Data Analyst   \n",
       "6    Forecasting Analyst/ Data Scientist (US Client)   \n",
       "7  Job opportunity Switzerland based MNC / JR. Da...   \n",
       "8  Job opportunity Switzerland based MNC / JR. Da...   \n",
       "9                      Senior Analyst/Data Scientist   \n",
       "\n",
       "                                            location  \\\n",
       "0  Bangalore/Bengaluru, Mumbai, Hyderabad/Secunde...   \n",
       "1               Bangalore/Bengaluru(Old Madras Road)   \n",
       "2                                Bangalore/Bengaluru   \n",
       "3                          Bangalore/Bengaluru, Pune   \n",
       "4                                Bangalore/Bengaluru   \n",
       "5                     Bangalore/Bengaluru, Ahmedabad   \n",
       "6  Bangalore/Bengaluru, Gurgaon/Gurugram\\n(WFH du...   \n",
       "7                                Bangalore/Bengaluru   \n",
       "8                                Bangalore/Bengaluru   \n",
       "9  Bangalore/Bengaluru, Kolkata, Hyderabad/Secund...   \n",
       "\n",
       "                                      Name Experience  \n",
       "0                        iMindYourBusiness    0-2 Yrs  \n",
       "1                                 KrazyBee    3-6 Yrs  \n",
       "2          Qualitest India Private Limited    5-8 Yrs  \n",
       "3  Global Indian School Education Services   6-11 Yrs  \n",
       "4                                Accenture    6-8 Yrs  \n",
       "5     milestone internet marketing pvt ltd    2-7 Yrs  \n",
       "6                               Concentrix    3-8 Yrs  \n",
       "7         Allegis Services India Pvt. Ltd.    0-2 Yrs  \n",
       "8         Allegis Services India Pvt. Ltd.    0-2 Yrs  \n",
       "9                            JoulestoWatts    6-9 Yrs  "
      ]
     },
     "execution_count": 140,
     "metadata": {},
     "output_type": "execute_result"
    }
   ],
   "source": [
    "df=pd.DataFrame({'Job_title':job_title,'location':job_location,'Name':company_name,'Experience':experience_required})\n",
    "df"
   ]
  },
  {
   "cell_type": "markdown",
   "id": "596a3bb6",
   "metadata": {},
   "source": [
    "Question2: Write a python program to scrape data for “Data Scientist” Job position in “Bangalore” location. You \n",
    "have to scrape the job-title, job-location, company_name. You have to scrape first 10 jobs data."
   ]
  },
  {
   "cell_type": "code",
   "execution_count": 141,
   "id": "30e02c22",
   "metadata": {},
   "outputs": [],
   "source": [
    "#Answer\n",
    "driver.get(\"https://www.naukri.com/\")\n"
   ]
  },
  {
   "cell_type": "code",
   "execution_count": 142,
   "id": "cf75d136",
   "metadata": {},
   "outputs": [],
   "source": [
    "Designation= driver.find_element(By.CLASS_NAME,\"suggestor-input\")\n",
    "Designation.send_keys('Data Scientist')"
   ]
  },
  {
   "cell_type": "code",
   "execution_count": 143,
   "id": "790c39ae",
   "metadata": {},
   "outputs": [],
   "source": [
    "Location=driver.find_element(By.XPATH,\"/html/body/div[1]/div[2]/div[3]/div/div/div[5]/div/div/div/input\")\n",
    "Location.send_keys('Bangalore')"
   ]
  },
  {
   "cell_type": "code",
   "execution_count": 144,
   "id": "48f040e3",
   "metadata": {},
   "outputs": [],
   "source": [
    "Search=driver.find_element(By.CLASS_NAME,\"qsbSubmit\")\n",
    "Search.click()"
   ]
  },
  {
   "cell_type": "code",
   "execution_count": 145,
   "id": "e4c7cd76",
   "metadata": {},
   "outputs": [],
   "source": [
    "job_title=[] \n",
    "job_location=[]\n",
    "company_name=[]\n",
    "experience_required=[]"
   ]
  },
  {
   "cell_type": "code",
   "execution_count": 146,
   "id": "0cf1bd9e",
   "metadata": {},
   "outputs": [],
   "source": [
    "title_tags=driver.find_elements(By.XPATH,'//a[@class=\"title fw500 ellipsis\"]')\n",
    "for i in title_tags[0:10]:\n",
    "    title=i.text\n",
    "    job_title.append(title)\n",
    "    \n",
    "location_tags=driver.find_elements(By.XPATH,'//li[@class=\"fleft grey-text br2 placeHolderLi location\"]')\n",
    "for i in location_tags[0:10]:\n",
    "    location=i.text\n",
    "    job_location.append(location)\n",
    "    \n",
    "    \n",
    "name_tags=driver.find_elements(By.XPATH,'//a[@class=\"subTitle ellipsis fleft\"]')\n",
    "for i in name_tags[0:10]:\n",
    "    name=i.text\n",
    "    company_name.append(name)\n",
    "    \n",
    "\n",
    "exp_tags=driver.find_elements(By.XPATH,'//li[@class=\"fleft grey-text br2 placeHolderLi experience\"]')\n",
    "for i in exp_tags[0:10]:\n",
    "    exp=i.text\n",
    "    experience_required.append(exp)"
   ]
  },
  {
   "cell_type": "code",
   "execution_count": 147,
   "id": "749efbe3",
   "metadata": {},
   "outputs": [
    {
     "name": "stdout",
     "output_type": "stream",
     "text": [
      "10 10 10 10\n"
     ]
    }
   ],
   "source": [
    "print(len(job_title),len(job_location),len(company_name),len(experience_required))"
   ]
  },
  {
   "cell_type": "code",
   "execution_count": 148,
   "id": "8865bbdf",
   "metadata": {},
   "outputs": [
    {
     "data": {
      "text/html": [
       "<div>\n",
       "<style scoped>\n",
       "    .dataframe tbody tr th:only-of-type {\n",
       "        vertical-align: middle;\n",
       "    }\n",
       "\n",
       "    .dataframe tbody tr th {\n",
       "        vertical-align: top;\n",
       "    }\n",
       "\n",
       "    .dataframe thead th {\n",
       "        text-align: right;\n",
       "    }\n",
       "</style>\n",
       "<table border=\"1\" class=\"dataframe\">\n",
       "  <thead>\n",
       "    <tr style=\"text-align: right;\">\n",
       "      <th></th>\n",
       "      <th>Job_title</th>\n",
       "      <th>location</th>\n",
       "      <th>Name</th>\n",
       "      <th>Experience</th>\n",
       "    </tr>\n",
       "  </thead>\n",
       "  <tbody>\n",
       "    <tr>\n",
       "      <th>0</th>\n",
       "      <td>Senior Manager - EmTech - Machine Learning - P&amp;T</td>\n",
       "      <td>Bangalore/Bengaluru, Mumbai, Hyderabad/Secunde...</td>\n",
       "      <td>PwC</td>\n",
       "      <td>5-12 Yrs</td>\n",
       "    </tr>\n",
       "    <tr>\n",
       "      <th>1</th>\n",
       "      <td>Analystics &amp; Modeling Specialist</td>\n",
       "      <td>Bangalore/Bengaluru, Kolkata, Mumbai, Hyderaba...</td>\n",
       "      <td>Accenture</td>\n",
       "      <td>6-8 Yrs</td>\n",
       "    </tr>\n",
       "    <tr>\n",
       "      <th>2</th>\n",
       "      <td>Data scientist _Tata Consultancy Services(Tcs)</td>\n",
       "      <td>Bangalore/Bengaluru, Kochi/Cochin, Indore, New...</td>\n",
       "      <td>TATA CONSULTANCY SERVICES (TCS)</td>\n",
       "      <td>9-14 Yrs</td>\n",
       "    </tr>\n",
       "    <tr>\n",
       "      <th>3</th>\n",
       "      <td>Job||Job Opening For AI Technologist - Data Sc...</td>\n",
       "      <td>Bangalore/Bengaluru, New Delhi, Hyderabad/Secu...</td>\n",
       "      <td>Wipro</td>\n",
       "      <td>5-10 Yrs</td>\n",
       "    </tr>\n",
       "    <tr>\n",
       "      <th>4</th>\n",
       "      <td>Hiring For DATA Scientist @ NTT DATA Business ...</td>\n",
       "      <td>Bangalore/Bengaluru, Noida, Hyderabad/Secunder...</td>\n",
       "      <td>NTT DATA Business Solutions Private Limited</td>\n",
       "      <td>4-9 Yrs</td>\n",
       "    </tr>\n",
       "    <tr>\n",
       "      <th>5</th>\n",
       "      <td>Tcs Hiring For Data Scientist</td>\n",
       "      <td>Bangalore/Bengaluru, Chennai, Mumbai (All Areas)</td>\n",
       "      <td>TATA CONSULTANCY SERVICES (TCS)</td>\n",
       "      <td>3-8 Yrs</td>\n",
       "    </tr>\n",
       "    <tr>\n",
       "      <th>6</th>\n",
       "      <td>Urgent Job Opening For AI Practitioner - Data ...</td>\n",
       "      <td>Bangalore/Bengaluru, Kochi/Cochin, New Delhi, ...</td>\n",
       "      <td>Wipro</td>\n",
       "      <td>11-20 Yrs</td>\n",
       "    </tr>\n",
       "    <tr>\n",
       "      <th>7</th>\n",
       "      <td>Data Scientist Python</td>\n",
       "      <td>Bangalore/Bengaluru, Hyderabad/Secunderabad</td>\n",
       "      <td>Conduent</td>\n",
       "      <td>3-7 Yrs</td>\n",
       "    </tr>\n",
       "    <tr>\n",
       "      <th>8</th>\n",
       "      <td>Assistant Manager - Data Science</td>\n",
       "      <td>Bangalore/Bengaluru, Mumbai, Pune</td>\n",
       "      <td>CitiusTech</td>\n",
       "      <td>5-9 Yrs</td>\n",
       "    </tr>\n",
       "    <tr>\n",
       "      <th>9</th>\n",
       "      <td>Data Scientist</td>\n",
       "      <td>Bangalore/Bengaluru, New Delhi, Pune, Gurgaon/...</td>\n",
       "      <td>ZS Associates</td>\n",
       "      <td>5-8 Yrs</td>\n",
       "    </tr>\n",
       "  </tbody>\n",
       "</table>\n",
       "</div>"
      ],
      "text/plain": [
       "                                           Job_title  \\\n",
       "0   Senior Manager - EmTech - Machine Learning - P&T   \n",
       "1                   Analystics & Modeling Specialist   \n",
       "2     Data scientist _Tata Consultancy Services(Tcs)   \n",
       "3  Job||Job Opening For AI Technologist - Data Sc...   \n",
       "4  Hiring For DATA Scientist @ NTT DATA Business ...   \n",
       "5                      Tcs Hiring For Data Scientist   \n",
       "6  Urgent Job Opening For AI Practitioner - Data ...   \n",
       "7                              Data Scientist Python   \n",
       "8                   Assistant Manager - Data Science   \n",
       "9                                     Data Scientist   \n",
       "\n",
       "                                            location  \\\n",
       "0  Bangalore/Bengaluru, Mumbai, Hyderabad/Secunde...   \n",
       "1  Bangalore/Bengaluru, Kolkata, Mumbai, Hyderaba...   \n",
       "2  Bangalore/Bengaluru, Kochi/Cochin, Indore, New...   \n",
       "3  Bangalore/Bengaluru, New Delhi, Hyderabad/Secu...   \n",
       "4  Bangalore/Bengaluru, Noida, Hyderabad/Secunder...   \n",
       "5   Bangalore/Bengaluru, Chennai, Mumbai (All Areas)   \n",
       "6  Bangalore/Bengaluru, Kochi/Cochin, New Delhi, ...   \n",
       "7        Bangalore/Bengaluru, Hyderabad/Secunderabad   \n",
       "8                  Bangalore/Bengaluru, Mumbai, Pune   \n",
       "9  Bangalore/Bengaluru, New Delhi, Pune, Gurgaon/...   \n",
       "\n",
       "                                          Name Experience  \n",
       "0                                          PwC   5-12 Yrs  \n",
       "1                                    Accenture    6-8 Yrs  \n",
       "2              TATA CONSULTANCY SERVICES (TCS)   9-14 Yrs  \n",
       "3                                        Wipro   5-10 Yrs  \n",
       "4  NTT DATA Business Solutions Private Limited    4-9 Yrs  \n",
       "5              TATA CONSULTANCY SERVICES (TCS)    3-8 Yrs  \n",
       "6                                        Wipro  11-20 Yrs  \n",
       "7                                     Conduent    3-7 Yrs  \n",
       "8                                   CitiusTech    5-9 Yrs  \n",
       "9                                ZS Associates    5-8 Yrs  "
      ]
     },
     "execution_count": 148,
     "metadata": {},
     "output_type": "execute_result"
    }
   ],
   "source": [
    "df=pd.DataFrame({'Job_title':job_title,'location':job_location,'Name':company_name,'Experience':experience_required})\n",
    "df"
   ]
  },
  {
   "cell_type": "markdown",
   "id": "6fa753d2",
   "metadata": {},
   "source": [
    "Q3: In this question you have to scrape data using the filters available on the webpage as shown below:\n",
    "You have to use the location and salary filter.\n",
    "You have to scrape data for “Data Scientist” designation for first 10 job results.\n",
    "You have to scrape the job-title, job-location, company name, experience required. \n",
    "The location filter to be used is “Delhi/NCR”. The salary filter to be used is “3-6” lakhs"
   ]
  },
  {
   "cell_type": "code",
   "execution_count": 149,
   "id": "d0bd26d2",
   "metadata": {},
   "outputs": [],
   "source": [
    "#Answer\n",
    "\n",
    "driver.get(\"https://www.naukri.com/\")"
   ]
  },
  {
   "cell_type": "code",
   "execution_count": 150,
   "id": "508fda4c",
   "metadata": {},
   "outputs": [],
   "source": [
    "Designation= driver.find_element(By.CLASS_NAME,\"suggestor-input\")\n",
    "Designation.send_keys('Data Scientist')"
   ]
  },
  {
   "cell_type": "code",
   "execution_count": 151,
   "id": "540ca824",
   "metadata": {},
   "outputs": [],
   "source": [
    "Location=driver.find_element(By.XPATH,\"/html/body/div[1]/div[2]/div[3]/div/div/div[5]/div/div/div/input\")\n",
    "Location.send_keys('Delhi/NCR')"
   ]
  },
  {
   "cell_type": "code",
   "execution_count": 152,
   "id": "0665deb4",
   "metadata": {},
   "outputs": [],
   "source": [
    "Search=driver.find_element(By.CLASS_NAME,\"qsbSubmit\")\n",
    "Search.click()"
   ]
  },
  {
   "cell_type": "code",
   "execution_count": 153,
   "id": "63171b4c",
   "metadata": {},
   "outputs": [],
   "source": [
    "job_title=[] \n",
    "job_location=[]\n",
    "company_name=[]\n",
    "experience_required=[]\n",
    "Salary=[]"
   ]
  },
  {
   "cell_type": "code",
   "execution_count": 154,
   "id": "d53bb359",
   "metadata": {},
   "outputs": [],
   "source": [
    "title_tags=driver.find_elements(By.XPATH,'//a[@class=\"title fw500 ellipsis\"]')\n",
    "for i in title_tags[0:10]:\n",
    "    title=i.text\n",
    "    job_title.append(title)\n",
    "    \n",
    "location_tags=driver.find_elements(By.XPATH,'//li[@class=\"fleft grey-text br2 placeHolderLi location\"]')\n",
    "for i in location_tags[0:10]:\n",
    "    location=i.text\n",
    "    job_location.append(location)\n",
    "    \n",
    "    \n",
    "name_tags=driver.find_elements(By.XPATH,'//a[@class=\"subTitle ellipsis fleft\"]')\n",
    "for i in name_tags[0:10]:\n",
    "    name=i.text\n",
    "    company_name.append(name)\n",
    "    \n",
    "\n",
    "exp_tags=driver.find_elements(By.XPATH,'//li[@class=\"fleft grey-text br2 placeHolderLi experience\"]')\n",
    "for i in exp_tags[0:10]:\n",
    "    exp=i.text\n",
    "    experience_required.append(exp)\n",
    "    \n",
    "    \n",
    "salary_tags=driver.find_elements(By.XPATH,'//li[@class=\"fleft grey-text br2 placeHolderLi salary\"]')\n",
    "for i in salary_tags[0:10]:\n",
    "    salary=i.text\n",
    "    Salary.append(salary)"
   ]
  },
  {
   "cell_type": "code",
   "execution_count": 155,
   "id": "688d5027",
   "metadata": {},
   "outputs": [
    {
     "name": "stdout",
     "output_type": "stream",
     "text": [
      "10 10 10 10 10\n"
     ]
    }
   ],
   "source": [
    "print(len(job_title),len(job_location),len(company_name),len(experience_required),len(Salary))"
   ]
  },
  {
   "cell_type": "code",
   "execution_count": 156,
   "id": "b75d8069",
   "metadata": {},
   "outputs": [
    {
     "data": {
      "text/html": [
       "<div>\n",
       "<style scoped>\n",
       "    .dataframe tbody tr th:only-of-type {\n",
       "        vertical-align: middle;\n",
       "    }\n",
       "\n",
       "    .dataframe tbody tr th {\n",
       "        vertical-align: top;\n",
       "    }\n",
       "\n",
       "    .dataframe thead th {\n",
       "        text-align: right;\n",
       "    }\n",
       "</style>\n",
       "<table border=\"1\" class=\"dataframe\">\n",
       "  <thead>\n",
       "    <tr style=\"text-align: right;\">\n",
       "      <th></th>\n",
       "      <th>Job_title</th>\n",
       "      <th>location</th>\n",
       "      <th>Name</th>\n",
       "      <th>Experience</th>\n",
       "      <th>SALARY</th>\n",
       "    </tr>\n",
       "  </thead>\n",
       "  <tbody>\n",
       "    <tr>\n",
       "      <th>0</th>\n",
       "      <td>Analystics &amp; Modeling Specialist</td>\n",
       "      <td>Kolkata, Mumbai, Hyderabad/Secunderabad, Pune,...</td>\n",
       "      <td>Accenture</td>\n",
       "      <td>6-8 Yrs</td>\n",
       "      <td>Not disclosed</td>\n",
       "    </tr>\n",
       "    <tr>\n",
       "      <th>1</th>\n",
       "      <td>Data scientist _Tata Consultancy Services(Tcs)</td>\n",
       "      <td>Delhi / NCR, Kochi/Cochin, Indore, New Delhi, ...</td>\n",
       "      <td>TATA CONSULTANCY SERVICES (TCS)</td>\n",
       "      <td>9-14 Yrs</td>\n",
       "      <td>Not disclosed</td>\n",
       "    </tr>\n",
       "    <tr>\n",
       "      <th>2</th>\n",
       "      <td>Job||Job Opening For AI Technologist - Data Sc...</td>\n",
       "      <td>New Delhi, Hyderabad/Secunderabad, Pune, Chenn...</td>\n",
       "      <td>Wipro</td>\n",
       "      <td>5-10 Yrs</td>\n",
       "      <td>Not disclosed</td>\n",
       "    </tr>\n",
       "    <tr>\n",
       "      <th>3</th>\n",
       "      <td>Hiring For DATA Scientist @ NTT DATA Business ...</td>\n",
       "      <td>Noida, Hyderabad/Secunderabad, Pune, Gurgaon/G...</td>\n",
       "      <td>NTT DATA Business Solutions Private Limited</td>\n",
       "      <td>4-9 Yrs</td>\n",
       "      <td>18,00,000 - 20,00,000 PA.</td>\n",
       "    </tr>\n",
       "    <tr>\n",
       "      <th>4</th>\n",
       "      <td>Urgent Job Opening For AI Practitioner - Data ...</td>\n",
       "      <td>Kochi/Cochin, New Delhi, Bangalore/Bengaluru, ...</td>\n",
       "      <td>Wipro</td>\n",
       "      <td>11-20 Yrs</td>\n",
       "      <td>Not disclosed</td>\n",
       "    </tr>\n",
       "    <tr>\n",
       "      <th>5</th>\n",
       "      <td>Data Scientist</td>\n",
       "      <td>Delhi / NCR, New Delhi, Pune, Gurgaon/Gurugram...</td>\n",
       "      <td>ZS Associates</td>\n",
       "      <td>5-8 Yrs</td>\n",
       "      <td>Not disclosed</td>\n",
       "    </tr>\n",
       "    <tr>\n",
       "      <th>6</th>\n",
       "      <td>Forecasting Analyst/ Data Scientist (US Client)</td>\n",
       "      <td>Gurgaon/Gurugram, Bangalore/Bengaluru\\n(WFH du...</td>\n",
       "      <td>Concentrix</td>\n",
       "      <td>3-8 Yrs</td>\n",
       "      <td>Not disclosed</td>\n",
       "    </tr>\n",
       "    <tr>\n",
       "      <th>7</th>\n",
       "      <td>Opening_ Data Scientist_ Pelatro Solutions</td>\n",
       "      <td>Delhi / NCR, Kolkata, Hyderabad/Secunderabad, ...</td>\n",
       "      <td>Pelatro Solutions</td>\n",
       "      <td>8-12 Yrs</td>\n",
       "      <td>Not disclosed</td>\n",
       "    </tr>\n",
       "    <tr>\n",
       "      <th>8</th>\n",
       "      <td>Affine- Hiring For Data Science - Work from Home</td>\n",
       "      <td>Delhi / NCR, Kolkata, Hyderabad/Secunderabad, ...</td>\n",
       "      <td>Affine</td>\n",
       "      <td>4-7 Yrs</td>\n",
       "      <td>Not disclosed</td>\n",
       "    </tr>\n",
       "    <tr>\n",
       "      <th>9</th>\n",
       "      <td>Data Scientist</td>\n",
       "      <td>Kolkata, Mumbai, Nagpur, Hyderabad/Secunderaba...</td>\n",
       "      <td>TRH Consultancy Services</td>\n",
       "      <td>5-10 Yrs</td>\n",
       "      <td>Not disclosed</td>\n",
       "    </tr>\n",
       "  </tbody>\n",
       "</table>\n",
       "</div>"
      ],
      "text/plain": [
       "                                           Job_title  \\\n",
       "0                   Analystics & Modeling Specialist   \n",
       "1     Data scientist _Tata Consultancy Services(Tcs)   \n",
       "2  Job||Job Opening For AI Technologist - Data Sc...   \n",
       "3  Hiring For DATA Scientist @ NTT DATA Business ...   \n",
       "4  Urgent Job Opening For AI Practitioner - Data ...   \n",
       "5                                     Data Scientist   \n",
       "6    Forecasting Analyst/ Data Scientist (US Client)   \n",
       "7         Opening_ Data Scientist_ Pelatro Solutions   \n",
       "8   Affine- Hiring For Data Science - Work from Home   \n",
       "9                                     Data Scientist   \n",
       "\n",
       "                                            location  \\\n",
       "0  Kolkata, Mumbai, Hyderabad/Secunderabad, Pune,...   \n",
       "1  Delhi / NCR, Kochi/Cochin, Indore, New Delhi, ...   \n",
       "2  New Delhi, Hyderabad/Secunderabad, Pune, Chenn...   \n",
       "3  Noida, Hyderabad/Secunderabad, Pune, Gurgaon/G...   \n",
       "4  Kochi/Cochin, New Delhi, Bangalore/Bengaluru, ...   \n",
       "5  Delhi / NCR, New Delhi, Pune, Gurgaon/Gurugram...   \n",
       "6  Gurgaon/Gurugram, Bangalore/Bengaluru\\n(WFH du...   \n",
       "7  Delhi / NCR, Kolkata, Hyderabad/Secunderabad, ...   \n",
       "8  Delhi / NCR, Kolkata, Hyderabad/Secunderabad, ...   \n",
       "9  Kolkata, Mumbai, Nagpur, Hyderabad/Secunderaba...   \n",
       "\n",
       "                                          Name Experience  \\\n",
       "0                                    Accenture    6-8 Yrs   \n",
       "1              TATA CONSULTANCY SERVICES (TCS)   9-14 Yrs   \n",
       "2                                        Wipro   5-10 Yrs   \n",
       "3  NTT DATA Business Solutions Private Limited    4-9 Yrs   \n",
       "4                                        Wipro  11-20 Yrs   \n",
       "5                                ZS Associates    5-8 Yrs   \n",
       "6                                   Concentrix    3-8 Yrs   \n",
       "7                            Pelatro Solutions   8-12 Yrs   \n",
       "8                                       Affine    4-7 Yrs   \n",
       "9                     TRH Consultancy Services   5-10 Yrs   \n",
       "\n",
       "                      SALARY  \n",
       "0              Not disclosed  \n",
       "1              Not disclosed  \n",
       "2              Not disclosed  \n",
       "3  18,00,000 - 20,00,000 PA.  \n",
       "4              Not disclosed  \n",
       "5              Not disclosed  \n",
       "6              Not disclosed  \n",
       "7              Not disclosed  \n",
       "8              Not disclosed  \n",
       "9              Not disclosed  "
      ]
     },
     "execution_count": 156,
     "metadata": {},
     "output_type": "execute_result"
    }
   ],
   "source": [
    "df=pd.DataFrame({'Job_title':job_title,'location':job_location,'Name':company_name,'Experience':experience_required,\"SALARY\":Salary})\n",
    "df"
   ]
  },
  {
   "cell_type": "markdown",
   "id": "22dc2860",
   "metadata": {},
   "source": [
    "Q4: Scrape data of first 100 sunglasses listings on flipkart.com. You have to scrape four attributes:\n",
    "1. Brand\n",
    "2. Product Description\n",
    "3. Price"
   ]
  },
  {
   "cell_type": "code",
   "execution_count": 178,
   "id": "74aaba8a",
   "metadata": {},
   "outputs": [],
   "source": [
    "#Answer\n",
    "\n",
    "driver.get(\"https://www.flipkart.com/\")"
   ]
  },
  {
   "cell_type": "code",
   "execution_count": 179,
   "id": "e5edfce4",
   "metadata": {},
   "outputs": [],
   "source": [
    "Product_name= driver.find_element(By.CLASS_NAME,\"_3704LK\")\n",
    "Product_name.send_keys('Sun glasses')"
   ]
  },
  {
   "cell_type": "code",
   "execution_count": 180,
   "id": "3dbb8f6e",
   "metadata": {},
   "outputs": [],
   "source": [
    "Search=driver.find_element(By.CLASS_NAME,\"L0Z3Pu\")\n",
    "Search.click()"
   ]
  },
  {
   "cell_type": "code",
   "execution_count": 181,
   "id": "44a2e471",
   "metadata": {},
   "outputs": [],
   "source": [
    "Brand=[] \n",
    "product_description=[]\n",
    "Price=[]\n",
    "Discount=[]\n"
   ]
  },
  {
   "cell_type": "code",
   "execution_count": 182,
   "id": "76c7e5ff",
   "metadata": {},
   "outputs": [],
   "source": [
    "start=0\n",
    "end=3\n",
    "\n",
    "for page in range(start,end):\n",
    "    brand_tags=driver.find_elements(By.XPATH,'//div[@class=\"_2WkVRV\"]')\n",
    "    for i in brand_tags:\n",
    "        brand=i.text\n",
    "        Brand.append(brand)\n",
    "    \n",
    "\n",
    "\n",
    "    pdescription_tags=driver.find_elements(By.XPATH,'//a[@class=\"IRpwTa\"]')\n",
    "    for i in pdescription_tags:\n",
    "        product=i.text\n",
    "        product_description.append(product)\n",
    "    \n",
    "    \n",
    "    price_tags=driver.find_elements(By.XPATH,'//div[@class=\"_30jeq3\"]')\n",
    "    for i in price_tags:\n",
    "        price=i.text\n",
    "        Price.append(price)\n",
    "   \n",
    "\n",
    "    discount_tags=driver.find_elements(By.XPATH,'//div[@class=\"_3Ay6Sb\"]')\n",
    "    for i in discount_tags:\n",
    "        discount=i.text\n",
    "        Discount.append(discount)\n",
    "    \n",
    "    next_button=driver.find_element(By.XPATH,'//a[@class=\"_1LKTO3\"]')\n",
    "    next_button.click()\n",
    "    time.sleep(3)"
   ]
  },
  {
   "cell_type": "code",
   "execution_count": 183,
   "id": "6ff917fa",
   "metadata": {},
   "outputs": [
    {
     "name": "stdout",
     "output_type": "stream",
     "text": [
      "120 120 120 120\n"
     ]
    }
   ],
   "source": [
    "print(len(Brand),len(product_description),len(Price),len(Discount))"
   ]
  },
  {
   "cell_type": "code",
   "execution_count": 184,
   "id": "bc91ccf4",
   "metadata": {},
   "outputs": [
    {
     "data": {
      "text/html": [
       "<div>\n",
       "<style scoped>\n",
       "    .dataframe tbody tr th:only-of-type {\n",
       "        vertical-align: middle;\n",
       "    }\n",
       "\n",
       "    .dataframe tbody tr th {\n",
       "        vertical-align: top;\n",
       "    }\n",
       "\n",
       "    .dataframe thead th {\n",
       "        text-align: right;\n",
       "    }\n",
       "</style>\n",
       "<table border=\"1\" class=\"dataframe\">\n",
       "  <thead>\n",
       "    <tr style=\"text-align: right;\">\n",
       "      <th></th>\n",
       "      <th>Brand name</th>\n",
       "      <th>Product details</th>\n",
       "      <th>Price</th>\n",
       "      <th>Discount</th>\n",
       "    </tr>\n",
       "  </thead>\n",
       "  <tbody>\n",
       "    <tr>\n",
       "      <th>0</th>\n",
       "      <td>Fastrack</td>\n",
       "      <td>UV Protection Wayfarer Sunglasses (Free Size)</td>\n",
       "      <td>₹799</td>\n",
       "      <td>20% off</td>\n",
       "    </tr>\n",
       "    <tr>\n",
       "      <th>1</th>\n",
       "      <td>Fastrack</td>\n",
       "      <td>UV Protection Rectangular Sunglasses (Free Size)</td>\n",
       "      <td>₹639</td>\n",
       "      <td>20% off</td>\n",
       "    </tr>\n",
       "    <tr>\n",
       "      <th>2</th>\n",
       "      <td>PIRASO</td>\n",
       "      <td>UV Protection Rectangular Sunglasses (52)</td>\n",
       "      <td>₹252</td>\n",
       "      <td>90% off</td>\n",
       "    </tr>\n",
       "    <tr>\n",
       "      <th>3</th>\n",
       "      <td>New Specs</td>\n",
       "      <td>UV Protection Rectangular Sunglasses (Free Size)</td>\n",
       "      <td>₹264</td>\n",
       "      <td>89% off</td>\n",
       "    </tr>\n",
       "    <tr>\n",
       "      <th>4</th>\n",
       "      <td>Fastrack</td>\n",
       "      <td>UV Protection Aviator Sunglasses (Free Size)</td>\n",
       "      <td>₹639</td>\n",
       "      <td>20% off</td>\n",
       "    </tr>\n",
       "    <tr>\n",
       "      <th>...</th>\n",
       "      <td>...</td>\n",
       "      <td>...</td>\n",
       "      <td>...</td>\n",
       "      <td>...</td>\n",
       "    </tr>\n",
       "    <tr>\n",
       "      <th>115</th>\n",
       "      <td>Fastrack</td>\n",
       "      <td>Mirrored, UV Protection Wayfarer Sunglasses (F...</td>\n",
       "      <td>₹899</td>\n",
       "      <td>10% off</td>\n",
       "    </tr>\n",
       "    <tr>\n",
       "      <th>116</th>\n",
       "      <td>Fastrack</td>\n",
       "      <td>UV Protection Aviator Sunglasses (57)</td>\n",
       "      <td>₹639</td>\n",
       "      <td>20% off</td>\n",
       "    </tr>\n",
       "    <tr>\n",
       "      <th>117</th>\n",
       "      <td>PHENOMENAL</td>\n",
       "      <td>UV Protection, Mirrored Retro Square Sunglasse...</td>\n",
       "      <td>₹369</td>\n",
       "      <td>81% off</td>\n",
       "    </tr>\n",
       "    <tr>\n",
       "      <th>118</th>\n",
       "      <td>Fastrack</td>\n",
       "      <td>Polarized Retro Square Sunglasses (Free Size)</td>\n",
       "      <td>₹639</td>\n",
       "      <td>20% off</td>\n",
       "    </tr>\n",
       "    <tr>\n",
       "      <th>119</th>\n",
       "      <td>Fastrack</td>\n",
       "      <td>Gradient Round Sunglasses (Free Size)</td>\n",
       "      <td>₹1,599</td>\n",
       "      <td>20% off</td>\n",
       "    </tr>\n",
       "  </tbody>\n",
       "</table>\n",
       "<p>120 rows × 4 columns</p>\n",
       "</div>"
      ],
      "text/plain": [
       "     Brand name                                    Product details   Price  \\\n",
       "0      Fastrack      UV Protection Wayfarer Sunglasses (Free Size)    ₹799   \n",
       "1      Fastrack   UV Protection Rectangular Sunglasses (Free Size)    ₹639   \n",
       "2        PIRASO          UV Protection Rectangular Sunglasses (52)    ₹252   \n",
       "3     New Specs   UV Protection Rectangular Sunglasses (Free Size)    ₹264   \n",
       "4      Fastrack       UV Protection Aviator Sunglasses (Free Size)    ₹639   \n",
       "..          ...                                                ...     ...   \n",
       "115    Fastrack  Mirrored, UV Protection Wayfarer Sunglasses (F...    ₹899   \n",
       "116    Fastrack              UV Protection Aviator Sunglasses (57)    ₹639   \n",
       "117  PHENOMENAL  UV Protection, Mirrored Retro Square Sunglasse...    ₹369   \n",
       "118    Fastrack      Polarized Retro Square Sunglasses (Free Size)    ₹639   \n",
       "119    Fastrack              Gradient Round Sunglasses (Free Size)  ₹1,599   \n",
       "\n",
       "    Discount  \n",
       "0    20% off  \n",
       "1    20% off  \n",
       "2    90% off  \n",
       "3    89% off  \n",
       "4    20% off  \n",
       "..       ...  \n",
       "115  10% off  \n",
       "116  20% off  \n",
       "117  81% off  \n",
       "118  20% off  \n",
       "119  20% off  \n",
       "\n",
       "[120 rows x 4 columns]"
      ]
     },
     "execution_count": 184,
     "metadata": {},
     "output_type": "execute_result"
    }
   ],
   "source": [
    "df=pd.DataFrame({'Brand name':Brand,\"Product details\":product_description,'Price':Price,'Discount':Discount})\n",
    "df"
   ]
  },
  {
   "cell_type": "markdown",
   "id": "1c1b44f6",
   "metadata": {},
   "source": [
    "Q5: Scrape 100 reviews data from flipkart.com for iphone11 phone."
   ]
  },
  {
   "cell_type": "code",
   "execution_count": 270,
   "id": "675978c8",
   "metadata": {},
   "outputs": [
    {
     "data": {
      "text/plain": [
       "<selenium.webdriver.chrome.webdriver.WebDriver (session=\"da13ad431db0a63793cccf8cd70000ed\")>"
      ]
     },
     "execution_count": 270,
     "metadata": {},
     "output_type": "execute_result"
    }
   ],
   "source": [
    "driver= webdriver.Chrome(r\"C:\\Users\\Lenovo\\Downloads\\chromedriver_win32\\chromedriver.exe\")\n",
    "driver"
   ]
  },
  {
   "cell_type": "code",
   "execution_count": 271,
   "id": "c3f2e3a8",
   "metadata": {},
   "outputs": [],
   "source": [
    "driver.get(\"https://www.flipkart.com/\")"
   ]
  },
  {
   "cell_type": "code",
   "execution_count": 272,
   "id": "0e33ae99",
   "metadata": {},
   "outputs": [],
   "source": [
    "Product_name= driver.find_element(By.CLASS_NAME,\"_3704LK\")\n",
    "Product_name.send_keys('iphone 11')"
   ]
  },
  {
   "cell_type": "code",
   "execution_count": 273,
   "id": "b81b7736",
   "metadata": {},
   "outputs": [],
   "source": [
    "Search=driver.find_element(By.CLASS_NAME,\"L0Z3Pu\")\n",
    "Search.click()"
   ]
  },
  {
   "cell_type": "code",
   "execution_count": 274,
   "id": "b46d4458",
   "metadata": {},
   "outputs": [],
   "source": [
    "click_first_phone =driver.find_element(By.XPATH,\"/html/body/div[1]/div/div[3]/div[1]/div[2]/div[2]/div/div/div/a/div[2]/div[1]/div[1]\")\n",
    "click_first_phone.click()"
   ]
  },
  {
   "cell_type": "code",
   "execution_count": 275,
   "id": "57fb0087",
   "metadata": {},
   "outputs": [],
   "source": [
    "Rating=[] \n",
    "review_summary=[]\n",
    "Review=[]"
   ]
  },
  {
   "cell_type": "code",
   "execution_count": 276,
   "id": "5d3fd7d4",
   "metadata": {},
   "outputs": [],
   "source": [
    "start=0\n",
    "end=10\n",
    "\n",
    "for page in range(start,end):\n",
    "    \n",
    "    rating=driver.find_elements(By.XPATH,'//div[@class=\"_3LWZlK _1BLPMq\"]')\n",
    "    for i in rating:\n",
    "        rating=i.text\n",
    "        Rating.append(rating)\n",
    "    \n",
    "\n",
    "\n",
    "    summary=driver.find_elements(By.XPATH,'//p[@class=\"_2-N8zT\"]')\n",
    "    for i in summary:\n",
    "        summary=i.text\n",
    "        review_summary.append(summary)\n",
    "    \n",
    "    \n",
    "    review=driver.find_elements(By.XPATH,'//div[@class=\"t-ZTKy\"]')\n",
    "    for i in review:\n",
    "        review=i.text\n",
    "        Review.append(review)\n",
    "   \n",
    "    \n",
    "    next_button=driver.find_element(By.XPATH,'//a[@class=\"_1LKTO3\"]//span')\n",
    "    next_button.click()\n",
    "    time.sleep(5)"
   ]
  },
  {
   "cell_type": "code",
   "execution_count": 277,
   "id": "e8bcd525",
   "metadata": {},
   "outputs": [
    {
     "name": "stdout",
     "output_type": "stream",
     "text": [
      "0 0 0\n"
     ]
    }
   ],
   "source": [
    "print(len(Rating),len(review_summary),len(Review))"
   ]
  },
  {
   "cell_type": "code",
   "execution_count": 278,
   "id": "3eb4d40e",
   "metadata": {},
   "outputs": [
    {
     "data": {
      "text/html": [
       "<div>\n",
       "<style scoped>\n",
       "    .dataframe tbody tr th:only-of-type {\n",
       "        vertical-align: middle;\n",
       "    }\n",
       "\n",
       "    .dataframe tbody tr th {\n",
       "        vertical-align: top;\n",
       "    }\n",
       "\n",
       "    .dataframe thead th {\n",
       "        text-align: right;\n",
       "    }\n",
       "</style>\n",
       "<table border=\"1\" class=\"dataframe\">\n",
       "  <thead>\n",
       "    <tr style=\"text-align: right;\">\n",
       "      <th></th>\n",
       "      <th>Rating</th>\n",
       "      <th>review_summary</th>\n",
       "      <th>Review</th>\n",
       "    </tr>\n",
       "  </thead>\n",
       "  <tbody>\n",
       "  </tbody>\n",
       "</table>\n",
       "</div>"
      ],
      "text/plain": [
       "Empty DataFrame\n",
       "Columns: [Rating, review_summary, Review]\n",
       "Index: []"
      ]
     },
     "execution_count": 278,
     "metadata": {},
     "output_type": "execute_result"
    }
   ],
   "source": [
    "df=pd.DataFrame({'Rating':Rating,\"review_summary\":review_summary,'Review':Review,})\n",
    "df"
   ]
  },
  {
   "cell_type": "markdown",
   "id": "336039e9",
   "metadata": {},
   "source": [
    "Q6-Scrape data for first 100 sneakers you find when you visit flipkart.com and search for “sneakers” in the \n",
    "search field.\n",
    "You have to scrape 4 attributes of each sneaker:\n",
    "1. Brand\n",
    "2. Product Description\n",
    "3. Price"
   ]
  },
  {
   "cell_type": "code",
   "execution_count": 279,
   "id": "ab8020f8",
   "metadata": {},
   "outputs": [
    {
     "data": {
      "text/plain": [
       "<selenium.webdriver.chrome.webdriver.WebDriver (session=\"6384ba9bfac03f852452e839ea5e185b\")>"
      ]
     },
     "execution_count": 279,
     "metadata": {},
     "output_type": "execute_result"
    }
   ],
   "source": [
    "driver= webdriver.Chrome(r\"C:\\Users\\Lenovo\\Downloads\\chromedriver_win32\\chromedriver.exe\")\n",
    "driver"
   ]
  },
  {
   "cell_type": "code",
   "execution_count": 280,
   "id": "5b9bbf59",
   "metadata": {},
   "outputs": [],
   "source": [
    "driver.maximize_window()"
   ]
  },
  {
   "cell_type": "code",
   "execution_count": 281,
   "id": "590036d7",
   "metadata": {},
   "outputs": [],
   "source": [
    "driver.get('https://www.flipkart.com/')\n",
    "time.sleep(2)"
   ]
  },
  {
   "cell_type": "code",
   "execution_count": 283,
   "id": "1f97a8bb",
   "metadata": {},
   "outputs": [],
   "source": [
    "search_item = driver.find_element(By.CLASS_NAME,\"_3704LK\")\n",
    "search_item.send_keys(\"sneakers\")\n",
    "time.sleep(3)"
   ]
  },
  {
   "cell_type": "code",
   "execution_count": 284,
   "id": "84903e87",
   "metadata": {},
   "outputs": [],
   "source": [
    "click_search_button = driver.find_element(By.XPATH,\"/html/body/div[1]/div/div[1]/div[1]/div[2]/div[2]/form/div/button\")\n",
    "click_search_button.click()\n",
    "time.sleep(3)"
   ]
  },
  {
   "cell_type": "code",
   "execution_count": 287,
   "id": "d4c0d06d",
   "metadata": {},
   "outputs": [],
   "source": [
    "Brand = []\n",
    "Product_Description = []\n",
    "Price = []\n",
    "\n",
    "for i in range(3):\n",
    "    \n",
    "    \n",
    "    brand = driver.find_elements(By.XPATH,\"//div[@class='_2WkVRV']\")\n",
    "    for i in brand:\n",
    "        Brand.append(i.text)\n",
    "    \n",
    "    product_des = driver.find_elements(By.XPATH,\"//div[@class='_2B099V']/a[1]\")\n",
    "    for i in product_des:\n",
    "        Product_Description.append(i.text)\n",
    "        \n",
    "    price = driver.find_elements(By.XPATH,\"//div[@class='_30jeq3']\")\n",
    "    for i in price :\n",
    "        Price.append(i.text)\n",
    "    \n",
    "time.sleep(3)\n",
    "\n",
    "next_button = driver.find_element(By.XPATH,\"//a[@class='_1LKTO3']\")\n",
    "next_button.click()"
   ]
  },
  {
   "cell_type": "code",
   "execution_count": 286,
   "id": "d4876519",
   "metadata": {},
   "outputs": [
    {
     "name": "stdout",
     "output_type": "stream",
     "text": [
      "120 120 120\n"
     ]
    }
   ],
   "source": [
    "print(len(Brand),len(Product_Description),len(Price))"
   ]
  },
  {
   "cell_type": "code",
   "execution_count": 288,
   "id": "38f11375",
   "metadata": {},
   "outputs": [
    {
     "data": {
      "text/html": [
       "<div>\n",
       "<style scoped>\n",
       "    .dataframe tbody tr th:only-of-type {\n",
       "        vertical-align: middle;\n",
       "    }\n",
       "\n",
       "    .dataframe tbody tr th {\n",
       "        vertical-align: top;\n",
       "    }\n",
       "\n",
       "    .dataframe thead th {\n",
       "        text-align: right;\n",
       "    }\n",
       "</style>\n",
       "<table border=\"1\" class=\"dataframe\">\n",
       "  <thead>\n",
       "    <tr style=\"text-align: right;\">\n",
       "      <th></th>\n",
       "      <th>Brand</th>\n",
       "      <th>Product_Description</th>\n",
       "      <th>Price</th>\n",
       "    </tr>\n",
       "  </thead>\n",
       "  <tbody>\n",
       "    <tr>\n",
       "      <th>0</th>\n",
       "      <td>RapidBox</td>\n",
       "      <td>Sneakers For Men</td>\n",
       "      <td>₹640</td>\n",
       "    </tr>\n",
       "    <tr>\n",
       "      <th>1</th>\n",
       "      <td>aadi</td>\n",
       "      <td>Mesh | Ultralightweight | Comfortable | Breath...</td>\n",
       "      <td>₹374</td>\n",
       "    </tr>\n",
       "    <tr>\n",
       "      <th>2</th>\n",
       "      <td>PUMA</td>\n",
       "      <td>Puma Smash Wns v2 L Sneakers For Women</td>\n",
       "      <td>₹1,542</td>\n",
       "    </tr>\n",
       "    <tr>\n",
       "      <th>3</th>\n",
       "      <td>PUMA</td>\n",
       "      <td>Glory Sneakers For Men</td>\n",
       "      <td>₹1,747</td>\n",
       "    </tr>\n",
       "    <tr>\n",
       "      <th>4</th>\n",
       "      <td>Chevit</td>\n",
       "      <td>Super Stylish &amp; Trendy Combo Pack of 02 Pairs ...</td>\n",
       "      <td>₹544</td>\n",
       "    </tr>\n",
       "    <tr>\n",
       "      <th>...</th>\n",
       "      <td>...</td>\n",
       "      <td>...</td>\n",
       "      <td>...</td>\n",
       "    </tr>\n",
       "    <tr>\n",
       "      <th>95</th>\n",
       "      <td>AMICO</td>\n",
       "      <td>Sneakers For Men</td>\n",
       "      <td>₹466</td>\n",
       "    </tr>\n",
       "    <tr>\n",
       "      <th>96</th>\n",
       "      <td>Layasa</td>\n",
       "      <td>Sneakers For Men</td>\n",
       "      <td>₹439</td>\n",
       "    </tr>\n",
       "    <tr>\n",
       "      <th>97</th>\n",
       "      <td>Kzaara</td>\n",
       "      <td>Sneakers For Men</td>\n",
       "      <td>₹259</td>\n",
       "    </tr>\n",
       "    <tr>\n",
       "      <th>98</th>\n",
       "      <td>RED TAPE</td>\n",
       "      <td>Sneakers For Men</td>\n",
       "      <td>₹1,619</td>\n",
       "    </tr>\n",
       "    <tr>\n",
       "      <th>99</th>\n",
       "      <td>SCATCHITE</td>\n",
       "      <td>Sneakers Sneakers For Men</td>\n",
       "      <td>₹404</td>\n",
       "    </tr>\n",
       "  </tbody>\n",
       "</table>\n",
       "<p>100 rows × 3 columns</p>\n",
       "</div>"
      ],
      "text/plain": [
       "        Brand                                Product_Description   Price\n",
       "0    RapidBox                                   Sneakers For Men    ₹640\n",
       "1        aadi  Mesh | Ultralightweight | Comfortable | Breath...    ₹374\n",
       "2        PUMA             Puma Smash Wns v2 L Sneakers For Women  ₹1,542\n",
       "3        PUMA                             Glory Sneakers For Men  ₹1,747\n",
       "4      Chevit  Super Stylish & Trendy Combo Pack of 02 Pairs ...    ₹544\n",
       "..        ...                                                ...     ...\n",
       "95      AMICO                                   Sneakers For Men    ₹466\n",
       "96     Layasa                                   Sneakers For Men    ₹439\n",
       "97     Kzaara                                   Sneakers For Men    ₹259\n",
       "98   RED TAPE                                   Sneakers For Men  ₹1,619\n",
       "99  SCATCHITE                          Sneakers Sneakers For Men    ₹404\n",
       "\n",
       "[100 rows x 3 columns]"
      ]
     },
     "execution_count": 288,
     "metadata": {},
     "output_type": "execute_result"
    }
   ],
   "source": [
    "df = pd.DataFrame({'Brand':Brand,'Product_Description':Product_Description,'Price':Price})\n",
    "\n",
    "df[0:100]"
   ]
  },
  {
   "cell_type": "markdown",
   "id": "6a500ae5",
   "metadata": {},
   "source": [
    "Q7: Go to the link - https://www.myntra.com/shoes\n",
    "Set second Price filter and Color filter to “Black”, as shown in the below image."
   ]
  },
  {
   "cell_type": "code",
   "execution_count": 32,
   "id": "dc0d9a05",
   "metadata": {},
   "outputs": [
    {
     "data": {
      "text/plain": [
       "<selenium.webdriver.chrome.webdriver.WebDriver (session=\"8eb1c9e3ed70d01e1c9a39767ef99875\")>"
      ]
     },
     "execution_count": 32,
     "metadata": {},
     "output_type": "execute_result"
    }
   ],
   "source": [
    "driver= webdriver.Chrome(r\"C:\\Users\\Lenovo\\Downloads\\chromedriver_win32\\chromedriver.exe\")\n",
    "driver"
   ]
  },
  {
   "cell_type": "code",
   "execution_count": 33,
   "id": "dd25493a",
   "metadata": {},
   "outputs": [],
   "source": [
    "driver.get('https://www.myntra.com/shoes')"
   ]
  },
  {
   "cell_type": "code",
   "execution_count": 34,
   "id": "c5c95a48",
   "metadata": {},
   "outputs": [],
   "source": [
    "color_filter = driver.find_element(By.XPATH,\"/html/body/div[2]/div/div[1]/main/div[3]/div[1]/section/div/div[6]/ul/li[1]/label/div\")\n",
    "color_filter.click()"
   ]
  },
  {
   "cell_type": "code",
   "execution_count": 36,
   "id": "d2dfdbfc",
   "metadata": {},
   "outputs": [],
   "source": [
    "price_filter = driver.find_element(By.XPATH,\"/html/body/div[2]/div/div[1]/main/div[3]/div[1]/section/div/div[5]/ul/li[2]/label/div\")\n",
    "price_filter.click()"
   ]
  },
  {
   "cell_type": "code",
   "execution_count": 24,
   "id": "4a4e25c6",
   "metadata": {},
   "outputs": [],
   "source": [
    "Brand = []\n",
    "Shoes_description = []\n",
    "Price = []"
   ]
  },
  {
   "cell_type": "code",
   "execution_count": 25,
   "id": "248eef5d",
   "metadata": {},
   "outputs": [],
   "source": [
    "\n",
    "\n",
    "for i in range(2):\n",
    "    \n",
    "    brand = driver.find_elements(By.XPATH,\"//h3[@class='product-brand']\")\n",
    "    for i in brand : \n",
    "        Brand.append(i.text)\n",
    "    \n",
    "    shoes_description = driver.find_elements(By.XPATH,\"//h4[@class='product-product']\")\n",
    "    for i in shoes_description: \n",
    "        Shoes_description.append(i.text)\n",
    "        \n",
    "        \n",
    "    price = driver.find_elements(By.XPATH,\"//div[@class='product-price']/span[1]\")\n",
    "    for i in price : \n",
    "        Price.append(i.text)\n",
    "\n",
    "time.sleep(3)\n",
    "\n"
   ]
  },
  {
   "cell_type": "code",
   "execution_count": 26,
   "id": "977b2ee0",
   "metadata": {},
   "outputs": [],
   "source": [
    "next_page = driver.find_element(By.XPATH,\"/html/body/div[2]/div/div[1]/main/div[3]/div[2]/div/div[2]/section/div[2]/ul/li[12]/a\")\n",
    "next_page.click()\n"
   ]
  },
  {
   "cell_type": "code",
   "execution_count": 48,
   "id": "dcc3f96d",
   "metadata": {},
   "outputs": [
    {
     "name": "stdout",
     "output_type": "stream",
     "text": [
      "100 100 4\n"
     ]
    }
   ],
   "source": [
    "print(len(Brand),len(Shoes_description),len(Price))"
   ]
  },
  {
   "cell_type": "code",
   "execution_count": 28,
   "id": "e1840987",
   "metadata": {},
   "outputs": [
    {
     "data": {
      "text/html": [
       "<div>\n",
       "<style scoped>\n",
       "    .dataframe tbody tr th:only-of-type {\n",
       "        vertical-align: middle;\n",
       "    }\n",
       "\n",
       "    .dataframe tbody tr th {\n",
       "        vertical-align: top;\n",
       "    }\n",
       "\n",
       "    .dataframe thead th {\n",
       "        text-align: right;\n",
       "    }\n",
       "</style>\n",
       "<table border=\"1\" class=\"dataframe\">\n",
       "  <thead>\n",
       "    <tr style=\"text-align: right;\">\n",
       "      <th></th>\n",
       "      <th>Brand</th>\n",
       "      <th>Shoes_description</th>\n",
       "      <th>Price</th>\n",
       "    </tr>\n",
       "  </thead>\n",
       "  <tbody>\n",
       "    <tr>\n",
       "      <th>0</th>\n",
       "      <td>Nike</td>\n",
       "      <td>Men ZOOM WINFLO8 Running Shoes</td>\n",
       "      <td>Rs. 7465Rs. 8295</td>\n",
       "    </tr>\n",
       "    <tr>\n",
       "      <th>1</th>\n",
       "      <td>Nike</td>\n",
       "      <td>Men React Infinity 3 Running</td>\n",
       "      <td>Rs. 11895Rs. 13995</td>\n",
       "    </tr>\n",
       "    <tr>\n",
       "      <th>2</th>\n",
       "      <td>ADIDAS</td>\n",
       "      <td>Men Solar Glide 4 ST Running</td>\n",
       "      <td>Rs. 11999Rs. 14999</td>\n",
       "    </tr>\n",
       "    <tr>\n",
       "      <th>3</th>\n",
       "      <td>Skechers</td>\n",
       "      <td>Men Max Cushioning Running</td>\n",
       "      <td>Rs. 7199Rs. 8999</td>\n",
       "    </tr>\n",
       "    <tr>\n",
       "      <th>4</th>\n",
       "      <td>Skechers</td>\n",
       "      <td>Men Max Cushioning Running</td>\n",
       "      <td>Rs. 7199Rs. 8999</td>\n",
       "    </tr>\n",
       "    <tr>\n",
       "      <th>...</th>\n",
       "      <td>...</td>\n",
       "      <td>...</td>\n",
       "      <td>...</td>\n",
       "    </tr>\n",
       "    <tr>\n",
       "      <th>95</th>\n",
       "      <td>Puma</td>\n",
       "      <td>Men KING Top Football Shoes</td>\n",
       "      <td>Rs. 7199Rs. 11999</td>\n",
       "    </tr>\n",
       "    <tr>\n",
       "      <th>96</th>\n",
       "      <td>ADIDAS Originals</td>\n",
       "      <td>Men Woven NMD_31 Sneakers</td>\n",
       "      <td>Rs. 11899Rs. 13999</td>\n",
       "    </tr>\n",
       "    <tr>\n",
       "      <th>97</th>\n",
       "      <td>ADIDAS</td>\n",
       "      <td>Men Dropset Training Shoes</td>\n",
       "      <td>Rs. 12999</td>\n",
       "    </tr>\n",
       "    <tr>\n",
       "      <th>98</th>\n",
       "      <td>Clarks</td>\n",
       "      <td>Men Leather Slip-Ons</td>\n",
       "      <td>Rs. 9999</td>\n",
       "    </tr>\n",
       "    <tr>\n",
       "      <th>99</th>\n",
       "      <td>Tommy Hilfiger</td>\n",
       "      <td>Men Sneakers</td>\n",
       "      <td>Rs. 6799Rs. 7999</td>\n",
       "    </tr>\n",
       "  </tbody>\n",
       "</table>\n",
       "<p>100 rows × 3 columns</p>\n",
       "</div>"
      ],
      "text/plain": [
       "               Brand               Shoes_description               Price\n",
       "0               Nike  Men ZOOM WINFLO8 Running Shoes    Rs. 7465Rs. 8295\n",
       "1               Nike    Men React Infinity 3 Running  Rs. 11895Rs. 13995\n",
       "2             ADIDAS    Men Solar Glide 4 ST Running  Rs. 11999Rs. 14999\n",
       "3           Skechers      Men Max Cushioning Running    Rs. 7199Rs. 8999\n",
       "4           Skechers      Men Max Cushioning Running    Rs. 7199Rs. 8999\n",
       "..               ...                             ...                 ...\n",
       "95              Puma     Men KING Top Football Shoes   Rs. 7199Rs. 11999\n",
       "96  ADIDAS Originals       Men Woven NMD_31 Sneakers  Rs. 11899Rs. 13999\n",
       "97            ADIDAS      Men Dropset Training Shoes           Rs. 12999\n",
       "98            Clarks            Men Leather Slip-Ons            Rs. 9999\n",
       "99    Tommy Hilfiger                    Men Sneakers    Rs. 6799Rs. 7999\n",
       "\n",
       "[100 rows x 3 columns]"
      ]
     },
     "execution_count": 28,
     "metadata": {},
     "output_type": "execute_result"
    }
   ],
   "source": [
    "df = pd.DataFrame({'Brand':Brand,'Shoes_description':Shoes_description,'Price':Price})\n",
    "df"
   ]
  },
  {
   "cell_type": "markdown",
   "id": "05248540",
   "metadata": {},
   "source": [
    "Q8: Go to webpage https://www.amazon.in/\n",
    "Enter “Laptop” in the search field and then click the search icon.\n",
    "Then set CPU Type filter to “Intel Core i7”"
   ]
  },
  {
   "cell_type": "code",
   "execution_count": 19,
   "id": "79eba6ee",
   "metadata": {},
   "outputs": [
    {
     "data": {
      "text/plain": [
       "<selenium.webdriver.chrome.webdriver.WebDriver (session=\"e7f02e1bb09b3a6ae1144a3e7bab1da5\")>"
      ]
     },
     "execution_count": 19,
     "metadata": {},
     "output_type": "execute_result"
    }
   ],
   "source": [
    "driver= webdriver.Chrome(r\"C:\\Users\\Lenovo\\Downloads\\chromedriver_win32\\chromedriver.exe\")\n",
    "driver"
   ]
  },
  {
   "cell_type": "code",
   "execution_count": 20,
   "id": "f47b3618",
   "metadata": {},
   "outputs": [],
   "source": [
    "driver.get('https://www.amazon.in/')"
   ]
  },
  {
   "cell_type": "code",
   "execution_count": 21,
   "id": "4b4a838f",
   "metadata": {},
   "outputs": [],
   "source": [
    "search_item = driver.find_element(By.XPATH,\"//input[@class='nav-input nav-progressive-attribute']\")\n",
    "search_item.send_keys(\"laptop\")"
   ]
  },
  {
   "cell_type": "code",
   "execution_count": 24,
   "id": "af84cdb0",
   "metadata": {},
   "outputs": [],
   "source": [
    "click_search_button = driver.find_element(By.XPATH,\"//input[@id='nav-search-submit-button']\")\n",
    "click_search_button.click()\n",
    "time.sleep(3)"
   ]
  },
  {
   "cell_type": "code",
   "execution_count": 27,
   "id": "7eadc126",
   "metadata": {},
   "outputs": [],
   "source": [
    "intel_core7 = driver.find_element(By.XPATH,'/html/body/div[1]/div[2]/div[1]/div[2]/div/div[3]/span/div[1]/div/div/div[6]/ul[4]/li[12]/span/a/span')\n",
    "intel_core7.click()"
   ]
  },
  {
   "cell_type": "code",
   "execution_count": 28,
   "id": "c31ed842",
   "metadata": {},
   "outputs": [],
   "source": [
    "Title = []\n",
    "Ratings = []\n",
    "Price = []\n",
    "\n",
    "title_tags = driver.find_elements(By.XPATH,'//div[@class=\"a-section a-spacing-none puis-padding-right-small s-title-instructions-style\"]')\n",
    "for i in title_tags[0:10]:\n",
    "    Title.append(i.text)\n",
    "    \n",
    "    \n",
    "rating_tags= driver.find_elements(By.XPATH,'//span[@class=\"a-icon-alt\"]')\n",
    "for i in rating_tags[0:10]:\n",
    "    Ratings.append(i.text)\n",
    "    \n",
    "price_tags = driver.find_elements(By.XPATH,'//span[@class=\"a-offscreen\"]')\n",
    "for i in price_tags[0:10]:\n",
    "    Price.append(i.text)\n"
   ]
  },
  {
   "cell_type": "code",
   "execution_count": 29,
   "id": "c200b1d3",
   "metadata": {},
   "outputs": [
    {
     "name": "stdout",
     "output_type": "stream",
     "text": [
      "10 10 10\n"
     ]
    }
   ],
   "source": [
    "print(len(Title),len(Ratings),len(Price))"
   ]
  },
  {
   "cell_type": "code",
   "execution_count": 30,
   "id": "298e7220",
   "metadata": {},
   "outputs": [
    {
     "data": {
      "text/html": [
       "<div>\n",
       "<style scoped>\n",
       "    .dataframe tbody tr th:only-of-type {\n",
       "        vertical-align: middle;\n",
       "    }\n",
       "\n",
       "    .dataframe tbody tr th {\n",
       "        vertical-align: top;\n",
       "    }\n",
       "\n",
       "    .dataframe thead th {\n",
       "        text-align: right;\n",
       "    }\n",
       "</style>\n",
       "<table border=\"1\" class=\"dataframe\">\n",
       "  <thead>\n",
       "    <tr style=\"text-align: right;\">\n",
       "      <th></th>\n",
       "      <th>Title</th>\n",
       "      <th>Ratings</th>\n",
       "      <th>Price</th>\n",
       "    </tr>\n",
       "  </thead>\n",
       "  <tbody>\n",
       "    <tr>\n",
       "      <th>0</th>\n",
       "      <td>Samsung Galaxy Book2 Intel 12th Gen core i7 39...</td>\n",
       "      <td></td>\n",
       "      <td></td>\n",
       "    </tr>\n",
       "    <tr>\n",
       "      <th>1</th>\n",
       "      <td>ASUS Vivobook 15, 15.6-inch (39.62 cms) FHD, I...</td>\n",
       "      <td></td>\n",
       "      <td></td>\n",
       "    </tr>\n",
       "    <tr>\n",
       "      <th>2</th>\n",
       "      <td>HP Pavilion 14 12th Gen Intel Core i7 16GB SDR...</td>\n",
       "      <td></td>\n",
       "      <td></td>\n",
       "    </tr>\n",
       "    <tr>\n",
       "      <th>3</th>\n",
       "      <td>Hp Pavilion X360 11Th Gen Intel Core I7 14 Inc...</td>\n",
       "      <td></td>\n",
       "      <td></td>\n",
       "    </tr>\n",
       "    <tr>\n",
       "      <th>4</th>\n",
       "      <td>ASUS VivoBook K15 OLED (2021), 15.6-inch FHD O...</td>\n",
       "      <td></td>\n",
       "      <td></td>\n",
       "    </tr>\n",
       "    <tr>\n",
       "      <th>5</th>\n",
       "      <td>Fujitsu UH-X 11th Gen Intel Core i7 13.3” FHD ...</td>\n",
       "      <td></td>\n",
       "      <td></td>\n",
       "    </tr>\n",
       "    <tr>\n",
       "      <th>6</th>\n",
       "      <td>ASUS TUF Gaming F17 (2022), 17.3-inch (43.94 c...</td>\n",
       "      <td></td>\n",
       "      <td></td>\n",
       "    </tr>\n",
       "    <tr>\n",
       "      <th>7</th>\n",
       "      <td>Lenovo ThinkPad E14 Intel Core i7 11th Gen 14-...</td>\n",
       "      <td></td>\n",
       "      <td></td>\n",
       "    </tr>\n",
       "    <tr>\n",
       "      <th>8</th>\n",
       "      <td>ASUS Zenbook 14 OLED (2022), 14\" (35.56 cms) 2...</td>\n",
       "      <td></td>\n",
       "      <td></td>\n",
       "    </tr>\n",
       "    <tr>\n",
       "      <th>9</th>\n",
       "      <td>Samsung Galaxy Book2 360 Intel 12th Gen i7 Evo...</td>\n",
       "      <td></td>\n",
       "      <td></td>\n",
       "    </tr>\n",
       "  </tbody>\n",
       "</table>\n",
       "</div>"
      ],
      "text/plain": [
       "                                               Title Ratings Price\n",
       "0  Samsung Galaxy Book2 Intel 12th Gen core i7 39...              \n",
       "1  ASUS Vivobook 15, 15.6-inch (39.62 cms) FHD, I...              \n",
       "2  HP Pavilion 14 12th Gen Intel Core i7 16GB SDR...              \n",
       "3  Hp Pavilion X360 11Th Gen Intel Core I7 14 Inc...              \n",
       "4  ASUS VivoBook K15 OLED (2021), 15.6-inch FHD O...              \n",
       "5  Fujitsu UH-X 11th Gen Intel Core i7 13.3” FHD ...              \n",
       "6  ASUS TUF Gaming F17 (2022), 17.3-inch (43.94 c...              \n",
       "7  Lenovo ThinkPad E14 Intel Core i7 11th Gen 14-...              \n",
       "8  ASUS Zenbook 14 OLED (2022), 14\" (35.56 cms) 2...              \n",
       "9  Samsung Galaxy Book2 360 Intel 12th Gen i7 Evo...              "
      ]
     },
     "execution_count": 30,
     "metadata": {},
     "output_type": "execute_result"
    }
   ],
   "source": [
    "df = pd.DataFrame({'Title':Title,'Ratings':Ratings,'Price':Price})\n",
    "df"
   ]
  },
  {
   "cell_type": "markdown",
   "id": "41798609",
   "metadata": {},
   "source": [
    "Q9: Write a python program to scrape data for first 10 job results for Data Scientist Designation in Noida \n",
    "location. You have to scrape company name, No. of days ago when job was posted, Rating of the company. \n",
    "This task will be done in following steps:"
   ]
  },
  {
   "cell_type": "code",
   "execution_count": 82,
   "id": "2e43d62f",
   "metadata": {},
   "outputs": [
    {
     "data": {
      "text/plain": [
       "<selenium.webdriver.chrome.webdriver.WebDriver (session=\"ca56ef138804193e8490235ab422f68f\")>"
      ]
     },
     "execution_count": 82,
     "metadata": {},
     "output_type": "execute_result"
    }
   ],
   "source": [
    "driver= webdriver.Chrome(r\"C:\\Users\\Lenovo\\Downloads\\chromedriver_win32\\chromedriver.exe\")\n",
    "driver"
   ]
  },
  {
   "cell_type": "code",
   "execution_count": 83,
   "id": "d562f3e4",
   "metadata": {},
   "outputs": [],
   "source": [
    "driver.get('https://www.ambitionbox.com/')"
   ]
  },
  {
   "cell_type": "code",
   "execution_count": 85,
   "id": "77eaf065",
   "metadata": {},
   "outputs": [],
   "source": [
    "jobs = driver.find_element(By.XPATH,'//a[@class=\"navItemLink\"]')\n",
    "jobs.click()"
   ]
  },
  {
   "cell_type": "code",
   "execution_count": 86,
   "id": "b6b0a2a0",
   "metadata": {},
   "outputs": [],
   "source": [
    "designation = driver.find_element(By.XPATH,'/html/body/div/div/div/div[2]/div[1]/div[1]/div/div/div/div/span/input')\n",
    "designation.send_keys(\"Data Scientist\")"
   ]
  },
  {
   "cell_type": "code",
   "execution_count": 87,
   "id": "593c8432",
   "metadata": {},
   "outputs": [],
   "source": [
    "search = driver.find_element(By.XPATH,\"/html/body/div/div/div/div[2]/div[1]/div[1]/div/div/div/button/span\")\n",
    "search.click()"
   ]
  },
  {
   "cell_type": "code",
   "execution_count": 89,
   "id": "e0c350f2",
   "metadata": {},
   "outputs": [],
   "source": [
    "location = driver.find_element(By.XPATH,\"/html/body/div/div/div/div[2]/div[1]/div[2]/div[1]/div/div/div/div[2]/div[1]/i\")\n",
    "location.click()"
   ]
  },
  {
   "cell_type": "code",
   "execution_count": 90,
   "id": "b381effd",
   "metadata": {},
   "outputs": [],
   "source": [
    "enter_location = driver.find_element(By.XPATH,\"/html/body/div/div/div/div[2]/div[1]/div[2]/div[1]/div/div/div/div[2]/div[2]/div/div[2]/input\")\n",
    "enter_location.send_keys(\"Noida\")\n"
   ]
  },
  {
   "cell_type": "code",
   "execution_count": 93,
   "id": "eab9a26a",
   "metadata": {},
   "outputs": [],
   "source": [
    "city = driver.find_element(By.XPATH,\"/html/body/div/div/div/div[2]/div[1]/div[2]/div[1]/div/div/div/div[2]/div[2]/div/div[3]/div[1]/div[1]/div/label\")\n",
    "city.click()"
   ]
  },
  {
   "cell_type": "code",
   "execution_count": 95,
   "id": "cb7435fb",
   "metadata": {},
   "outputs": [],
   "source": [
    "Company_name = []\n",
    "Company_rating = []\n",
    "No_days_of_job_posted = []\n",
    "\n",
    "company = driver.find_elements(By.XPATH,\"//p[@class='company body-medium']\")\n",
    "for i in company[0:10] : \n",
    "    Company_name.append(i.text)\n",
    "    \n",
    "rating = driver.find_elements(By.XPATH,\"//span[@class='body-small']\")\n",
    "for i in rating [0:10]: \n",
    "    Company_rating.append(i.text)\n",
    "\n",
    "day_of_job_posted = driver.find_elements(By.XPATH,\"//span[@class='body-small-l']\")\n",
    "for i in day_of_job_posted[0:10] : \n",
    "    No_days_of_job_posted.append(i.text)\n"
   ]
  },
  {
   "cell_type": "code",
   "execution_count": 96,
   "id": "8d5d1697",
   "metadata": {},
   "outputs": [
    {
     "name": "stdout",
     "output_type": "stream",
     "text": [
      "10 10 10\n"
     ]
    }
   ],
   "source": [
    "print(len(Company_name),len(Company_rating),len(No_days_of_job_posted))"
   ]
  },
  {
   "cell_type": "code",
   "execution_count": 98,
   "id": "c085277a",
   "metadata": {},
   "outputs": [
    {
     "data": {
      "text/html": [
       "<div>\n",
       "<style scoped>\n",
       "    .dataframe tbody tr th:only-of-type {\n",
       "        vertical-align: middle;\n",
       "    }\n",
       "\n",
       "    .dataframe tbody tr th {\n",
       "        vertical-align: top;\n",
       "    }\n",
       "\n",
       "    .dataframe thead th {\n",
       "        text-align: right;\n",
       "    }\n",
       "</style>\n",
       "<table border=\"1\" class=\"dataframe\">\n",
       "  <thead>\n",
       "    <tr style=\"text-align: right;\">\n",
       "      <th></th>\n",
       "      <th>Company Name</th>\n",
       "      <th>Company Rating</th>\n",
       "      <th>No days of job posted</th>\n",
       "    </tr>\n",
       "  </thead>\n",
       "  <tbody>\n",
       "    <tr>\n",
       "      <th>0</th>\n",
       "      <td>CBRE South Asia Pvt Ltd</td>\n",
       "      <td>4.3</td>\n",
       "      <td>8d ago</td>\n",
       "    </tr>\n",
       "    <tr>\n",
       "      <th>1</th>\n",
       "      <td>GENPACT India Private Limited</td>\n",
       "      <td>4.0</td>\n",
       "      <td>via naukri.com</td>\n",
       "    </tr>\n",
       "    <tr>\n",
       "      <th>2</th>\n",
       "      <td>Genpact</td>\n",
       "      <td>4.0</td>\n",
       "      <td>23hr ago</td>\n",
       "    </tr>\n",
       "    <tr>\n",
       "      <th>3</th>\n",
       "      <td>Ericsson India Global Services Pvt. Ltd.</td>\n",
       "      <td>4.3</td>\n",
       "      <td>via naukri.com</td>\n",
       "    </tr>\n",
       "    <tr>\n",
       "      <th>4</th>\n",
       "      <td>GENPACT India Private Limited</td>\n",
       "      <td>4.0</td>\n",
       "      <td>3d ago</td>\n",
       "    </tr>\n",
       "    <tr>\n",
       "      <th>5</th>\n",
       "      <td>Optum Global Solutions (India) Private Limited</td>\n",
       "      <td>4.1</td>\n",
       "      <td>via iimjobs.com</td>\n",
       "    </tr>\n",
       "    <tr>\n",
       "      <th>6</th>\n",
       "      <td>Optum Global Solutions (India) Private Limited</td>\n",
       "      <td>4.1</td>\n",
       "      <td>18d ago</td>\n",
       "    </tr>\n",
       "    <tr>\n",
       "      <th>7</th>\n",
       "      <td>Ericsson India Global Services Pvt. Ltd.</td>\n",
       "      <td>4.3</td>\n",
       "      <td>via naukri.com</td>\n",
       "    </tr>\n",
       "    <tr>\n",
       "      <th>8</th>\n",
       "      <td>SOPRA STERIA INDIA LIMITED</td>\n",
       "      <td>4.2</td>\n",
       "      <td>11d ago</td>\n",
       "    </tr>\n",
       "    <tr>\n",
       "      <th>9</th>\n",
       "      <td>EXL Services.com ( I ) Pvt. Ltd.</td>\n",
       "      <td>3.9</td>\n",
       "      <td>via naukri.com</td>\n",
       "    </tr>\n",
       "  </tbody>\n",
       "</table>\n",
       "</div>"
      ],
      "text/plain": [
       "                                     Company Name Company Rating  \\\n",
       "0                         CBRE South Asia Pvt Ltd            4.3   \n",
       "1                   GENPACT India Private Limited            4.0   \n",
       "2                                         Genpact            4.0   \n",
       "3        Ericsson India Global Services Pvt. Ltd.            4.3   \n",
       "4                   GENPACT India Private Limited            4.0   \n",
       "5  Optum Global Solutions (India) Private Limited            4.1   \n",
       "6  Optum Global Solutions (India) Private Limited            4.1   \n",
       "7        Ericsson India Global Services Pvt. Ltd.            4.3   \n",
       "8                      SOPRA STERIA INDIA LIMITED            4.2   \n",
       "9                EXL Services.com ( I ) Pvt. Ltd.            3.9   \n",
       "\n",
       "  No days of job posted  \n",
       "0                8d ago  \n",
       "1        via naukri.com  \n",
       "2              23hr ago  \n",
       "3        via naukri.com  \n",
       "4                3d ago  \n",
       "5       via iimjobs.com  \n",
       "6               18d ago  \n",
       "7        via naukri.com  \n",
       "8               11d ago  \n",
       "9        via naukri.com  "
      ]
     },
     "execution_count": 98,
     "metadata": {},
     "output_type": "execute_result"
    }
   ],
   "source": [
    "data = pd.DataFrame({'Company Name':Company_name,'Company Rating':Company_rating,'No days of job posted':No_days_of_job_posted})\n",
    "\n",
    "data"
   ]
  },
  {
   "cell_type": "markdown",
   "id": "7b4c8e0d",
   "metadata": {},
   "source": [
    "Q10: Write a python program to scrape the salary data for Data Scientist designation.\n",
    "You have to scrape Company name, Number of salaries, Average salary, Minsalary, Max Salary. "
   ]
  },
  {
   "cell_type": "code",
   "execution_count": 55,
   "id": "40eab288",
   "metadata": {},
   "outputs": [
    {
     "data": {
      "text/plain": [
       "<selenium.webdriver.chrome.webdriver.WebDriver (session=\"ee78d50135242e86004487b2fa09ead4\")>"
      ]
     },
     "execution_count": 55,
     "metadata": {},
     "output_type": "execute_result"
    }
   ],
   "source": [
    "driver= webdriver.Chrome(r\"C:\\Users\\Lenovo\\Downloads\\chromedriver_win32\\chromedriver.exe\")\n",
    "driver"
   ]
  },
  {
   "cell_type": "code",
   "execution_count": 66,
   "id": "a0159427",
   "metadata": {},
   "outputs": [],
   "source": [
    "driver.get('https://www.ambitionbox.com/')"
   ]
  },
  {
   "cell_type": "code",
   "execution_count": 67,
   "id": "66817b8a",
   "metadata": {},
   "outputs": [],
   "source": [
    "click_on_salaries = driver.find_element(By.XPATH,'/html/body/div[1]/nav[2]/div/ul/li[3]/a')\n",
    "click_on_salaries.click()"
   ]
  },
  {
   "cell_type": "code",
   "execution_count": 68,
   "id": "83502147",
   "metadata": {},
   "outputs": [],
   "source": [
    "browse_salaries=driver.find_element(By.XPATH,'/html/body/div[1]/nav[2]/div/ul/li[3]/div/ul/li[1]/div/div[2]/a')\n",
    "browse_salaries.click()"
   ]
  },
  {
   "cell_type": "code",
   "execution_count": 69,
   "id": "75d5eabd",
   "metadata": {},
   "outputs": [],
   "source": [
    "search_item = driver.find_element(By.XPATH,'/html/body/div/div/div/div[2]/div/div/div/div[1]/span/input')\n",
    "search_item.send_keys(\"Data Scientist\")"
   ]
  },
  {
   "cell_type": "code",
   "execution_count": 70,
   "id": "b8e36bf3",
   "metadata": {},
   "outputs": [],
   "source": [
    "search_button = driver.find_element(By.XPATH,'/html/body/div/div/div/div[2]/div/div/div/button')\n",
    "search_button.click()"
   ]
  },
  {
   "cell_type": "code",
   "execution_count": 80,
   "id": "6cd83550",
   "metadata": {},
   "outputs": [],
   "source": [
    "Company_name = []\n",
    "Salary_records = []\n",
    "Average_Salary = []\n",
    "Minimum_Salary = []\n",
    "Maximum_Salary = []\n",
    "\n",
    "company_tags = driver.find_elements(By.XPATH,'//div[@class=\"company-info\"]')\n",
    "for i in company_tags[0:10] : \n",
    "    Company_name.append(i.text)\n",
    "    \n",
    "    \n"
   ]
  },
  {
   "cell_type": "code",
   "execution_count": 81,
   "id": "8617a078",
   "metadata": {},
   "outputs": [],
   "source": [
    "salary_tags = driver.find_elements(By.XPATH,'//span[@class=\"datapoints\"]')\n",
    "for i in salary_tags[0:10]: \n",
    "    Salary_records.append(i.text)\n",
    "    \n"
   ]
  },
  {
   "cell_type": "code",
   "execution_count": 82,
   "id": "4593ed16",
   "metadata": {},
   "outputs": [],
   "source": [
    "avg_salary_tags = driver.find_elements(By.XPATH,'//div[@class=\"average-indicator-wrapper\"]')\n",
    "for i in avg_salary_tags[0:10] : \n",
    "    Average_Salary.append(i.text)\n",
    "    \n"
   ]
  },
  {
   "cell_type": "code",
   "execution_count": 83,
   "id": "779f1711",
   "metadata": {},
   "outputs": [],
   "source": [
    "min_salary_tags = driver.find_elements(By.XPATH,'//div[@class=\"value body-medium\"]')\n",
    "for i in min_salary_tags[0:10] : \n",
    "    Minimum_Salary.append(i.text) \n",
    "    \n",
    "    \n",
    "\n"
   ]
  },
  {
   "cell_type": "code",
   "execution_count": 84,
   "id": "c085c8da",
   "metadata": {},
   "outputs": [],
   "source": [
    "max_salary_tags = driver.find_elements(By.XPATH,'//div[@class=\"value body-medium\"]')\n",
    "for i in max_salary_tags[0:10] : \n",
    "    Maximum_Salary.append(i.text) "
   ]
  },
  {
   "cell_type": "code",
   "execution_count": 85,
   "id": "9663366f",
   "metadata": {},
   "outputs": [
    {
     "name": "stdout",
     "output_type": "stream",
     "text": [
      "0 0 0 0 0\n"
     ]
    }
   ],
   "source": [
    "print(len(Company_name),len(Salary_records),len(Average_Salary),len(Minimum_Salary),len(Maximum_Salary))"
   ]
  },
  {
   "cell_type": "code",
   "execution_count": 86,
   "id": "f7415e78",
   "metadata": {},
   "outputs": [
    {
     "data": {
      "text/html": [
       "<div>\n",
       "<style scoped>\n",
       "    .dataframe tbody tr th:only-of-type {\n",
       "        vertical-align: middle;\n",
       "    }\n",
       "\n",
       "    .dataframe tbody tr th {\n",
       "        vertical-align: top;\n",
       "    }\n",
       "\n",
       "    .dataframe thead th {\n",
       "        text-align: right;\n",
       "    }\n",
       "</style>\n",
       "<table border=\"1\" class=\"dataframe\">\n",
       "  <thead>\n",
       "    <tr style=\"text-align: right;\">\n",
       "      <th></th>\n",
       "      <th>Company name</th>\n",
       "      <th>Total Salary</th>\n",
       "      <th>Average Salary</th>\n",
       "      <th>Minimum Salary</th>\n",
       "      <th>Maximum Salary</th>\n",
       "    </tr>\n",
       "  </thead>\n",
       "  <tbody>\n",
       "  </tbody>\n",
       "</table>\n",
       "</div>"
      ],
      "text/plain": [
       "Empty DataFrame\n",
       "Columns: [Company name, Total Salary, Average Salary, Minimum Salary, Maximum Salary]\n",
       "Index: []"
      ]
     },
     "execution_count": 86,
     "metadata": {},
     "output_type": "execute_result"
    }
   ],
   "source": [
    "df = pd.DataFrame({'Company name':Company_name,'Total Salary':Salary_records,'Average Salary':Average_Salary,'Minimum Salary':Minimum_Salary,'Maximum Salary':Maximum_Salary})\n",
    "df"
   ]
  },
  {
   "cell_type": "code",
   "execution_count": null,
   "id": "169cef30",
   "metadata": {},
   "outputs": [],
   "source": []
  },
  {
   "cell_type": "code",
   "execution_count": null,
   "id": "ba001e85",
   "metadata": {},
   "outputs": [],
   "source": []
  },
  {
   "cell_type": "code",
   "execution_count": null,
   "id": "22de61d2",
   "metadata": {},
   "outputs": [],
   "source": []
  },
  {
   "cell_type": "code",
   "execution_count": null,
   "id": "84ea4810",
   "metadata": {},
   "outputs": [],
   "source": []
  },
  {
   "cell_type": "code",
   "execution_count": null,
   "id": "698c9260",
   "metadata": {},
   "outputs": [],
   "source": []
  },
  {
   "cell_type": "code",
   "execution_count": null,
   "id": "4a7ada7c",
   "metadata": {},
   "outputs": [],
   "source": []
  },
  {
   "cell_type": "code",
   "execution_count": null,
   "id": "bc1d7b54",
   "metadata": {},
   "outputs": [],
   "source": []
  },
  {
   "cell_type": "code",
   "execution_count": null,
   "id": "4dbe081b",
   "metadata": {},
   "outputs": [],
   "source": []
  },
  {
   "cell_type": "code",
   "execution_count": null,
   "id": "0c66acf3",
   "metadata": {},
   "outputs": [],
   "source": []
  },
  {
   "cell_type": "code",
   "execution_count": null,
   "id": "c5bf9d28",
   "metadata": {},
   "outputs": [],
   "source": []
  },
  {
   "cell_type": "code",
   "execution_count": null,
   "id": "0ac0252a",
   "metadata": {},
   "outputs": [],
   "source": []
  },
  {
   "cell_type": "code",
   "execution_count": null,
   "id": "a790ea4b",
   "metadata": {},
   "outputs": [],
   "source": []
  },
  {
   "cell_type": "code",
   "execution_count": null,
   "id": "c76a6f1f",
   "metadata": {},
   "outputs": [],
   "source": []
  },
  {
   "cell_type": "code",
   "execution_count": null,
   "id": "af6048d8",
   "metadata": {},
   "outputs": [],
   "source": []
  },
  {
   "cell_type": "code",
   "execution_count": null,
   "id": "ebf67c6e",
   "metadata": {},
   "outputs": [],
   "source": []
  },
  {
   "cell_type": "code",
   "execution_count": null,
   "id": "4e8d3f47",
   "metadata": {},
   "outputs": [],
   "source": []
  },
  {
   "cell_type": "code",
   "execution_count": null,
   "id": "b78b9513",
   "metadata": {},
   "outputs": [],
   "source": []
  },
  {
   "cell_type": "code",
   "execution_count": null,
   "id": "aef5229b",
   "metadata": {},
   "outputs": [],
   "source": []
  },
  {
   "cell_type": "code",
   "execution_count": null,
   "id": "9b13c46c",
   "metadata": {},
   "outputs": [],
   "source": []
  },
  {
   "cell_type": "code",
   "execution_count": null,
   "id": "06d093e9",
   "metadata": {},
   "outputs": [],
   "source": []
  }
 ],
 "metadata": {
  "kernelspec": {
   "display_name": "Python 3 (ipykernel)",
   "language": "python",
   "name": "python3"
  },
  "language_info": {
   "codemirror_mode": {
    "name": "ipython",
    "version": 3
   },
   "file_extension": ".py",
   "mimetype": "text/x-python",
   "name": "python",
   "nbconvert_exporter": "python",
   "pygments_lexer": "ipython3",
   "version": "3.9.7"
  }
 },
 "nbformat": 4,
 "nbformat_minor": 5
}
